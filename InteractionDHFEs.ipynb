{
 "cells": [
  {
   "cell_type": "code",
   "execution_count": 1,
   "id": "98881598-75ca-4297-a810-dff17016b938",
   "metadata": {},
   "outputs": [],
   "source": [
    "import math\n",
    "from math import *\n",
    "from Archimedean import *\n",
    "from DHFEs import *"
   ]
  },
  {
   "cell_type": "code",
   "execution_count": 103,
   "id": "6ef16bb6-4d36-4cc5-9f53-64e3028aee93",
   "metadata": {},
   "outputs": [],
   "source": [
    "class InteractionDHIFE(DHIFE):\n",
    "    def Interaction_Algebraic_Power(self,l):\n",
    "        newDHIFE = DHIFE([],[])\n",
    "        for md in self.MD:\n",
    "            for nmd in self.NMD:\n",
    "                nMD = in_algebraic_s(l*algebraic_s(md+nmd))-in_algebraic_s(l*algebraic_s(nmd))\n",
    "                nNMD = in_algebraic_s(l*algebraic_s(nmd))\n",
    "                if nMD+nNMD>1:\n",
    "                    continue\n",
    "                else:\n",
    "                    newDHIFE.MD.append(nMD)\n",
    "                    newDHIFE.NMD.append(nNMD)\n",
    "        return newDHIFE\n",
    "                \n",
    "                \n",
    "                \n",
    "                \n",
    "                \n",
    "                \n",
    "                \n",
    "                \n",
    "                \n",
    "                \n",
    "                \n"
   ]
  },
  {
   "cell_type": "code",
   "execution_count": 111,
   "id": "7538ce96-e144-490f-a7bc-6f17819f6065",
   "metadata": {},
   "outputs": [],
   "source": [
    "s = InteractionDHIFE([0.8],[0.1,0.15])"
   ]
  },
  {
   "cell_type": "code",
   "execution_count": 112,
   "id": "0f880804-e3c8-4d4a-8015-05c62a0e4de6",
   "metadata": {},
   "outputs": [
    {
     "data": {
      "text/plain": [
       "0.6061249999999999"
      ]
     },
     "execution_count": 112,
     "metadata": {},
     "output_type": "execute_result"
    }
   ],
   "source": [
    "in_algebraic_s(3*algebraic_s(0.8))-in_algebraic_s(3*algebraic_s(0.15))"
   ]
  },
  {
   "cell_type": "code",
   "execution_count": 113,
   "id": "0c6d37d7-e058-4651-84cb-514362ba9d70",
   "metadata": {},
   "outputs": [
    {
     "data": {
      "text/plain": [
       "0.3858750000000001"
      ]
     },
     "execution_count": 113,
     "metadata": {},
     "output_type": "execute_result"
    }
   ],
   "source": [
    "in_algebraic_s(3*algebraic_s(0.15))"
   ]
  },
  {
   "cell_type": "code",
   "execution_count": null,
   "id": "a6d234d9-a909-49bb-9ff9-02d1466d79cb",
   "metadata": {},
   "outputs": [],
   "source": []
  },
  {
   "cell_type": "code",
   "execution_count": 114,
   "id": "ff6b8709-b2b9-42ea-b066-ad987f030bfc",
   "metadata": {},
   "outputs": [
    {
     "name": "stdout",
     "output_type": "stream",
     "text": [
      "[[0.8], [0.1, 0.15]]\n"
     ]
    }
   ],
   "source": [
    "s.show()"
   ]
  },
  {
   "cell_type": "code",
   "execution_count": 132,
   "id": "096124ae-63ca-4f3e-8bc8-6469166f02a6",
   "metadata": {},
   "outputs": [],
   "source": [
    "p = s.Interaction_Algebraic_Power(2)"
   ]
  },
  {
   "cell_type": "code",
   "execution_count": 134,
   "id": "a889ddf2-6b13-40c8-a368-89996e8fab3d",
   "metadata": {},
   "outputs": [
    {
     "name": "stdout",
     "output_type": "stream",
     "text": [
      "[[0.8, 0.72], [0.18999999999999995, 0.2775000000000001]]\n"
     ]
    }
   ],
   "source": [
    "p.show()"
   ]
  },
  {
   "cell_type": "code",
   "execution_count": 137,
   "id": "e7bd575c-f7c7-4b1a-b330-ebfa872ef636",
   "metadata": {},
   "outputs": [
    {
     "data": {
      "text/plain": [
       "(0.8, 0.18999999999999995)"
      ]
     },
     "execution_count": 137,
     "metadata": {},
     "output_type": "execute_result"
    }
   ],
   "source": [
    "pow(0.9,2)-pow(0.1,2),1-0.81"
   ]
  },
  {
   "cell_type": "code",
   "execution_count": 143,
   "id": "06a94756-563d-459b-9ba4-99c16198743b",
   "metadata": {},
   "outputs": [
    {
     "data": {
      "text/plain": [
       "(0.72, 0.2775000000000001)"
      ]
     },
     "execution_count": 143,
     "metadata": {},
     "output_type": "execute_result"
    }
   ],
   "source": [
    "pow(1-0.15,2)-pow(0.05,2),1-pow(1-0.15,2)"
   ]
  },
  {
   "cell_type": "code",
   "execution_count": null,
   "id": "875a55af-4785-4451-bed4-5b9fc1b5ac46",
   "metadata": {},
   "outputs": [],
   "source": []
  },
  {
   "cell_type": "code",
   "execution_count": 158,
   "id": "46b44300-2674-40c0-8e74-5b7842038aec",
   "metadata": {},
   "outputs": [],
   "source": [
    "b1 = DHIFE([0.7,0.6,0.5,0.44],[0.2,0.1,0.22])\n",
    "b2 = DHIFE([0.5,0.6],[0.3,0.24])"
   ]
  },
  {
   "cell_type": "code",
   "execution_count": 160,
   "id": "a761c220-de08-4abf-8805-6a38d579f8f8",
   "metadata": {},
   "outputs": [
    {
     "name": "stdout",
     "output_type": "stream",
     "text": [
      "[[0.7, 0.6, 0.5, 0.44], [0.2, 0.1, 0.22]]\n",
      "[[0.5, 0.6], [0.3, 0.24]]\n"
     ]
    },
    {
     "data": {
      "text/plain": [
       "(None, None)"
      ]
     },
     "execution_count": 160,
     "metadata": {},
     "output_type": "execute_result"
    }
   ],
   "source": [
    "b1.show(),b2.show()"
   ]
  },
  {
   "cell_type": "code",
   "execution_count": 169,
   "id": "ee3c7d0f-41cb-4ca4-9bef-062b6c5924a6",
   "metadata": {},
   "outputs": [],
   "source": [
    "ss = DHIFE_Einstein_Plus(b1,b2)"
   ]
  },
  {
   "cell_type": "code",
   "execution_count": 170,
   "id": "925a3fcf-77d7-4641-b900-6874ad83dcaf",
   "metadata": {},
   "outputs": [
    {
     "data": {
      "text/plain": [
       "0.9581837727529471"
      ]
     },
     "execution_count": 170,
     "metadata": {},
     "output_type": "execute_result"
    }
   ],
   "source": [
    "max(ss.MD)+max(ss.NMD)"
   ]
  },
  {
   "cell_type": "code",
   "execution_count": 171,
   "id": "623deff3-8a62-43d2-9dde-40484ae6590a",
   "metadata": {},
   "outputs": [],
   "source": [
    "d = InteractionIFN(0.6,0.3)"
   ]
  },
  {
   "cell_type": "code",
   "execution_count": 174,
   "id": "e2d06c19-170a-4f75-931e-b7a65971a7f5",
   "metadata": {},
   "outputs": [
    {
     "name": "stdout",
     "output_type": "stream",
     "text": [
      "(0.84, 0.08999999999999997)\n"
     ]
    }
   ],
   "source": [
    "d.Algebraic_Times(2).show()"
   ]
  },
  {
   "cell_type": "code",
   "execution_count": null,
   "id": "a5babb0b-7a66-4f6b-a46c-73be7a592887",
   "metadata": {},
   "outputs": [],
   "source": []
  },
  {
   "cell_type": "code",
   "execution_count": null,
   "id": "9579f84c-3dca-4eb9-8855-dae3e1e4d922",
   "metadata": {},
   "outputs": [],
   "source": []
  },
  {
   "cell_type": "code",
   "execution_count": null,
   "id": "ee56bb23-bb71-4456-8435-d15db552dbaf",
   "metadata": {},
   "outputs": [],
   "source": []
  }
 ],
 "metadata": {
  "kernelspec": {
   "display_name": "Python 3 (ipykernel)",
   "language": "python",
   "name": "python3"
  },
  "language_info": {
   "codemirror_mode": {
    "name": "ipython",
    "version": 3
   },
   "file_extension": ".py",
   "mimetype": "text/x-python",
   "name": "python",
   "nbconvert_exporter": "python",
   "pygments_lexer": "ipython3",
   "version": "3.8.12"
  }
 },
 "nbformat": 4,
 "nbformat_minor": 5
}
