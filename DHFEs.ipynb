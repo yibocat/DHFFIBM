{
 "cells": [
  {
   "cell_type": "code",
   "execution_count": 1,
   "id": "18adffac-91e4-4b6c-b3fe-7ed91ab0526e",
   "metadata": {},
   "outputs": [],
   "source": [
    "from InteractionFNs import *\n",
    "from FNs import *\n",
    "import math\n",
    "from math import pow\n",
    "from Archimedean import *"
   ]
  },
  {
   "cell_type": "code",
   "execution_count": 2,
   "id": "9ab305d5-8b2e-4879-8fc6-69493ac80ce5",
   "metadata": {},
   "outputs": [],
   "source": [
    "## Hesitant Fuzzy Elements\n",
    "class HFE:\n",
    "    def __init__(self,MD):\n",
    "        self.MD = MD\n",
    "    \n",
    "    def show(self):\n",
    "        print([self.MD])\n",
    "        \n",
    "    ## Algebraic Basic Operations\n",
    "    def Algebraic_Power(self,l):\n",
    "        newHFE = HFE([])\n",
    "        for md in self.MD:\n",
    "            newHFE.MD.append(in_algebraic_tau(l*algebraic_tau(md)))\n",
    "        return newHFE\n",
    "    def Algebraic_Times(self,l):\n",
    "        newHFE = HFE([])\n",
    "        for md in self.MD:\n",
    "            newHFE.MD.append(in_algebraic_s(l*algebraic_s(md)))\n",
    "        return newHFE\n",
    "    \n",
    "    ## Einstein Basic Operations\n",
    "    def Einstein_Power(self,l):\n",
    "        newHFE = HFE([])\n",
    "        for md in self.MD:\n",
    "            newHFE.MD.append(in_einstein_tau(l*einstein_tau(md)))\n",
    "        return newHFE\n",
    "    def Einstein_Times(self,l):\n",
    "        newHFE = HFE([])\n",
    "        for md in self.MD:\n",
    "            newHFE.MD.append(in_einstein_s(l*einstein_s(md)))\n",
    "        return newHFE"
   ]
  },
  {
   "cell_type": "code",
   "execution_count": 3,
   "id": "5dbefdf7-e44a-496e-9de5-49a39a4d07cc",
   "metadata": {},
   "outputs": [],
   "source": [
    "## Dual Hesitant Intuitionistic Fuzzy Elements\n",
    "class DHIFE:\n",
    "    def __init__(self,MD,NMD):\n",
    "        self.MD = MD\n",
    "        self.NMD = NMD\n",
    "    \n",
    "    def show(self):\n",
    "        print([self.MD,self.NMD])\n",
    "        \n",
    "    ## Algebraic Basic Operations\n",
    "    def Algebraic_Power(self,l):\n",
    "        newDHIFE = DHIFE([],[])\n",
    "        for md in self.MD:\n",
    "            newDHIFE.MD.append(in_algebraic_tau(l*algebraic_tau(md)))\n",
    "        for nmd in self.NMD:\n",
    "            newDHIFE.NMD.append(in_algebraic_s(l*algebraic_s(nmd)))\n",
    "        return newDHIFE\n",
    "    def Algebraic_Times(self,l):\n",
    "        newDHIFE = DHIFE([],[])\n",
    "        for md in self.MD:\n",
    "            newDHIFE.MD.append(in_algebraic_s(l*algebraic_s(md)))\n",
    "        for nmd in self.NMD:\n",
    "            newDHIFE.NMD.append(in_algebraic_tau(l*algebraic_tau(nmd)))\n",
    "        return newDHIFE\n",
    "    \n",
    "    ## Einstein Basic Operations\n",
    "    def Einstein_Power(self,l):\n",
    "        newDHIFE = DHIFE([],[])\n",
    "        for md in self.MD:\n",
    "            newDHIFE.MD.append(in_einstein_tau(l*einstein_tau(md)))\n",
    "        for nmd in self.NMD:\n",
    "            newDHIFE.NMD.append(in_einstein_s(l*einstein_s(nmd)))\n",
    "        return newDHIFE\n",
    "    def Einstein_Times(self,l):\n",
    "        newDHIFE = DHIFE([],[])\n",
    "        for md in self.MD:\n",
    "            newDHIFE.MD.append(in_einstein_s(l*einstein_s(md)))\n",
    "        for nmd in self.NMD:\n",
    "            newDHIFE.NMD.append(in_einstein_tau(l*einstein_tau(nmd)))\n",
    "        return newDHIFE"
   ]
  },
  {
   "cell_type": "code",
   "execution_count": 4,
   "id": "4dcdcf93-b9c0-4f17-a39a-9f41fe2165e4",
   "metadata": {},
   "outputs": [],
   "source": [
    "## Dual Hesitant Pythagorean Fuzzy Elements\n",
    "class DHPFE:\n",
    "    def __init__(self,MD,NMD):\n",
    "        self.MD = MD\n",
    "        self.NMD = NMD\n",
    "    \n",
    "    def show(self):\n",
    "        print([self.MD,self.NMD])\n",
    "        \n",
    "    ## Algebraic Basic Operations\n",
    "    def Algebraic_Power(self,l):\n",
    "        newDHPFE = DHPFE([],[])\n",
    "        for md in self.MD:\n",
    "            newDHPFE.MD.append(pow(in_algebraic_tau(l*algebraic_tau(pow(md,2))),1/2))\n",
    "        for nmd in self.NMD:\n",
    "            newDHPFE.NMD.append(pow(in_algebraic_s(l*algebraic_s(pow(nmd,2))),1/2))\n",
    "        return newDHPFE\n",
    "    def Algebraic_Times(self,l):\n",
    "        newDHPFE = DHPFE([],[])\n",
    "        for md in self.MD:\n",
    "            newDHPFE.MD.append(pow(in_algebraic_s(l*algebraic_s(pow(md,2))),1/2))\n",
    "        for nmd in self.NMD:\n",
    "            newDHPFE.NMD.append(pow(in_algebraic_tau(l*algebraic_tau(pow(nmd,2))),1/2))\n",
    "        return newDHPFE\n",
    "    \n",
    "    ## Einstein Basic Operations\n",
    "    def Einstein_Power(self,l):\n",
    "        newDHPFE = DHPFE([],[])\n",
    "        for md in self.MD:\n",
    "            newDHPFE.MD.append(pow(in_einstein_tau(l*einstein_tau(pow(md,2))),1/2))\n",
    "        for nmd in self.NMD:\n",
    "            newDHPFE.NMD.append(pow(in_einstein_s(l*einstein_s(pow(nmd,2))),1/2))\n",
    "        return newDHPFE\n",
    "    def Einstein_Times(self,l):\n",
    "        newDHPFE = DHPFE([],[])\n",
    "        for md in self.MD:\n",
    "            newDHPFE.MD.append(pow(in_einstein_s(l*einstein_s(pow(md,2))),1/2))\n",
    "        for nmd in self.NMD:\n",
    "            newDHPFE.NMD.append(pow(in_einstein_tau(l*einstein_tau(pow(nmd,2))),1/2))\n",
    "        return newDHPFE"
   ]
  },
  {
   "cell_type": "code",
   "execution_count": 5,
   "id": "ee0459d6-41c8-4c92-8d19-727a8e8b0f0d",
   "metadata": {},
   "outputs": [],
   "source": [
    "## Dual Hesitant Fermatean Fuzzy Elements\n",
    "class DHFFE:\n",
    "    def __init__(self,MD,NMD):\n",
    "        self.MD = MD\n",
    "        self.NMD = NMD\n",
    "    \n",
    "    def show(self):\n",
    "        print([self.MD,self.NMD])\n",
    "        \n",
    "    ## Algebraic Basic Operations\n",
    "    def Algebraic_Power(self,l):\n",
    "        newDHFFE = DHFFE([],[])\n",
    "        for md in self.MD:\n",
    "            newDHFFE.MD.append(pow(in_algebraic_tau(l*algebraic_tau(pow(md,3))),1/3))\n",
    "        for nmd in self.NMD:\n",
    "            newDHFFE.NMD.append(pow(in_algebraic_s(l*algebraic_s(pow(nmd,3))),1/3))\n",
    "        return newDHFFE\n",
    "    def Algebraic_Times(self,l):\n",
    "        newDHFFE = DHFFE([],[])\n",
    "        for md in self.MD:\n",
    "            newDHFFE.MD.append(pow(in_algebraic_s(l*algebraic_s(pow(md,3))),1/3))\n",
    "        for nmd in self.NMD:\n",
    "            newDHFFE.NMD.append(pow(in_algebraic_tau(l*algebraic_tau(pow(nmd,3))),1/3))\n",
    "        return newDHFFE\n",
    "    \n",
    "    ## Einstein Basic Operations\n",
    "    def Einstein_Power(self,l):\n",
    "        newDHFFE = DHFFE([],[])\n",
    "        for md in self.MD:\n",
    "            newDHFFE.MD.append(pow(in_einstein_tau(l*einstein_tau(pow(md,3))),1/3))\n",
    "        for nmd in self.NMD:\n",
    "            newDHFFE.NMD.append(pow(in_einstein_s(l*einstein_s(pow(nmd,3))),1/3))\n",
    "        return newDHFFE\n",
    "    def Einstein_Times(self,l):\n",
    "        newDHFFE = DHFFE([],[])\n",
    "        for md in self.MD:\n",
    "            newDHFFE.MD.append(pow(in_einstein_s(l*einstein_s(pow(md,3))),1/3))\n",
    "        for nmd in self.NMD:\n",
    "            newDHFFE.NMD.append(pow(in_einstein_tau(l*einstein_tau(pow(nmd,3))),1/3))\n",
    "        return newDHFFE"
   ]
  },
  {
   "cell_type": "code",
   "execution_count": null,
   "id": "0ae4acb7-a62d-4aea-a6b4-78177d3b6041",
   "metadata": {},
   "outputs": [],
   "source": []
  },
  {
   "cell_type": "code",
   "execution_count": null,
   "id": "43d8c87f-96fd-4634-858f-c02b79e5dd89",
   "metadata": {},
   "outputs": [],
   "source": []
  },
  {
   "cell_type": "code",
   "execution_count": null,
   "id": "9658d194-f743-4575-8860-64b6a836b75e",
   "metadata": {},
   "outputs": [],
   "source": []
  },
  {
   "cell_type": "code",
   "execution_count": 6,
   "id": "5f068266-d340-4032-86ce-b923db110f6a",
   "metadata": {},
   "outputs": [],
   "source": [
    "##########  Basic multiplication and addition operations"
   ]
  },
  {
   "cell_type": "code",
   "execution_count": 7,
   "id": "b3e408c4-1ed7-4136-bf1c-f71c78cd02b1",
   "metadata": {},
   "outputs": [],
   "source": [
    "## Basic multiplication and addition operations\n",
    "## Dual Hesitant Intuitionistic Fuzzy Elements\n",
    "## Algebraic Basic Operations \n",
    "def DHIFE_Algebraic_Multiply(dhfe1,dhfe2):\n",
    "    newDHIFE = DHIFE([],[])\n",
    "    for md1 in dhfe1.MD:\n",
    "        for md2 in dhfe2.MD:\n",
    "            newDHIFE.MD.append(pithy_algebraic_T(md1,md2))\n",
    "    for nmd1 in dhfe1.NMD:\n",
    "        for nmd2 in dhfe2.NMD:\n",
    "            newDHIFE.NMD.append(pithy_algebraic_S(nmd1,nmd2))\n",
    "    return newDHIFE\n",
    "def DHIFE_Algebraic_Plus(dhfe1,dhfe2):\n",
    "    newDHIFE = DHIFE([],[])\n",
    "    for md1 in dhfe1.MD:\n",
    "        for md2 in dhfe2.MD:\n",
    "            newDHIFE.MD.append(pithy_algebraic_S(md1,md2))\n",
    "    for nmd1 in dhfe1.NMD:\n",
    "        for nmd2 in dhfe2.NMD:\n",
    "            newDHIFE.NMD.append(pithy_algebraic_T(nmd1,nmd2))\n",
    "    return newDHIFE\n",
    "\n",
    "## Einstein Basic Operations\n",
    "def DHIFE_Einstein_Multiply(dhfe1,dhfe2):\n",
    "    newDHIFE = DHIFE([],[])\n",
    "    for md1 in dhfe1.MD:\n",
    "        for md2 in dhfe2.MD:\n",
    "            newDHIFE.MD.append(pithy_einstein_T(md1,md2))\n",
    "    for nmd1 in dhfe1.NMD:\n",
    "        for nmd2 in dhfe2.NMD:\n",
    "            newDHIFE.NMD.append(pithy_einstein_S(nmd1,nmd2))\n",
    "    return newDHIFE\n",
    "def DHIFE_Einstein_Plus(dhfe1,dhfe2):\n",
    "    newDHIFE = DHIFE([],[])\n",
    "    for md1 in dhfe1.MD:\n",
    "        for md2 in dhfe2.MD:\n",
    "            newDHIFE.MD.append(pithy_einstein_S(md1,md2))\n",
    "    for nmd1 in dhfe1.NMD:\n",
    "        for nmd2 in dhfe2.NMD:\n",
    "            newDHIFE.NMD.append(pithy_einstein_T(nmd1,nmd2))\n",
    "    return newDHIFE"
   ]
  },
  {
   "cell_type": "code",
   "execution_count": 8,
   "id": "77c5720f-0417-4e23-bbdc-c251e9d985f5",
   "metadata": {},
   "outputs": [],
   "source": [
    "## Basic multiplication and addition operations\n",
    "## Dual Hesitant Pythagorean Fuzzy Elements\n",
    "## Algebraic Basic Operations \n",
    "def DHPFE_Algebraic_Multiply(dhfe1,dhfe2):\n",
    "    newDHPFE = DHPFE([],[])\n",
    "    for md1 in dhfe1.MD:\n",
    "        for md2 in dhfe2.MD:\n",
    "            newDHPFE.MD.append(pow(pithy_algebraic_T(pow(md1,2),pow(md2,2)),1/2))\n",
    "    for nmd1 in dhfe1.NMD:\n",
    "        for nmd2 in dhfe2.NMD:\n",
    "            newDHPFE.NMD.append(pow(pithy_algebraic_S(pow(nmd1,2),pow(nmd2,2)),1/2))\n",
    "    return newDHPFE\n",
    "def DHPFE_Algebraic_Plus(dhfe1,dhfe2):\n",
    "    newDHPFE = DHPFE([],[])\n",
    "    for md1 in dhfe1.MD:\n",
    "        for md2 in dhfe2.MD:\n",
    "            newDHPFE.MD.append(pow(pithy_algebraic_S(pow(md1,2),pow(md2,2)),1/2))\n",
    "    for nmd1 in dhfe1.NMD:\n",
    "        for nmd2 in dhfe2.NMD:\n",
    "            newDHPFE.NMD.append(pow(pithy_algebraic_T(pow(nmd1,2),pow(nmd2,2)),1/2))\n",
    "    return newDHPFE\n",
    "\n",
    "## Einstein Basic Operations\n",
    "def DHPFE_Einstein_Multiply(dhfe1,dhfe2):\n",
    "    newDHPFE = DHPFE([],[])\n",
    "    for md1 in dhfe1.MD:\n",
    "        for md2 in dhfe2.MD:\n",
    "            newDHPFE.MD.append(pow(pithy_einstein_T(pow(md1,2),pow(md2,2)),1/2))\n",
    "    for nmd1 in dhfe1.NMD:\n",
    "        for nmd2 in dhfe2.NMD:\n",
    "            newDHPFE.NMD.append(pow(pithy_einstein_S(pow(nmd1,2),pow(nmd2,2)),1/2))\n",
    "    return newDHPFE\n",
    "def DHPFE_Einstein_Plus(dhfe1,dhfe2):\n",
    "    newDHPFE = DHPFE([],[])\n",
    "    for md1 in dhfe1.MD:\n",
    "        for md2 in dhfe2.MD:\n",
    "            newDHPFE.MD.append(pow(pithy_einstein_S(pow(md1,2),pow(md2,2)),1/2))\n",
    "    for nmd1 in dhfe1.NMD:\n",
    "        for nmd2 in dhfe2.NMD:\n",
    "            newDHPFE.NMD.append(pow(pithy_einstein_T(pow(nmd1,2),pow(nmd2,2)),1/2))\n",
    "    return newDHPFE"
   ]
  },
  {
   "cell_type": "code",
   "execution_count": 15,
   "id": "205101e0-f761-407b-a807-d95731a14bea",
   "metadata": {},
   "outputs": [],
   "source": [
    "## Basic multiplication and addition operations\n",
    "## Dual Hesitant Fermatean Fuzzy Elements\n",
    "## Algebraic Basic Operations \n",
    "def DHFFE_Algebraic_Multiply(dhfe1,dhfe2):\n",
    "    newDHFFE = DHFFE([],[])\n",
    "    for md1 in dhfe1.MD:\n",
    "        for md2 in dhfe2.MD:\n",
    "            newDHFFE.MD.append(pow(pithy_algebraic_T(pow(md1,3),pow(md2,3)),1/3))\n",
    "    for nmd1 in dhfe1.NMD:\n",
    "        for nmd2 in dhfe2.NMD:\n",
    "            newDHFFE.NMD.append(pow(pithy_algebraic_S(pow(nmd1,3),pow(nmd2,3)),1/3))\n",
    "    return newDHFFE\n",
    "def DHFFE_Algebraic_Plus(dhfe1,dhfe2):\n",
    "    newDHFFE = DHFFE([],[])\n",
    "    for md1 in dhfe1.MD:\n",
    "        for md2 in dhfe2.MD:\n",
    "            newDHFFE.MD.append(pow(pithy_algebraic_S(pow(md1,3),pow(md2,3)),1/3))\n",
    "    for nmd1 in dhfe1.NMD:\n",
    "        for nmd2 in dhfe2.NMD:\n",
    "            newDHFFE.NMD.append(pow(pithy_algebraic_T(pow(nmd1,3),pow(nmd2,3)),1/3))\n",
    "    return newDHFFE\n",
    "\n",
    "## Einstein Basic Operations\n",
    "def DHFFE_Einstein_Multiply(dhfe1,dhfe2):\n",
    "    newDHFFE = DHFFE([],[])\n",
    "    for md1 in dhfe1.MD:\n",
    "        for md2 in dhfe2.MD:\n",
    "            newDHFFE.MD.append(pow(pithy_einstein_T(pow(md1,3),pow(md2,3)),1/3))\n",
    "    for nmd1 in dhfe1.NMD:\n",
    "        for nmd2 in dhfe2.NMD:\n",
    "            newDHFFE.NMD.append(pow(pithy_einstein_S(pow(nmd1,3),pow(nmd2,3)),1/3))\n",
    "    return newDHFFE\n",
    "def DHFFE_Einstein_Plus(dhfe1,dhfe2):\n",
    "    newDHFFE = DHFFE([],[])\n",
    "    for md1 in dhfe1.MD:\n",
    "        for md2 in dhfe2.MD:\n",
    "            newDHFFE.MD.append(pow(pithy_einstein_S(pow(md1,3),pow(md2,3)),1/3))\n",
    "    for nmd1 in dhfe1.NMD:\n",
    "        for nmd2 in dhfe2.NMD:\n",
    "            newDHFFE.NMD.append(pow(pithy_einstein_T(pow(nmd1,3),pow(nmd2,3)),1/3))\n",
    "    return newDHFFE"
   ]
  },
  {
   "cell_type": "code",
   "execution_count": null,
   "id": "9678b115-5dbd-4b02-8605-21318c8b0064",
   "metadata": {},
   "outputs": [],
   "source": []
  },
  {
   "cell_type": "code",
   "execution_count": null,
   "id": "cc6bd3e8-9caf-48f8-853c-d76bdf8e8248",
   "metadata": {},
   "outputs": [],
   "source": []
  },
  {
   "cell_type": "code",
   "execution_count": null,
   "id": "9a9ba590-9194-48cc-b0cf-bb7a73ec69de",
   "metadata": {},
   "outputs": [],
   "source": []
  },
  {
   "cell_type": "code",
   "execution_count": null,
   "id": "2629fc36-8d4d-4e13-b969-bc6e13d3ed3a",
   "metadata": {},
   "outputs": [],
   "source": []
  },
  {
   "cell_type": "code",
   "execution_count": null,
   "id": "35a60582-0f97-4f4b-90a1-853194935854",
   "metadata": {},
   "outputs": [],
   "source": []
  },
  {
   "cell_type": "code",
   "execution_count": null,
   "id": "00a6d890-d58c-4fe9-a2ca-7ce0fb9a2e2e",
   "metadata": {},
   "outputs": [],
   "source": []
  },
  {
   "cell_type": "code",
   "execution_count": null,
   "id": "2ec7dc09-3c46-4bf1-8680-768139b659da",
   "metadata": {},
   "outputs": [],
   "source": []
  },
  {
   "cell_type": "code",
   "execution_count": 16,
   "id": "fd1b401e-0b75-4357-8c9f-edbbcfe108e7",
   "metadata": {},
   "outputs": [],
   "source": [
    "d1 = DHFFE([0.6,0.5],[0.3,0.2])\n",
    "d2 = DHFFE([0.7,0.4],[0.1,0.2])"
   ]
  },
  {
   "cell_type": "code",
   "execution_count": 17,
   "id": "c1d99605-04be-4e8e-a216-67e9ab5ab843",
   "metadata": {},
   "outputs": [
    {
     "name": "stdout",
     "output_type": "stream",
     "text": [
      "[[0.42, 0.24000000000000002, 0.35, 0.20000000000000004], [0.3035612611523022, 0.32643233692182116, 0.20794673192152463, 0.2516477820622515]]\n"
     ]
    }
   ],
   "source": [
    "DHFFE_Algebraic_Multiply(d1,d2).show()"
   ]
  },
  {
   "cell_type": "code",
   "execution_count": 18,
   "id": "4f082081-3043-4091-b986-f1ed0de88507",
   "metadata": {},
   "outputs": [
    {
     "name": "stdout",
     "output_type": "stream",
     "text": [
      "[[0.7856352789507385, 0.6432645694771318, 0.7519210013965683, 0.5656652825822911], [0.030000000000000006, 0.06000000000000001, 0.020000000000000007, 0.040000000000000015]]\n"
     ]
    }
   ],
   "source": [
    "DHFFE_Algebraic_Plus(d1,d2).show()"
   ]
  },
  {
   "cell_type": "code",
   "execution_count": 19,
   "id": "5ca83b33-1b3e-4d3e-89ae-8e04038e17a6",
   "metadata": {},
   "outputs": [
    {
     "name": "stdout",
     "output_type": "stream",
     "text": [
      "[[0.3656817928942802, 0.1997758121843003, 0.3008287561674222, 0.1638396818533227], [0.3036561643066833, 0.3270830827322975, 0.20800782761912928, 0.25197883454517866]]\n"
     ]
    }
   ],
   "source": [
    "DHFFE_Einstein_Multiply(d1,d2).show()"
   ]
  },
  {
   "cell_type": "code",
   "execution_count": 20,
   "id": "e283bd4e-96dd-423c-8a6b-7edcf5201580",
   "metadata": {},
   "outputs": [
    {
     "name": "stdout",
     "output_type": "stream",
     "text": [
      "[[0.8043726851871302, 0.6512261346964747, 0.7656045964785675, 0.5723571212766659], [0.023923073199554685, 0.047901357353093234, 0.015897871926513294, 0.03183279450014489]]\n"
     ]
    }
   ],
   "source": [
    "DHFFE_Einstein_Plus(d1,d2).show()"
   ]
  },
  {
   "cell_type": "code",
   "execution_count": null,
   "id": "63748f28-800a-40c9-9cbf-89537f90864e",
   "metadata": {},
   "outputs": [],
   "source": []
  },
  {
   "cell_type": "code",
   "execution_count": null,
   "id": "9946d6d0-2a7e-477a-b174-3ab4283731e9",
   "metadata": {},
   "outputs": [],
   "source": []
  },
  {
   "cell_type": "code",
   "execution_count": null,
   "id": "759ac3a1-4dbd-43b3-a1b1-57f6c6b081bb",
   "metadata": {},
   "outputs": [],
   "source": []
  },
  {
   "cell_type": "code",
   "execution_count": null,
   "id": "fb90d7da-031c-49bf-9037-81eadd35c9fc",
   "metadata": {},
   "outputs": [],
   "source": []
  },
  {
   "cell_type": "code",
   "execution_count": null,
   "id": "2fb531e1-a2a6-4b53-b734-30fc1c1c8752",
   "metadata": {},
   "outputs": [],
   "source": []
  },
  {
   "cell_type": "code",
   "execution_count": null,
   "id": "10960789-8eb3-45f8-ab3b-3af1a87f502c",
   "metadata": {},
   "outputs": [],
   "source": []
  },
  {
   "cell_type": "code",
   "execution_count": null,
   "id": "843ec08c-2d3a-46e4-a316-b2247202397f",
   "metadata": {},
   "outputs": [],
   "source": []
  }
 ],
 "metadata": {
  "kernelspec": {
   "display_name": "Python 3 (ipykernel)",
   "language": "python",
   "name": "python3"
  },
  "language_info": {
   "codemirror_mode": {
    "name": "ipython",
    "version": 3
   },
   "file_extension": ".py",
   "mimetype": "text/x-python",
   "name": "python",
   "nbconvert_exporter": "python",
   "pygments_lexer": "ipython3",
   "version": "3.8.12"
  }
 },
 "nbformat": 4,
 "nbformat_minor": 5
}
