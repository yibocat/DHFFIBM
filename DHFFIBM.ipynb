{
 "cells": [
  {
   "cell_type": "code",
   "execution_count": 170,
   "id": "18355f47",
   "metadata": {},
   "outputs": [],
   "source": [
    "from DHFFEOperators import *"
   ]
  },
  {
   "cell_type": "code",
   "execution_count": 230,
   "id": "61fb94ba-dc37-40c6-82fa-ec04b465f966",
   "metadata": {},
   "outputs": [],
   "source": [
    "# d1 = {'MD':{0.5},'NMD':{0.2}}\n",
    "# d2 = {'MD':{0.6},'NMD':{0.4}}\n",
    "# d3 = {'MD':{0.7},'NMD':{0.2}}\n",
    "\n",
    "# d=[d1,d2,d3]\n",
    "\n",
    "# list(enumerate(d))"
   ]
  },
  {
   "cell_type": "code",
   "execution_count": 255,
   "id": "99965402-2ff8-43c0-a29c-7459898b3ad1",
   "metadata": {},
   "outputs": [],
   "source": [
    "## 得分函数\n",
    "def score(DHFFIBM):\n",
    "    sum = 0\n",
    "    for i in DHFFIBM['MD']:\n",
    "        sum += i\n",
    "    average_MD=sum/len(DHFFIBM['MD'])\n",
    "    sum = 0\n",
    "    for i in DHFFIBM['NMD']:\n",
    "        sum += i\n",
    "    average_NMD=sum/len(DHFFIBM['NMD'])\n",
    "    score = average_MD-average_NMD\n",
    "    return score"
   ]
  },
  {
   "cell_type": "code",
   "execution_count": null,
   "id": "dbb7fc17-2839-43b3-a09b-bd491364413f",
   "metadata": {},
   "outputs": [],
   "source": []
  },
  {
   "cell_type": "code",
   "execution_count": 368,
   "id": "81795d5c-afdc-4602-b031-2b1b4e4192b0",
   "metadata": {},
   "outputs": [],
   "source": [
    "class DHFFEI:\n",
    "    # 对偶犹豫费马模糊 Interactional elements\n",
    "    def __init__(self):\n",
    "        self.MD=MD\n",
    "        self.NMD=NMD\n",
    "    \n",
    "    def show(self):\n",
    "        print(\"{\",self.MD,',',self.NMD,\"}\")\n",
    "    \n",
    "    def Power(self,l):\n",
    "        # 幂运算\n",
    "        newDHFFEI = DHFFEI([],[])\n",
    "        for md in self.MD:\n",
    "            for nmd in self.NMD:\n",
    "                m = pow(md,3)\n",
    "                n = pow(nmd,3)\n",
    "                M = IFIO_MD_Power(m,n,l)\n",
    "                N = IFIO_NMD_Power(m,n,l)\n",
    "                \n",
    "                newDHFFEI.MD.append(pow(M,1/3))\n",
    "                newDHFFEI.NMD.append(pow(N,1/3))\n",
    "        # newDHFFEI.show()\n",
    "        return newDHFFEI\n",
    "    \n",
    "    def Times(self,l):\n",
    "        # 倍运算\n",
    "        newDHFFEI = DHFFEI([],[])\n",
    "        for md in self.MD:\n",
    "            for nmd in self.NMD:\n",
    "                m = pow(md,3)\n",
    "                n = pow(nmd,3)\n",
    "                M = IFIO_MD_Times(m,n,l)\n",
    "                N = IFIO_NMD_Times(m,n,l)\n",
    "                \n",
    "                newDHFFEI.MD.append(pow(M,1/3))\n",
    "                newDHFFEI.NMD.append(pow(N,1/3))\n",
    "                \n",
    "        return newDHFFEI\n",
    "    \n",
    "    \n",
    "###### 写的有问题，需要修改\n",
    "#     def Multiply(self,d1,d2):\n",
    "#         # 乘法运算\n",
    "#         newDHFFEI = DHFFEI([],[])\n",
    "#         for md1 in d1.MD:\n",
    "#             for nmd1 in d1.NMD:\n",
    "#                 for md2 in d2.MD:\n",
    "#                     for nmd2 in d2.NMD:\n",
    "#                         m1 = pow(md1,3)\n",
    "#                         nm1 = pow(nmd1,3)\n",
    "#                         m2 = pow(md2,3)\n",
    "#                         nm2 = pow(nmd2,3)\n",
    "                        \n",
    "#                         M = IFIO_MD_Multiply(m1,nm1,m2,nm2)\n",
    "#                         N = IFIO_NMD_Multiply(m1,nm1,m2,nm2)\n",
    "                        \n",
    "#                         newDHFFEI.MD.append(pow(M,1/3))\n",
    "#                         newDHFFEI.NMD.append(pow(N,1/3))\n",
    "#         return newDHFFEI"
   ]
  },
  {
   "cell_type": "code",
   "execution_count": 363,
   "id": "20a78f75-3caf-41ab-a743-cfc3b6cef66e",
   "metadata": {},
   "outputs": [],
   "source": [
    "s = DHFFEI([0.4,0.5],[0.2])"
   ]
  },
  {
   "cell_type": "code",
   "execution_count": 364,
   "id": "56772f1d-bd2e-4507-9f08-6dadd585b493",
   "metadata": {},
   "outputs": [
    {
     "name": "stdout",
     "output_type": "stream",
     "text": [
      "{ [0.49853437474958034, 0.6165530185826175] , [0.2461379797465475, 0.24064640558435538] }\n"
     ]
    }
   ],
   "source": [
    "s.Times(2).show()"
   ]
  },
  {
   "cell_type": "code",
   "execution_count": 365,
   "id": "e0d95410-f2e6-47da-b566-f3021e494efc",
   "metadata": {},
   "outputs": [],
   "source": [
    "b = DHFFEI([0.4,0.5],[0.2])"
   ]
  },
  {
   "cell_type": "code",
   "execution_count": null,
   "id": "f921ff45-a355-4980-8b21-fc7777b8ca15",
   "metadata": {},
   "outputs": [],
   "source": []
  },
  {
   "cell_type": "code",
   "execution_count": null,
   "id": "bd49fa1f-0fb2-46b7-81dd-ed1e1be8e408",
   "metadata": {},
   "outputs": [],
   "source": []
  },
  {
   "cell_type": "code",
   "execution_count": null,
   "id": "e852b8a0-aaa0-44fd-9939-fde273a87bc1",
   "metadata": {},
   "outputs": [],
   "source": []
  },
  {
   "cell_type": "code",
   "execution_count": null,
   "id": "0480fa2a-f260-4568-95a5-68890491f9e3",
   "metadata": {},
   "outputs": [],
   "source": []
  },
  {
   "cell_type": "code",
   "execution_count": null,
   "id": "96548468-35d5-4cad-b350-a10702a8da70",
   "metadata": {},
   "outputs": [],
   "source": []
  },
  {
   "cell_type": "code",
   "execution_count": null,
   "id": "1111c8f8-bcd9-423c-accd-e847d04b8400",
   "metadata": {},
   "outputs": [],
   "source": []
  },
  {
   "cell_type": "code",
   "execution_count": null,
   "id": "9366e05a-efee-438b-a1ad-1215f08f0340",
   "metadata": {},
   "outputs": [],
   "source": []
  },
  {
   "cell_type": "code",
   "execution_count": null,
   "id": "5b52206c-cbf0-4f0f-98a4-dd4ba7721671",
   "metadata": {},
   "outputs": [],
   "source": []
  },
  {
   "cell_type": "code",
   "execution_count": 231,
   "id": "bd533836",
   "metadata": {},
   "outputs": [],
   "source": [
    "def Bon_pow(val1,val2,p,q):\n",
    "    # 幂乘\n",
    "    vip=DHFF_Power(val1,p)\n",
    "    vjq=DHFF_Power(val2,q)\n",
    "    return DHFF_Multiply(vip,vjq)"
   ]
  },
  {
   "cell_type": "code",
   "execution_count": 232,
   "id": "9035a201",
   "metadata": {},
   "outputs": [],
   "source": [
    "s = []\n",
    "for i,value_i in enumerate(d):\n",
    "    for j,value_j in enumerate(d[:i]):\n",
    "        # ((value_i)^p * (value_j)^q)+((value_i)^q * (value_j)^p)\n",
    "        # print(Bonf_ele(value_i,value_j,0,1))\n",
    "        s.append(DHFF_Plus(Bon_pow(value_i,value_j,1,0),Bon_pow(value_i,value_j,0,1)))"
   ]
  },
  {
   "cell_type": "code",
   "execution_count": 233,
   "id": "678636c4-9b10-422c-9d78-8523ad9aa76c",
   "metadata": {},
   "outputs": [],
   "source": [
    "for i,value_i in enumerate(s):\n",
    "    for j,value_j in enumerate(s[:i]):\n",
    "        m = DHFF_Plus(value_i,value_j)"
   ]
  },
  {
   "cell_type": "code",
   "execution_count": null,
   "id": "a25bbb5e-9ad8-49ae-80f1-98d18ee82323",
   "metadata": {},
   "outputs": [],
   "source": [
    "## m是有问题的"
   ]
  },
  {
   "cell_type": "code",
   "execution_count": 235,
   "id": "3d459928-ff24-4ddb-a8d9-a453febd7761",
   "metadata": {},
   "outputs": [],
   "source": [
    "qq=DHFF_Times(m,pow(len(d)*(len(d)-1),-1))"
   ]
  },
  {
   "cell_type": "code",
   "execution_count": 236,
   "id": "de2932ed-6118-4643-a46d-2786e182d4be",
   "metadata": {},
   "outputs": [],
   "source": [
    "DHFFIBM=DHFF_Power(qq,pow(1+0,-1))"
   ]
  },
  {
   "cell_type": "code",
   "execution_count": 244,
   "id": "20ffc74a-a873-48c1-9ec5-38c6e52483dc",
   "metadata": {},
   "outputs": [
    {
     "data": {
      "text/plain": [
       "{'MD': {0.5683490193569014}, 'NMD': {0.2520472569129271}}"
      ]
     },
     "execution_count": 244,
     "metadata": {},
     "output_type": "execute_result"
    }
   ],
   "source": [
    "DHFFIBM"
   ]
  },
  {
   "cell_type": "code",
   "execution_count": null,
   "id": "5c101c16-7946-4f83-8297-c12ec858e8d9",
   "metadata": {},
   "outputs": [],
   "source": []
  },
  {
   "cell_type": "code",
   "execution_count": null,
   "id": "e6262811-1510-4c01-97b8-ab3811cffa6c",
   "metadata": {},
   "outputs": [],
   "source": []
  },
  {
   "cell_type": "code",
   "execution_count": null,
   "id": "c69d7e2e-fd07-4947-b841-99d6877eede7",
   "metadata": {},
   "outputs": [],
   "source": []
  },
  {
   "cell_type": "code",
   "execution_count": null,
   "id": "e70ba4fa-40b3-416f-9ceb-04fc8d14bdf5",
   "metadata": {},
   "outputs": [],
   "source": []
  },
  {
   "cell_type": "code",
   "execution_count": null,
   "id": "25f81e01-a9e0-4fc8-a558-264569128c3c",
   "metadata": {},
   "outputs": [],
   "source": []
  },
  {
   "cell_type": "code",
   "execution_count": null,
   "id": "ab9ff6d9-c439-4e28-b1d8-952a7291654f",
   "metadata": {},
   "outputs": [],
   "source": []
  },
  {
   "cell_type": "code",
   "execution_count": null,
   "id": "6b1151dd-51bb-4f61-96bc-75a7284e5fdb",
   "metadata": {},
   "outputs": [],
   "source": []
  }
 ],
 "metadata": {
  "kernelspec": {
   "display_name": "Python 3 (ipykernel)",
   "language": "python",
   "name": "python3"
  },
  "language_info": {
   "codemirror_mode": {
    "name": "ipython",
    "version": 3
   },
   "file_extension": ".py",
   "mimetype": "text/x-python",
   "name": "python",
   "nbconvert_exporter": "python",
   "pygments_lexer": "ipython3",
   "version": "3.8.12"
  }
 },
 "nbformat": 4,
 "nbformat_minor": 5
}
