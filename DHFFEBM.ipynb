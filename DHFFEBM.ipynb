{
 "cells": [
  {
   "cell_type": "code",
   "execution_count": 1,
   "id": "ed5a8702-878e-4120-8c26-e11b21480f7b",
   "metadata": {},
   "outputs": [],
   "source": [
    "from math import pow\n",
    "from Archimedean import *\n",
    "from DHFEs import *"
   ]
  },
  {
   "cell_type": "code",
   "execution_count": 2,
   "id": "ee360e8b-f18c-40fe-a578-6958a2d47fb4",
   "metadata": {},
   "outputs": [],
   "source": [
    "def score(DHFFIBM):\n",
    "    sum = 0\n",
    "    for i in DHFFIBM.MD:\n",
    "        sum = sum+i\n",
    "    average_MD=sum/len(DHFFIBM.MD)\n",
    "    sum = 0\n",
    "    for i in DHFFIBM.NMD:\n",
    "        sum = sum+i\n",
    "    average_NMD=sum/len(DHFFIBM.NMD)\n",
    "    score = average_MD-average_NMD\n",
    "    return score"
   ]
  },
  {
   "cell_type": "code",
   "execution_count": 3,
   "id": "4eb01b4f-0094-4cc1-b77f-388194198aa4",
   "metadata": {},
   "outputs": [],
   "source": [
    "## 保留小数点后 3 位\n",
    "def Re3decimal(d):\n",
    "    x = DHFFE([],[])\n",
    "    for i in d.MD:\n",
    "        x.MD.append(format(i,'.3f'))\n",
    "    for i in d.NMD:\n",
    "        x.NMD.append(format(i,'.3f'))\n",
    "    return x"
   ]
  },
  {
   "cell_type": "code",
   "execution_count": null,
   "id": "08a8fb54-138a-4f1a-8b80-3b8127bf77b4",
   "metadata": {},
   "outputs": [],
   "source": []
  },
  {
   "cell_type": "code",
   "execution_count": 4,
   "id": "b96a2d70-1344-44ab-8bea-82949b7e7957",
   "metadata": {},
   "outputs": [],
   "source": [
    "## 对偶犹豫费马模糊爱因斯坦加权 Bonferroni 平均算子"
   ]
  },
  {
   "cell_type": "code",
   "execution_count": 41,
   "id": "d8e7a21f-abf7-43f4-ac59-7a517b61779c",
   "metadata": {},
   "outputs": [],
   "source": [
    "g1 = DHFFE([0.6],[0.2])\n",
    "g2 = DHFFE([0.6],[0.3,0.1])\n",
    "g3 = DHFFE([0.5,0.3],[0.2])"
   ]
  },
  {
   "cell_type": "code",
   "execution_count": 42,
   "id": "ce89db86-2573-4f4f-8df8-111b209f38d2",
   "metadata": {},
   "outputs": [],
   "source": [
    "alter = [g1,g2,g3]\n",
    "weight = [0.2,0.2,0.6]"
   ]
  },
  {
   "cell_type": "code",
   "execution_count": 43,
   "id": "c703e4f3-77fa-4d2a-bb40-82c7b856ae7d",
   "metadata": {},
   "outputs": [],
   "source": [
    "def DHFFEBM(alter,weight,p,q):\n",
    "    ## Dual Hesitant Fermatean Fuzzy Einstein Bonferroni Mean Operator\n",
    "    def BonferroniElement(d1,d2,p,q):\n",
    "        ## DHFF Bonferroni Elements\n",
    "        s1 = DHFFE_Einstein_Multiply(d1.Einstein_Power(p),d2.Einstein_Power(q))\n",
    "        s2 = DHFFE_Einstein_Multiply(d1.Einstein_Power(q),d2.Einstein_Power(p))\n",
    "        return DHFFE_Einstein_Plus(s1,s2)\n",
    "    \n",
    "    dlist = []\n",
    "    if weight == 0:\n",
    "        ## 权重为 0，说明没有权重，直接将 alter 即 DHFFE 数组赋值给 dl\n",
    "        dl = alter\n",
    "        for i,d1 in enumerate(dl):\n",
    "            for j,d2 in enumerate(dl[:i]):\n",
    "                dlist.append(BonferroniElement(d1,d2,p,q))\n",
    "    else:\n",
    "        ## 将权重向量乘以备选方案列表\n",
    "        dl = []\n",
    "        try:\n",
    "            ## 判断权重向量与数列向量基数是否相同\n",
    "            assert len(alter) == len(weight)\n",
    "        except e:\n",
    "            print(\"The number of alter is not equal to the number of weight!\",e)\n",
    "        for i in range(len(alter)):\n",
    "            dl.append(alter[i].Einstein_Times(weight[i]))\n",
    "        for i,d1 in enumerate(dl):\n",
    "            for j,d2 in enumerate(dl[:i]):\n",
    "                dlist.append(BonferroniElement(d1,d2,p,q))\n",
    "    aggDHFFE = DHFFE([0],[1])\n",
    "    for agg in dlist:\n",
    "        aggDHFFE = DHFFE_Einstein_Plus(agg,aggDHFFE)\n",
    "    aggDHFFE = (aggDHFFE.Einstein_Times(1/(len(alter)*(len(alter)-1)))).Einstein_Power(1/3)    \n",
    "    return aggDHFFE"
   ]
  },
  {
   "cell_type": "code",
   "execution_count": 44,
   "id": "97595a9e-c191-4b59-adbe-35c9b57b050f",
   "metadata": {},
   "outputs": [],
   "source": [
    "D = DHFFEBM(alter,0,3,1)"
   ]
  },
  {
   "cell_type": "code",
   "execution_count": 45,
   "id": "a7752bbb-1cce-4d46-94ec-0b74bea9f247",
   "metadata": {},
   "outputs": [
    {
     "data": {
      "text/plain": [
       "([0.4559034233813211,\n",
       "  0.4493672679111897,\n",
       "  0.4535254431803125,\n",
       "  0.4466666360553442,\n",
       "  0.4493672679111897,\n",
       "  0.44189849373288886,\n",
       "  0.4466666360553442,\n",
       "  0.43876757316512793,\n",
       "  0.4535254431803125,\n",
       "  0.4466666360553442,\n",
       "  0.45103534992661826,\n",
       "  0.4438185968067847,\n",
       "  0.4466666360553442,\n",
       "  0.43876757316512793,\n",
       "  0.4438185968067847,\n",
       "  0.43543369799690734],\n",
       " [0.2599161774184454,\n",
       "  0.24988198636292525,\n",
       "  0.2315084002464194,\n",
       "  0.22251194294379417,\n",
       "  0.2315084002464194,\n",
       "  0.22251194294379417,\n",
       "  0.20606024198614686,\n",
       "  0.19801427155409446,\n",
       "  0.24988198636292525,\n",
       "  0.24021127385922456,\n",
       "  0.22251194294379417,\n",
       "  0.21384943242189255,\n",
       "  0.22251194294379417,\n",
       "  0.21384943242189255,\n",
       "  0.19801427155409446,\n",
       "  0.19027236309197643])"
      ]
     },
     "execution_count": 45,
     "metadata": {},
     "output_type": "execute_result"
    }
   ],
   "source": [
    "D.MD,D.NMD"
   ]
  },
  {
   "cell_type": "code",
   "execution_count": 46,
   "id": "8585a154-dab9-41da-8981-9c04ef9a6972",
   "metadata": {},
   "outputs": [
    {
     "data": {
      "text/plain": [
       "0.22305495388026933"
      ]
     },
     "execution_count": 46,
     "metadata": {},
     "output_type": "execute_result"
    }
   ],
   "source": [
    "score(D)"
   ]
  },
  {
   "cell_type": "code",
   "execution_count": null,
   "id": "d731eb13-cc4e-41d7-b263-060a239d556b",
   "metadata": {},
   "outputs": [],
   "source": []
  },
  {
   "cell_type": "code",
   "execution_count": null,
   "id": "d03d0b16-3fb2-42b7-8421-1733c9f891dc",
   "metadata": {},
   "outputs": [],
   "source": [
    "# g1 = g1.Einstein_Times(0.1)\n",
    "# g2 = g2.Einstein_Times(0.1)\n",
    "# g3 = g3.Einstein_Times(0.8)\n",
    "\n",
    "# def BonferroniElement(d1,d2,p,q):\n",
    "#     s1 = DHFFE_Einstein_Multiply(d1.Einstein_Power(p),d2.Einstein_Power(q))\n",
    "#     s2 = DHFFE_Einstein_Multiply(d1.Einstein_Power(q),d2.Einstein_Power(p))\n",
    "#     return DHFFE_Einstein_Plus(s1,s2)\n",
    "\n",
    "# a1 = BonferroniElement(g1,g2,1,2)\n",
    "# a2 = BonferroniElement(g1,g3,1,2)\n",
    "# a3 = BonferroniElement(g2,g3,1,2)\n",
    "\n",
    "# a = [a1,a2,a3]\n",
    "\n",
    "# sumDHFFEs = DHFFE([0],[1])\n",
    "# for gg in a:\n",
    "#     sumDHFFEs = DHFFE_Einstein_Plus(gg,sumDHFFEs)\n",
    "\n",
    "# sumDHFFEs = (sumDHFFEs.Einstein_Times(1/(len(a)*(len(a)-1)))).Einstein_Power(1/3)\n",
    "\n",
    "# sumDHFFEs.MD,sumDHFFEs.NMD\n",
    "\n",
    "# score(sumDHFFEs)"
   ]
  },
  {
   "cell_type": "code",
   "execution_count": null,
   "id": "3ee523aa-15fc-4b6b-b673-26156b065ee3",
   "metadata": {},
   "outputs": [],
   "source": []
  },
  {
   "cell_type": "code",
   "execution_count": null,
   "id": "4cc3374f-b717-4741-9320-69cea93a0095",
   "metadata": {},
   "outputs": [],
   "source": []
  },
  {
   "cell_type": "code",
   "execution_count": null,
   "id": "6f702cfb-bbad-4ac5-8c30-f87a92f45b67",
   "metadata": {},
   "outputs": [],
   "source": []
  },
  {
   "cell_type": "code",
   "execution_count": null,
   "id": "eaa061f4-2175-424f-bd53-397ea7ba2cf5",
   "metadata": {},
   "outputs": [],
   "source": [
    "g1 = DHIFE([0.3,0.4],[0.6])\n",
    "g2 = DHIFE([0.4,0.5],[0.3,0.4])\n",
    "g3 = DHIFE([0.2,0.3],[0.7])\n",
    "g4 = DHIFE([0.4,0.5],[0.5])"
   ]
  },
  {
   "cell_type": "code",
   "execution_count": null,
   "id": "132c2df5-62b8-4ff6-9df9-05b0c9ed8d05",
   "metadata": {},
   "outputs": [],
   "source": [
    "g1 = g1.Algebraic_Times(0.2)\n",
    "g2 = g2.Algebraic_Times(0.15)\n",
    "g3 = g3.Algebraic_Times(0.35)\n",
    "g4 = g4.Algebraic_Times(0.3)"
   ]
  },
  {
   "cell_type": "code",
   "execution_count": null,
   "id": "5c182aa8-0cb8-4d8f-81a9-9a75502e9ee5",
   "metadata": {},
   "outputs": [],
   "source": [
    "p = DHIFE_Algebraic_Plus(DHIFE_Algebraic_Plus(DHIFE_Algebraic_Plus(g1,g2),g3),g4)"
   ]
  },
  {
   "cell_type": "code",
   "execution_count": null,
   "id": "dad2d87a-d41e-4ffd-b5ed-bdfb5766fcc9",
   "metadata": {},
   "outputs": [],
   "source": [
    "score(p)"
   ]
  },
  {
   "cell_type": "code",
   "execution_count": null,
   "id": "aa3e0c74-60ad-46db-9763-a456f07c90f0",
   "metadata": {},
   "outputs": [],
   "source": [
    "p.MD"
   ]
  },
  {
   "cell_type": "code",
   "execution_count": null,
   "id": "c25953ce-abc9-4ea6-84fe-82536bca4390",
   "metadata": {},
   "outputs": [],
   "source": [
    "p.NMD"
   ]
  },
  {
   "cell_type": "code",
   "execution_count": null,
   "id": "3f89c940-fd7f-4e29-9892-d6d2bef0ef7d",
   "metadata": {},
   "outputs": [],
   "source": []
  }
 ],
 "metadata": {
  "kernelspec": {
   "display_name": "Python 3 (ipykernel)",
   "language": "python",
   "name": "python3"
  },
  "language_info": {
   "codemirror_mode": {
    "name": "ipython",
    "version": 3
   },
   "file_extension": ".py",
   "mimetype": "text/x-python",
   "name": "python",
   "nbconvert_exporter": "python",
   "pygments_lexer": "ipython3",
   "version": "3.8.12"
  }
 },
 "nbformat": 4,
 "nbformat_minor": 5
}
