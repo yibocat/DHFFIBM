{
 "cells": [
  {
   "cell_type": "code",
   "execution_count": 32,
   "id": "ed5a8702-878e-4120-8c26-e11b21480f7b",
   "metadata": {},
   "outputs": [],
   "source": [
    "from math import pow\n",
    "from Archimedean import *\n",
    "from DHFEs import *"
   ]
  },
  {
   "cell_type": "code",
   "execution_count": 33,
   "id": "ee360e8b-f18c-40fe-a578-6958a2d47fb4",
   "metadata": {},
   "outputs": [],
   "source": [
    "def score(DHFFIBM):\n",
    "    sum = 0\n",
    "    for i in DHFFIBM.MD:\n",
    "        sum = sum+i\n",
    "    average_MD=sum/len(DHFFIBM.MD)\n",
    "    sum = 0\n",
    "    for i in DHFFIBM.NMD:\n",
    "        sum = sum+i\n",
    "    average_NMD=sum/len(DHFFIBM.NMD)\n",
    "    score = average_MD-average_NMD\n",
    "    return score"
   ]
  },
  {
   "cell_type": "code",
   "execution_count": 34,
   "id": "4eb01b4f-0094-4cc1-b77f-388194198aa4",
   "metadata": {},
   "outputs": [],
   "source": [
    "## 保留小数点后 3 位\n",
    "def Re3decimal(d):\n",
    "    x = DHFFE([],[])\n",
    "    for i in d.MD:\n",
    "        x.MD.append(format(i,'.3f'))\n",
    "    for i in d.NMD:\n",
    "        x.NMD.append(format(i,'.3f'))\n",
    "    return x"
   ]
  },
  {
   "cell_type": "code",
   "execution_count": null,
   "id": "08a8fb54-138a-4f1a-8b80-3b8127bf77b4",
   "metadata": {},
   "outputs": [],
   "source": []
  },
  {
   "cell_type": "code",
   "execution_count": 35,
   "id": "b96a2d70-1344-44ab-8bea-82949b7e7957",
   "metadata": {},
   "outputs": [],
   "source": [
    "## 对偶犹豫费马模糊爱因斯坦加权 Bonferroni 平均算子"
   ]
  },
  {
   "cell_type": "code",
   "execution_count": 46,
   "id": "d8e7a21f-abf7-43f4-ac59-7a517b61779c",
   "metadata": {},
   "outputs": [],
   "source": [
    "g1 = DHFFE([0.8],[0.1,0.2])\n",
    "g2 = DHFFE([0.9],[0.3])\n",
    "g3 = DHFFE([0.9,0.3],[0.2])"
   ]
  },
  {
   "cell_type": "code",
   "execution_count": 55,
   "id": "ce89db86-2573-4f4f-8df8-111b209f38d2",
   "metadata": {},
   "outputs": [],
   "source": [
    "alter = [g1,g2,g3]\n",
    "weight = [0.2,0.2,0.6]"
   ]
  },
  {
   "cell_type": "code",
   "execution_count": 56,
   "id": "c703e4f3-77fa-4d2a-bb40-82c7b856ae7d",
   "metadata": {},
   "outputs": [],
   "source": [
    "def DHFFEBM(alter,weight,p,q):\n",
    "    def BonferroniElement(d1,d2,p,q):\n",
    "        ## DHFF Bonferroni Elements\n",
    "        s1 = DHFFE_Einstein_Multiply(d1.Einstein_Power(p),d2.Einstein_Power(q))\n",
    "        s2 = DHFFE_Einstein_Multiply(d1.Einstein_Power(q),d2.Einstein_Power(p))\n",
    "        return DHFFE_Einstein_Plus(s1,s2)\n",
    "    \n",
    "    dlist = []\n",
    "    if weight == 0:\n",
    "        ## 权重为 0，说明没有权重，直接将 alter 即 DHFFE 数组赋值给 dl\n",
    "        dl = alter\n",
    "        for i,d1 in enumerate(dl):\n",
    "            for j,d2 in enumerate(dl[:i]):\n",
    "                dlist.append(BonferroniElement(d1,d2,p,q))\n",
    "    else:\n",
    "        ## 将权重向量乘以备选方案列表\n",
    "        dl = []\n",
    "        try:\n",
    "            ## 判断权重向量与数列向量基数是否相同\n",
    "            assert len(alter) == len(weight)\n",
    "        except e:\n",
    "            print(\"The number of alter is not equal to the number of weight!\",e)\n",
    "        for i in range(len(alter)):\n",
    "            dl.append(alter[i].Einstein_Times(weight[i]))\n",
    "        for i,d1 in enumerate(dl):\n",
    "            for j,d2 in enumerate(dl[:i]):\n",
    "                dlist.append(BonferroniElement(d1,d2,p,q))\n",
    "    aggDHFFE = DHFFE([0],[1])\n",
    "    for agg in dlist:\n",
    "        aggDHFFE = DHFFE_Einstein_Plus(agg,aggDHFFE)\n",
    "    aggDHFFE = (aggDHFFE.Einstein_Times(1/(len(alter)*(len(alter)-1)))).Einstein_Power(1/3)    \n",
    "    return aggDHFFE"
   ]
  },
  {
   "cell_type": "code",
   "execution_count": 68,
   "id": "97595a9e-c191-4b59-adbe-35c9b57b050f",
   "metadata": {},
   "outputs": [],
   "source": [
    "D = DHFFEBM(alter,weight,3,1)"
   ]
  },
  {
   "cell_type": "code",
   "execution_count": 69,
   "id": "a7752bbb-1cce-4d46-94ec-0b74bea9f247",
   "metadata": {},
   "outputs": [
    {
     "data": {
      "text/plain": [
       "([0.572624025360681,\n",
       "  0.5720149909815302,\n",
       "  0.5486481711230917,\n",
       "  0.5477454281158708,\n",
       "  0.5696264012971107,\n",
       "  0.5689870331116444,\n",
       "  0.5441588899469757,\n",
       "  0.5431858434101364,\n",
       "  0.5240250874809971,\n",
       "  0.5226551583087763,\n",
       "  0.4375104055635093,\n",
       "  0.4305461699548134,\n",
       "  0.5170923372009891,\n",
       "  0.5155474934060359,\n",
       "  0.38785851171488805,\n",
       "  0.36498750583599304],\n",
       " [0.7183962626471662,\n",
       "  0.7215024244349737,\n",
       "  0.7188074544696502,\n",
       "  0.7219206498853007,\n",
       "  0.7285003423450617,\n",
       "  0.7317906516439792,\n",
       "  0.7289354701056255,\n",
       "  0.7322342692217089,\n",
       "  0.7315512208077778,\n",
       "  0.7349021017461073,\n",
       "  0.7319942082485811,\n",
       "  0.7353540904536591,\n",
       "  0.7424919809946132,\n",
       "  0.7460817399269234,\n",
       "  0.7429658983796651,\n",
       "  0.7465668352208825])"
      ]
     },
     "execution_count": 69,
     "metadata": {},
     "output_type": "execute_result"
    }
   ],
   "source": [
    "D.MD,D.NMD"
   ]
  },
  {
   "cell_type": "code",
   "execution_count": 70,
   "id": "8585a154-dab9-41da-8981-9c04ef9a6972",
   "metadata": {},
   "outputs": [
    {
     "data": {
      "text/plain": [
       "-0.22167388423241463"
      ]
     },
     "execution_count": 70,
     "metadata": {},
     "output_type": "execute_result"
    }
   ],
   "source": [
    "score(D)"
   ]
  },
  {
   "cell_type": "code",
   "execution_count": null,
   "id": "9f922948-1ac3-4337-94ef-15b80d3acfa2",
   "metadata": {},
   "outputs": [],
   "source": []
  },
  {
   "cell_type": "code",
   "execution_count": null,
   "id": "c4504521-9253-477b-97f6-5d50fa2b5ba0",
   "metadata": {},
   "outputs": [],
   "source": []
  },
  {
   "cell_type": "code",
   "execution_count": null,
   "id": "7704b027-5b91-47fd-8f72-536ac2fe07a6",
   "metadata": {},
   "outputs": [],
   "source": []
  },
  {
   "cell_type": "code",
   "execution_count": null,
   "id": "79824bb4-82fd-41ef-bd1c-272ead716a74",
   "metadata": {},
   "outputs": [],
   "source": []
  },
  {
   "cell_type": "code",
   "execution_count": null,
   "id": "a3f90b08-2ab2-481f-a07b-98310d05b360",
   "metadata": {},
   "outputs": [],
   "source": [
    "## 对偶犹豫费马模糊元素加权\n",
    "# g1 = g1.Einstein_Times(0.1)\n",
    "# g2 = g2.Einstein_Times(0.1)\n",
    "# g3 = g3.Einstein_Times(0.8)\n",
    "\n",
    "## DHFF Bonferroni Elements\n",
    "def BonferroniElement(d1,d2,p,q):\n",
    "    s1 = DHFFE_Einstein_Multiply(d1.Einstein_Power(p),d2.Einstein_Power(q))\n",
    "    s2 = DHFFE_Einstein_Multiply(d1.Einstein_Power(q),d2.Einstein_Power(p))\n",
    "    return DHFFE_Einstein_Plus(s1,s2)\n",
    "\n",
    "a1 = BonferroniElement(g1,g2,1,2)\n",
    "a2 = BonferroniElement(g1,g3,1,2)\n",
    "a3 = BonferroniElement(g2,g3,1,2)\n",
    "\n",
    "a = [a1,a2,a3]\n",
    "\n",
    "## 连加\n",
    "# s = DHFFE_Einstein_Plus(DHFFE_Einstein_Plus(a1,a2),a3)\n",
    "sumDHFFEs = DHFFE([0],[1])\n",
    "for gg in a:\n",
    "    sumDHFFEs = DHFFE_Einstein_Plus(gg,sumDHFFEs)\n",
    "\n",
    "sumDHFFEs.show()\n",
    "\n",
    "sumDHFFEs = (sumDHFFEs.Einstein_Times(1/(len(a)*(len(a)-1)))).Einstein_Power(1/3)\n",
    "\n",
    "# sumDHFFEs = sumDHFFEs.Einstein_Power(1/3)\n",
    "# sumDHFFEs = sumDHFFEs.Einstein_Times(1/len(a)*(len(a)-1)).Einstein_Power(1/3)\n",
    "# sumDHFFEs = sumDHFFEs.Einstein_Power(1/3)\n",
    "\n",
    "sumDHFFEs.MD,sumDHFFEs.NMD\n",
    "max(sumDHFFEs.MD),max(sumDHFFEs.NMD)\n",
    "\n",
    "## 聚合得分\n",
    "score(sumDHFFEs)"
   ]
  },
  {
   "cell_type": "code",
   "execution_count": null,
   "id": "8199e68c-74ac-4580-bd5c-1dcceed73879",
   "metadata": {},
   "outputs": [],
   "source": []
  },
  {
   "cell_type": "code",
   "execution_count": null,
   "id": "9baef916-7ba9-4a01-acdb-1aef6dd19e09",
   "metadata": {},
   "outputs": [],
   "source": []
  },
  {
   "cell_type": "code",
   "execution_count": null,
   "id": "8cd161d5-af81-4561-aaef-de9cc1eb624d",
   "metadata": {},
   "outputs": [],
   "source": [
    "g1 = g1.Einstein_Times(0.1)\n",
    "g2 = g2.Einstein_Times(0.1)\n",
    "g3 = g3.Einstein_Times(0.8)"
   ]
  },
  {
   "cell_type": "code",
   "execution_count": null,
   "id": "03d3fad3-5567-4bb0-b46d-ecdd7f09e474",
   "metadata": {},
   "outputs": [],
   "source": [
    "def BonferroniElement(d1,d2,p,q):\n",
    "    s1 = DHFFE_Einstein_Multiply(d1.Einstein_Power(p),d2.Einstein_Power(q))\n",
    "    s2 = DHFFE_Einstein_Multiply(d1.Einstein_Power(q),d2.Einstein_Power(p))\n",
    "    return DHFFE_Einstein_Plus(s1,s2)"
   ]
  },
  {
   "cell_type": "code",
   "execution_count": null,
   "id": "c09d3c1a-0cbf-4d16-83d5-c787d07e7382",
   "metadata": {},
   "outputs": [],
   "source": [
    "a1 = BonferroniElement(g1,g2,1,2)\n",
    "a2 = BonferroniElement(g1,g3,1,2)\n",
    "a3 = BonferroniElement(g2,g3,1,2)"
   ]
  },
  {
   "cell_type": "code",
   "execution_count": null,
   "id": "2b44b94b-78e6-4add-9108-0408c90b7af1",
   "metadata": {},
   "outputs": [],
   "source": [
    "a = [a1,a2,a3]"
   ]
  },
  {
   "cell_type": "code",
   "execution_count": null,
   "id": "e075f73b-c1f7-4c29-82c7-76c74f12f827",
   "metadata": {},
   "outputs": [],
   "source": [
    "sumDHFFEs = DHFFE([0],[1])\n",
    "for gg in a:\n",
    "    sumDHFFEs = DHFFE_Einstein_Plus(gg,sumDHFFEs)"
   ]
  },
  {
   "cell_type": "code",
   "execution_count": null,
   "id": "45838712-fd34-40c9-a782-131b58cafdbd",
   "metadata": {},
   "outputs": [],
   "source": [
    "sumDHFFEs = (sumDHFFEs.Einstein_Times(1/(len(a)*(len(a)-1)))).Einstein_Power(1/3)"
   ]
  },
  {
   "cell_type": "code",
   "execution_count": null,
   "id": "4ee1fd46-957d-4880-84a7-ae04c7bcf97f",
   "metadata": {},
   "outputs": [],
   "source": [
    "sumDHFFEs.MD,sumDHFFEs.NMD"
   ]
  },
  {
   "cell_type": "code",
   "execution_count": null,
   "id": "abc0c708-00fd-40e3-bb25-6dce30fcb83e",
   "metadata": {},
   "outputs": [],
   "source": [
    "score(sumDHFFEs)"
   ]
  },
  {
   "cell_type": "code",
   "execution_count": null,
   "id": "afce315e-25a4-4c21-8af2-b65faf4eca5e",
   "metadata": {},
   "outputs": [],
   "source": []
  },
  {
   "cell_type": "code",
   "execution_count": null,
   "id": "77febbed-7475-41c1-8bcd-77091c51ae40",
   "metadata": {},
   "outputs": [],
   "source": []
  },
  {
   "cell_type": "code",
   "execution_count": null,
   "id": "b4ad7960-a6c3-4922-9be8-de3dd0bb0c7a",
   "metadata": {},
   "outputs": [],
   "source": []
  },
  {
   "cell_type": "code",
   "execution_count": null,
   "id": "a375d55d-46ee-466b-a5be-a31a39cffeff",
   "metadata": {},
   "outputs": [],
   "source": []
  },
  {
   "cell_type": "code",
   "execution_count": null,
   "id": "1e00e242-39ee-4de0-af2f-9e88a452bac5",
   "metadata": {},
   "outputs": [],
   "source": []
  },
  {
   "cell_type": "code",
   "execution_count": null,
   "id": "8ca07ba2-855a-47b6-8091-7f26b464f652",
   "metadata": {},
   "outputs": [],
   "source": []
  },
  {
   "cell_type": "code",
   "execution_count": null,
   "id": "3ee523aa-15fc-4b6b-b673-26156b065ee3",
   "metadata": {},
   "outputs": [],
   "source": []
  },
  {
   "cell_type": "code",
   "execution_count": null,
   "id": "eaa061f4-2175-424f-bd53-397ea7ba2cf5",
   "metadata": {},
   "outputs": [],
   "source": [
    "g1 = DHIFE([0.3,0.4],[0.6])\n",
    "g2 = DHIFE([0.4,0.5],[0.3,0.4])\n",
    "g3 = DHIFE([0.2,0.3],[0.7])\n",
    "g4 = DHIFE([0.4,0.5],[0.5])"
   ]
  },
  {
   "cell_type": "code",
   "execution_count": null,
   "id": "132c2df5-62b8-4ff6-9df9-05b0c9ed8d05",
   "metadata": {},
   "outputs": [],
   "source": [
    "g1 = g1.Algebraic_Times(0.2)\n",
    "g2 = g2.Algebraic_Times(0.15)\n",
    "g3 = g3.Algebraic_Times(0.35)\n",
    "g4 = g4.Algebraic_Times(0.3)"
   ]
  },
  {
   "cell_type": "code",
   "execution_count": null,
   "id": "5c182aa8-0cb8-4d8f-81a9-9a75502e9ee5",
   "metadata": {},
   "outputs": [],
   "source": [
    "p = DHIFE_Algebraic_Plus(DHIFE_Algebraic_Plus(DHIFE_Algebraic_Plus(g1,g2),g3),g4)"
   ]
  },
  {
   "cell_type": "code",
   "execution_count": null,
   "id": "dad2d87a-d41e-4ffd-b5ed-bdfb5766fcc9",
   "metadata": {},
   "outputs": [],
   "source": [
    "score(p)"
   ]
  },
  {
   "cell_type": "code",
   "execution_count": null,
   "id": "aa3e0c74-60ad-46db-9763-a456f07c90f0",
   "metadata": {},
   "outputs": [],
   "source": [
    "p.MD"
   ]
  },
  {
   "cell_type": "code",
   "execution_count": null,
   "id": "c25953ce-abc9-4ea6-84fe-82536bca4390",
   "metadata": {},
   "outputs": [],
   "source": [
    "p.NMD"
   ]
  },
  {
   "cell_type": "code",
   "execution_count": null,
   "id": "3f89c940-fd7f-4e29-9892-d6d2bef0ef7d",
   "metadata": {},
   "outputs": [],
   "source": []
  }
 ],
 "metadata": {
  "kernelspec": {
   "display_name": "Python 3 (ipykernel)",
   "language": "python",
   "name": "python3"
  },
  "language_info": {
   "codemirror_mode": {
    "name": "ipython",
    "version": 3
   },
   "file_extension": ".py",
   "mimetype": "text/x-python",
   "name": "python",
   "nbconvert_exporter": "python",
   "pygments_lexer": "ipython3",
   "version": "3.8.12"
  }
 },
 "nbformat": 4,
 "nbformat_minor": 5
}
