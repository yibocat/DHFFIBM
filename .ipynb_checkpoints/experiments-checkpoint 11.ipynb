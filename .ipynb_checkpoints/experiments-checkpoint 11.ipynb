{
 "cells": [
  {
   "cell_type": "code",
   "execution_count": 1,
   "id": "383bc844",
   "metadata": {},
   "outputs": [],
   "source": [
    "from math import pow\n",
    "from Archimedean import *\n",
    "from DHFEs import *\n",
    "from tqdm import tqdm"
   ]
  },
  {
   "cell_type": "code",
   "execution_count": 2,
   "id": "980f2df4",
   "metadata": {},
   "outputs": [],
   "source": [
    "def score(DHFFIBM):\n",
    "    sum = 0\n",
    "    for i in DHFFIBM.MD:\n",
    "        sum = sum+i\n",
    "    average_MD=sum/len(DHFFIBM.MD)\n",
    "    sum = 0\n",
    "    for i in DHFFIBM.NMD:\n",
    "        sum = sum+i\n",
    "    average_NMD=sum/len(DHFFIBM.NMD)\n",
    "    score = average_MD-average_NMD\n",
    "    return score"
   ]
  },
  {
   "cell_type": "code",
   "execution_count": 3,
   "id": "24549596",
   "metadata": {},
   "outputs": [],
   "source": [
    "## 保留小数点后 3 位\n",
    "def Re3decimal(d):\n",
    "    x = DHFFE([],[])\n",
    "    for i in d.MD:\n",
    "        x.MD.append(format(i,'.3f'))\n",
    "    for i in d.NMD:\n",
    "        x.NMD.append(format(i,'.3f'))\n",
    "    return x"
   ]
  },
  {
   "cell_type": "code",
   "execution_count": 4,
   "id": "b75f58f7",
   "metadata": {},
   "outputs": [],
   "source": [
    "## 对偶犹豫费马模糊爱因斯坦加权 Bonferroni Mean 算子(DHFFWBM)\n",
    "\n",
    "def DHFFEWBM(alter,weight,p,q):\n",
    "    ## Dual Hesitant Fermatean Fuzzy Einstein Bonferroni Mean Operator\n",
    "    ## alter means the alternatives\n",
    "    ## weight means the weighted vector of the attribute\n",
    "    \n",
    "    def BonferroniElement(d1,d2,p,q):\n",
    "        ## DHFF Bonferroni Elements\n",
    "        s1 = DHFFE_Einstein_Multiply(d1.Einstein_Power(p),d2.Einstein_Power(q))\n",
    "        s2 = DHFFE_Einstein_Multiply(d1.Einstein_Power(q),d2.Einstein_Power(p))\n",
    "        return DHFFE_Einstein_Plus(s1,s2)\n",
    "    \n",
    "    dlist = []\n",
    "    if weight == 0:\n",
    "        ## 权重为 0，说明没有权重，直接将 alter 即 DHFFE 数组赋值给 dl\n",
    "        dl = alter\n",
    "        for i,d1 in enumerate(dl):\n",
    "            for j,d2 in enumerate(dl[:i]):\n",
    "                dlist.append(BonferroniElement(d1,d2,p,q))\n",
    "    else:\n",
    "        ## 将权重向量乘以备选方案列表\n",
    "        dl = []\n",
    "        try:\n",
    "            ## 判断权重向量与数列向量基数是否相同\n",
    "            assert len(alter) == len(weight)\n",
    "        except e:\n",
    "            print(\"The number of alter is not equal to the number of weight!\",e)\n",
    "        for i in range(len(alter)):\n",
    "            dl.append(alter[i].Einstein_Times(weight[i]))\n",
    "        for i,d1 in enumerate(dl):\n",
    "            for j,d2 in enumerate(dl[:i]):\n",
    "                dlist.append(BonferroniElement(d1,d2,p,q))\n",
    "    aggDHFFE = DHFFE([0],[1])\n",
    "    for agg in dlist:\n",
    "        aggDHFFE = DHFFE_Einstein_Plus(agg,aggDHFFE)\n",
    "    aggDHFFE = (aggDHFFE.Einstein_Times(1/(len(alter)*(len(alter)-1)))).Einstein_Power(1/(p+q))    \n",
    "    return aggDHFFE"
   ]
  },
  {
   "cell_type": "code",
   "execution_count": 5,
   "id": "d627d998",
   "metadata": {},
   "outputs": [],
   "source": [
    "## 对偶犹豫费马模糊加权 Bonferroni Mean (DHFFWBM)\n",
    "\n",
    "def DHFFWBM(alter,weight,p,q):\n",
    "    ## Dual Hesitant Fermatean Fuzzy Bonferroni Mean Operator\n",
    "    ## alter means the alternatives\n",
    "    ## weight means the weighted vector of the attribute\n",
    "    \n",
    "    def BonferroniElement(d1,d2,p,q):\n",
    "        ## DHFF Bonferroni Elements\n",
    "        s1 = DHFFE_Algebraic_Multiply(d1.Algebraic_Power(p),d2.Algebraic_Power(q))\n",
    "        s2 = DHFFE_Algebraic_Multiply(d1.Algebraic_Power(q),d2.Algebraic_Power(p))\n",
    "        return DHFFE_Algebraic_Plus(s1,s2)\n",
    "    \n",
    "    dlist = []\n",
    "    if weight == 0:\n",
    "        ## 权重为 0，说明没有权重，直接将 alter 即 DHFFE 数组赋值给 dl\n",
    "        dl = alter\n",
    "        for i,d1 in enumerate(dl):\n",
    "            for j,d2 in enumerate(dl[:i]):\n",
    "                dlist.append(BonferroniElement(d1,d2,p,q))\n",
    "    else:\n",
    "        ## 将权重向量乘以备选方案列表\n",
    "        dl = []\n",
    "        try:\n",
    "            ## 判断权重向量与数列向量基数是否相同\n",
    "            assert len(alter) == len(weight)\n",
    "        except e:\n",
    "            print(\"The number of alter is not equal to the number of weight!\",e)\n",
    "        for i in range(len(alter)):\n",
    "            dl.append(alter[i].Algebraic_Times(weight[i]))\n",
    "        for i,d1 in enumerate(dl):\n",
    "            for j,d2 in enumerate(dl[:i]):\n",
    "                dlist.append(BonferroniElement(d1,d2,p,q))\n",
    "    aggDHFFE = DHFFE([0],[1])\n",
    "    for agg in dlist:\n",
    "        aggDHFFE = DHFFE_Algebraic_Plus(agg,aggDHFFE)\n",
    "    aggDHFFE = (aggDHFFE.Algebraic_Times(1/(len(alter)*(len(alter)-1)))).Algebraic_Power(1/(p+q))    \n",
    "    return aggDHFFE"
   ]
  },
  {
   "cell_type": "code",
   "execution_count": 6,
   "id": "a3318681",
   "metadata": {},
   "outputs": [],
   "source": [
    "## 对偶犹豫费马模糊爱因斯坦加权平均 (DHFFEWA)\n",
    "\n",
    "def DHFFEWA(alter,weight):\n",
    "    dlist = []\n",
    "    try:\n",
    "        assert len(alter) == len(weight)\n",
    "    except e:\n",
    "        print(\"The number of alter is not equal to the number of weight!\",e)\n",
    "    for i in range(len(alter)):\n",
    "        dlist.append(alter[i].Einstein_Times(weight[i]))\n",
    "    aggDHFFE = DHFFE([0],[1])\n",
    "    for agg in dlist:\n",
    "        aggDHFFE = DHFFE_Einstein_Plus(agg,aggDHFFE)\n",
    "    return aggDHFFE       "
   ]
  },
  {
   "cell_type": "code",
   "execution_count": 7,
   "id": "43d9a81f",
   "metadata": {},
   "outputs": [],
   "source": [
    "## 对偶犹豫费马模糊爱因斯坦加权几何 (DHFFEWG)\n",
    "\n",
    "def DHFFEWG(alter,weight):\n",
    "    dlist = []\n",
    "    try:\n",
    "        assert len(alter) == len(weight)\n",
    "    except e:\n",
    "        print(\"The number of alter is not equal to the number of weight!\",e)\n",
    "    for i in range(len(alter)):\n",
    "        dlist.append(alter[i].Einstein_Power(weight[i]))\n",
    "    aggDHFFE = DHFFE([1],[0])\n",
    "    for agg in dlist:\n",
    "        aggDHFFE = DHFFE_Einstein_Multiply(agg,aggDHFFE)\n",
    "    return aggDHFFE       "
   ]
  },
  {
   "cell_type": "code",
   "execution_count": 8,
   "id": "bcdc9817",
   "metadata": {},
   "outputs": [],
   "source": [
    "## 对偶犹豫费马模糊加权平均(DHFFWA)\n",
    "\n",
    "def DHFFWA(alter,weight):\n",
    "    dlist = []\n",
    "    try:\n",
    "        assert len(alter) == len(weight)\n",
    "    except e:\n",
    "        print(\"The number of alter is not equal to the number of weight!\",e)\n",
    "    for i in range(len(alter)):\n",
    "        dlist.append(alter[i].Algebraic_Times(weight[i]))\n",
    "    aggDHFFE = DHFFE([0],[1])\n",
    "    for agg in dlist:\n",
    "        aggDHFFE = DHFFE_Algebraic_Plus(agg,aggDHFFE)\n",
    "    return aggDHFFE   "
   ]
  },
  {
   "cell_type": "code",
   "execution_count": 9,
   "id": "5d6469eb",
   "metadata": {},
   "outputs": [],
   "source": [
    "## 对偶犹豫费马模糊加权几何 (DHFFWG)\n",
    "\n",
    "def DHFFWG(alter,weight):\n",
    "    dlist = []\n",
    "    try:\n",
    "        assert len(alter) == len(weight)\n",
    "    except e:\n",
    "        print(\"The number of alter is not equal to the number of weight!\",e)\n",
    "    for i in range(len(alter)):\n",
    "        dlist.append(alter[i].Algebraic_Power(weight[i]))\n",
    "    aggDHFFE = DHFFE([1],[0])\n",
    "    for agg in dlist:\n",
    "        aggDHFFE = DHFFE_Algebraic_Multiply(agg,aggDHFFE)\n",
    "    return aggDHFFE   "
   ]
  },
  {
   "cell_type": "code",
   "execution_count": 10,
   "id": "ac18d64d",
   "metadata": {},
   "outputs": [],
   "source": [
    "## 对偶犹豫毕达哥拉斯模糊爱因斯坦加权 Bonferroni Mean 算子(DHPFEWBM)\n",
    "\n",
    "def DHPFEWBM(alter,weight,p,q):\n",
    "    ## Dual Hesitant Pythagorean Fuzzy Einstein Bonferroni Mean Operator\n",
    "    ## alter means the alternatives\n",
    "    ## weight means the weighted vector of the attribute\n",
    "    \n",
    "    def BonferroniElement(d1,d2,p,q):\n",
    "        ## DHFF Bonferroni Elements\n",
    "        s1 = DHPFE_Einstein_Multiply(d1.Einstein_Power(p),d2.Einstein_Power(q))\n",
    "        s2 = DHPFE_Einstein_Multiply(d1.Einstein_Power(q),d2.Einstein_Power(p))\n",
    "        return DHPFE_Einstein_Plus(s1,s2)\n",
    "    \n",
    "    dlist = []\n",
    "    if weight == 0:\n",
    "        ## 权重为 0，说明没有权重，直接将 alter 即 DHFFE 数组赋值给 dl\n",
    "        dl = alter\n",
    "        for i,d1 in enumerate(dl):\n",
    "            for j,d2 in enumerate(dl[:i]):\n",
    "                dlist.append(BonferroniElement(d1,d2,p,q))\n",
    "    else:\n",
    "        ## 将权重向量乘以备选方案列表\n",
    "        dl = []\n",
    "        try:\n",
    "            ## 判断权重向量与数列向量基数是否相同\n",
    "            assert len(alter) == len(weight)\n",
    "        except e:\n",
    "            print(\"The number of alter is not equal to the number of weight!\",e)\n",
    "        for i in range(len(alter)):\n",
    "            dl.append(alter[i].Einstein_Times(weight[i]))\n",
    "        for i,d1 in enumerate(dl):\n",
    "            for j,d2 in enumerate(dl[:i]):\n",
    "                dlist.append(BonferroniElement(d1,d2,p,q))\n",
    "    aggDHPFE = DHPFE([0],[1])\n",
    "    for agg in dlist:\n",
    "        aggDHPFE = DHPFE_Einstein_Plus(agg,aggDHPFE)\n",
    "    aggDHPFE = (aggDHPFE.Einstein_Times(1/(len(alter)*(len(alter)-1)))).Einstein_Power(1/(p+q))    \n",
    "    return aggDHPFE"
   ]
  },
  {
   "cell_type": "code",
   "execution_count": 11,
   "id": "46bc37a8",
   "metadata": {},
   "outputs": [],
   "source": [
    "## 对偶犹豫毕达哥拉斯模糊加权 Bonferroni Mean 算子(DHFFWBM)\n",
    "\n",
    "def DHPFWBM(alter,weight,p,q):\n",
    "    ## Dual Hesitant Pythagorean Fuzzy Einstein Bonferroni Mean Operator\n",
    "    ## alter means the alternatives\n",
    "    ## weight means the weighted vector of the attribute\n",
    "    \n",
    "    def BonferroniElement(d1,d2,p,q):\n",
    "        ## DHFF Bonferroni Elements\n",
    "        s1 = DHPFE_Algebraic_Multiply(d1.Algebraic_Power(p),d2.Algebraic_Power(q))\n",
    "        s2 = DHPFE_Algebraic_Multiply(d1.Algebraic_Power(q),d2.Algebraic_Power(p))\n",
    "        return DHPFE_Algebraic_Plus(s1,s2)\n",
    "    \n",
    "    dlist = []\n",
    "    if weight == 0:\n",
    "        ## 权重为 0，说明没有权重，直接将 alter 即 DHFFE 数组赋值给 dl\n",
    "        dl = alter\n",
    "        for i,d1 in enumerate(dl):\n",
    "            for j,d2 in enumerate(dl[:i]):\n",
    "                dlist.append(BonferroniElement(d1,d2,p,q))\n",
    "    else:\n",
    "        ## 将权重向量乘以备选方案列表\n",
    "        dl = []\n",
    "        try:\n",
    "            ## 判断权重向量与数列向量基数是否相同\n",
    "            assert len(alter) == len(weight)\n",
    "        except e:\n",
    "            print(\"The number of alter is not equal to the number of weight!\",e)\n",
    "        for i in range(len(alter)):\n",
    "            dl.append(alter[i].Algebraic_Times(weight[i]))\n",
    "        for i,d1 in enumerate(dl):\n",
    "            for j,d2 in enumerate(dl[:i]):\n",
    "                dlist.append(BonferroniElement(d1,d2,p,q))\n",
    "    aggDHPFE = DHPFE([0],[1])\n",
    "    for agg in dlist:\n",
    "        aggDHPFE = DHPFE_Algebraic_Plus(agg,aggDHPFE)\n",
    "    aggDHPFE = (aggDHPFE.Algebraic_Times(1/(len(alter)*(len(alter)-1)))).Algebraic_Power(1/(p+q))    \n",
    "    return aggDHPFE"
   ]
  },
  {
   "cell_type": "code",
   "execution_count": 12,
   "id": "47813752",
   "metadata": {},
   "outputs": [],
   "source": [
    "## 对偶犹豫毕达哥拉斯模糊爱因斯坦加权平均 (DHPFEWA)\n",
    "\n",
    "def DHPFEWA(alter,weight):\n",
    "    dlist = []\n",
    "    try:\n",
    "        assert len(alter) == len(weight)\n",
    "    except e:\n",
    "        print(\"The number of alter is not equal to the number of weight!\",e)\n",
    "    for i in range(len(alter)):\n",
    "        dlist.append(alter[i].Einstein_Times(weight[i]))\n",
    "    aggDHPFE = DHPFE([0],[1])\n",
    "    for agg in dlist:\n",
    "        aggDHPFE = DHPFE_Einstein_Plus(agg,aggDHPFE)\n",
    "    return aggDHPFE       "
   ]
  },
  {
   "cell_type": "code",
   "execution_count": 13,
   "id": "94284c1e",
   "metadata": {},
   "outputs": [],
   "source": [
    "## 对偶犹豫毕达哥拉斯模糊加权平均 (DHPFWA)\n",
    "\n",
    "def DHPFWA(alter,weight):\n",
    "    dlist = []\n",
    "    try:\n",
    "        assert len(alter) == len(weight)\n",
    "    except e:\n",
    "        print(\"The number of alter is not equal to the number of weight!\",e)\n",
    "    for i in range(len(alter)):\n",
    "        dlist.append(alter[i].Algebraic_Times(weight[i]))\n",
    "    aggDHPFE = DHPFE([0],[1])\n",
    "    for agg in dlist:\n",
    "        aggDHPFE = DHPFE_Algebraic_Plus(agg,aggDHPFE)\n",
    "    return aggDHPFE       "
   ]
  },
  {
   "cell_type": "code",
   "execution_count": null,
   "id": "9ae7feca",
   "metadata": {},
   "outputs": [],
   "source": []
  },
  {
   "cell_type": "code",
   "execution_count": 14,
   "id": "c1b8e02a",
   "metadata": {},
   "outputs": [],
   "source": [
    "## 对偶犹豫费马模糊爱因斯坦加权 Bonferroni Mean (DHFFEWBM)"
   ]
  },
  {
   "cell_type": "code",
   "execution_count": 15,
   "id": "52950bb4",
   "metadata": {},
   "outputs": [],
   "source": [
    "a11 = DHFFE([0.5],[0.4,0.5])\n",
    "a12 = DHFFE([0.5,0.6],[0.2])\n",
    "a13 = DHFFE([0.7],[0.1,0.4])\n",
    "a14 = DHFFE([0.5,0.8],[0.5])\n",
    "a15 = DHFFE([0.8],[0.6])\n",
    "\n",
    "a21 = DHFFE([0.9,0.8],[0.3])\n",
    "a22 = DHFFE([0.6],[0.3])\n",
    "a23 = DHFFE([0.7,0.8],[0.5])\n",
    "a24 = DHFFE([0.8],[0.1])\n",
    "a25 = DHFFE([0.7,0.8],[0.2,0.3])\n",
    "\n",
    "a31 = DHFFE([0.6,0.7],[0.3])\n",
    "a32 = DHFFE([0.5,0.7],[0.4])\n",
    "a33 = DHFFE([0.4,0.6],[0.2,0.5])\n",
    "a34 = DHFFE([0.8],[0.3,0.4])\n",
    "a35 = DHFFE([0.7],[0.5])\n",
    "\n",
    "a41 = DHFFE([0.5],[0.4])\n",
    "a42 = DHFFE([0.6,0.8],[0.1])\n",
    "a43 = DHFFE([0.8],[0.2,0.4])\n",
    "a44 = DHFFE([0.9],[0.2,0.3])\n",
    "a45 = DHFFE([0.5,0.7],[0.5,0.3])\n",
    "\n",
    "a51 = DHFFE([0.5,0.8],[0.2])\n",
    "a52 = DHFFE([0.8],[0.1,0.2])\n",
    "a53 = DHFFE([0.7,0.8],[0.5])\n",
    "a54 = DHFFE([0.5],[0.2])\n",
    "a55 = DHFFE([0.6],[0.2,0.3])"
   ]
  },
  {
   "cell_type": "code",
   "execution_count": 16,
   "id": "91652e12",
   "metadata": {},
   "outputs": [],
   "source": [
    "alter1 = [a11,a12,a13,a14,a15]\n",
    "alter2 = [a21,a22,a23,a24,a25]\n",
    "alter3 = [a31,a32,a33,a34,a35]\n",
    "alter4 = [a41,a42,a43,a44,a45]\n",
    "alter5 = [a51,a52,a53,a54,a55]\n",
    "weight = [0.2,0.15,0.2,0.3,0.15]"
   ]
  },
  {
   "cell_type": "code",
   "execution_count": null,
   "id": "ef5bf5a4",
   "metadata": {},
   "outputs": [],
   "source": [
    "p,q=1,1"
   ]
  },
  {
   "cell_type": "code",
   "execution_count": null,
   "id": "96e97f81",
   "metadata": {},
   "outputs": [],
   "source": [
    "## The effect of p,q on DHFFEWBM "
   ]
  },
  {
   "cell_type": "code",
   "execution_count": null,
   "id": "fba38699",
   "metadata": {},
   "outputs": [],
   "source": [
    "p,q = 0,1"
   ]
  },
  {
   "cell_type": "code",
   "execution_count": null,
   "id": "b20a5482",
   "metadata": {},
   "outputs": [],
   "source": [
    "p,q = 1,1"
   ]
  },
  {
   "cell_type": "code",
   "execution_count": null,
   "id": "458af95a",
   "metadata": {},
   "outputs": [],
   "source": [
    "p,q = 2,1"
   ]
  },
  {
   "cell_type": "code",
   "execution_count": null,
   "id": "1792a75e",
   "metadata": {},
   "outputs": [],
   "source": [
    "p,q = 2,2"
   ]
  },
  {
   "cell_type": "code",
   "execution_count": null,
   "id": "0a4ff055",
   "metadata": {},
   "outputs": [],
   "source": [
    "p,q = 3,1"
   ]
  },
  {
   "cell_type": "code",
   "execution_count": null,
   "id": "5c7e6547",
   "metadata": {},
   "outputs": [],
   "source": [
    "p,q = 3,2"
   ]
  },
  {
   "cell_type": "code",
   "execution_count": null,
   "id": "0860f7b0",
   "metadata": {},
   "outputs": [],
   "source": [
    "p,q = 3,3"
   ]
  },
  {
   "cell_type": "code",
   "execution_count": null,
   "id": "424a3911",
   "metadata": {},
   "outputs": [],
   "source": [
    "%%time\n",
    "D1 = DHFFEBM(alter1,weight,p,q)\n",
    "D2 = DHFFEBM(alter2,weight,p,q)\n",
    "D3 = DHFFEBM(alter3,weight,p,q)\n",
    "D4 = DHFFEBM(alter4,weight,p,q)\n",
    "D5 = DHFFEBM(alter5,weight,p,q)"
   ]
  },
  {
   "cell_type": "code",
   "execution_count": null,
   "id": "6e0840b1",
   "metadata": {},
   "outputs": [],
   "source": []
  },
  {
   "cell_type": "code",
   "execution_count": null,
   "id": "d7b89fe7",
   "metadata": {},
   "outputs": [],
   "source": []
  },
  {
   "cell_type": "code",
   "execution_count": 17,
   "id": "d2aac628",
   "metadata": {},
   "outputs": [],
   "source": [
    "p,q = 1,1"
   ]
  },
  {
   "cell_type": "code",
   "execution_count": null,
   "id": "92cc2bde",
   "metadata": {},
   "outputs": [],
   "source": [
    "%%time\n",
    "dhffewbm1 = DHFFEWBM(alter1,0,p,q)\n",
    "dhffewbm2 = DHFFEWBM(alter2,0,p,q)\n",
    "dhffewbm3 = DHFFEWBM(alter3,0,p,q)\n",
    "dhffewbm4 = DHFFEWBM(alter4,0,p,q)\n",
    "dhffewbm5 = DHFFEWBM(alter5,0,p,q)"
   ]
  },
  {
   "cell_type": "code",
   "execution_count": null,
   "id": "28d6c29e",
   "metadata": {},
   "outputs": [],
   "source": [
    "%%time\n",
    "score(dhffewbm1),score(dhffewbm2),score(dhffewbm3),score(dhffewbm4),score(dhffewbm5),"
   ]
  },
  {
   "cell_type": "code",
   "execution_count": null,
   "id": "87054709",
   "metadata": {},
   "outputs": [],
   "source": []
  },
  {
   "cell_type": "code",
   "execution_count": null,
   "id": "b05c6ccd",
   "metadata": {},
   "outputs": [],
   "source": [
    "## 加权"
   ]
  },
  {
   "cell_type": "code",
   "execution_count": null,
   "id": "3a026d1c",
   "metadata": {},
   "outputs": [],
   "source": [
    "%%time\n",
    "## 对偶犹豫费马模糊爱因斯坦加权 BM\n",
    "dhffewbm1 = DHFFEWBM(alter1,weight,p,q)\n",
    "dhffewbm2 = DHFFEWBM(alter2,weight,p,q)\n",
    "dhffewbm3 = DHFFEWBM(alter3,weight,p,q)\n",
    "dhffewbm4 = DHFFEWBM(alter4,weight,p,q)\n",
    "dhffewbm5 = DHFFEWBM(alter5,weight,p,q)"
   ]
  },
  {
   "cell_type": "code",
   "execution_count": null,
   "id": "f1355fb2",
   "metadata": {},
   "outputs": [],
   "source": [
    "%%time\n",
    "score(dhffewbm1),score(dhffewbm2),score(dhffewbm3),score(dhffewbm4),score(dhffewbm5)"
   ]
  },
  {
   "cell_type": "code",
   "execution_count": null,
   "id": "cf41c68a",
   "metadata": {},
   "outputs": [],
   "source": [
    "%%time\n",
    "## 对偶犹豫费马模糊加权 BM\n",
    "dhffwbm1 = DHFFWBM(alter1,weight,p,q)\n",
    "dhffwbm2 = DHFFWBM(alter2,weight,p,q)\n",
    "dhffwbm3 = DHFFWBM(alter3,weight,p,q)\n",
    "dhffwbm4 = DHFFWBM(alter4,weight,p,q)\n",
    "dhffwbm5 = DHFFWBM(alter5,weight,p,q)"
   ]
  },
  {
   "cell_type": "code",
   "execution_count": null,
   "id": "f32f3115",
   "metadata": {},
   "outputs": [],
   "source": [
    "%%time\n",
    "score(dhffwbm1),score(dhffwbm2),score(dhffwbm3),score(dhffwbm4),score(dhffwbm5)"
   ]
  },
  {
   "cell_type": "code",
   "execution_count": null,
   "id": "faae88dd",
   "metadata": {},
   "outputs": [],
   "source": [
    "%%time\n",
    "## 对偶犹豫费马模糊爱因斯坦加权平均\n",
    "dhffewa1 = DHFFEWA(alter1,weight)\n",
    "dhffewa2 = DHFFEWA(alter2,weight)\n",
    "dhffewa3 = DHFFEWA(alter3,weight)\n",
    "dhffewa4 = DHFFEWA(alter4,weight)\n",
    "dhffewa5 = DHFFEWA(alter5,weight)"
   ]
  },
  {
   "cell_type": "code",
   "execution_count": null,
   "id": "474d80e0",
   "metadata": {},
   "outputs": [],
   "source": [
    "%%time\n",
    "score(dhffewa1),score(dhffewa2),score(dhffewa3),score(dhffewa4),score(dhffewa5)"
   ]
  },
  {
   "cell_type": "code",
   "execution_count": null,
   "id": "db3d4e26",
   "metadata": {},
   "outputs": [],
   "source": [
    "%%time\n",
    "## 对偶犹豫费马模糊爱因斯坦加权几何\n",
    "dhffewg1 = DHFFEWG(alter1,weight)\n",
    "dhffewg2 = DHFFEWG(alter2,weight)\n",
    "dhffewg3 = DHFFEWG(alter3,weight)\n",
    "dhffewg4 = DHFFEWG(alter4,weight)\n",
    "dhffewg5 = DHFFEWG(alter5,weight)"
   ]
  },
  {
   "cell_type": "code",
   "execution_count": null,
   "id": "cab630c3",
   "metadata": {},
   "outputs": [],
   "source": [
    "%%time\n",
    "score(dhffewg1),score(dhffewg2),score(dhffewg3),score(dhffewg4),score(dhffewg5)"
   ]
  },
  {
   "cell_type": "code",
   "execution_count": null,
   "id": "d6e18e58",
   "metadata": {},
   "outputs": [],
   "source": [
    "%%time\n",
    "## 对偶犹豫费马模糊加权平均\n",
    "dhffwa1 = DHFFWA(alter1,weight)\n",
    "dhffwa2 = DHFFWA(alter2,weight)\n",
    "dhffwa3 = DHFFWA(alter3,weight)\n",
    "dhffwa4 = DHFFWA(alter4,weight)\n",
    "dhffwa5 = DHFFWA(alter5,weight)"
   ]
  },
  {
   "cell_type": "code",
   "execution_count": null,
   "id": "da9bad1e",
   "metadata": {},
   "outputs": [],
   "source": [
    "%%time\n",
    "score(dhffwa1),score(dhffwa2),score(dhffwa3),score(dhffwa4),score(dhffwa5)"
   ]
  },
  {
   "cell_type": "code",
   "execution_count": null,
   "id": "6aa604d0",
   "metadata": {},
   "outputs": [],
   "source": [
    "%%time\n",
    "## 对偶犹豫费马模糊加权几何\n",
    "dhffwg1 = DHFFWG(alter1,weight)\n",
    "dhffwg2 = DHFFWG(alter2,weight)\n",
    "dhffwg3 = DHFFWG(alter3,weight)\n",
    "dhffwg4 = DHFFWG(alter4,weight)\n",
    "dhffwg5 = DHFFWG(alter5,weight)"
   ]
  },
  {
   "cell_type": "code",
   "execution_count": null,
   "id": "5e256a33",
   "metadata": {},
   "outputs": [],
   "source": [
    "%%time\n",
    "score(dhffwg1),score(dhffwg2),score(dhffwg3),score(dhffwg4),score(dhffwg5)"
   ]
  },
  {
   "cell_type": "code",
   "execution_count": null,
   "id": "ad8c8e2c",
   "metadata": {},
   "outputs": [],
   "source": [
    "%%time\n",
    "## 对偶犹豫毕达哥拉斯模糊爱因斯坦加权 BM\n",
    "dhpfewbm1 = DHPFEWBM(alter1,weight,p,q)\n",
    "dhpfewbm2 = DHPFEWBM(alter2,weight,p,q)\n",
    "dhpfewbm3 = DHPFEWBM(alter3,weight,p,q)\n",
    "dhpfewbm4 = DHPFEWBM(alter4,weight,p,q)\n",
    "dhpfewbm5 = DHPFEWBM(alter5,weight,p,q)"
   ]
  },
  {
   "cell_type": "code",
   "execution_count": null,
   "id": "cb9ab364",
   "metadata": {},
   "outputs": [],
   "source": [
    "%%time\n",
    "score(dhpfewbm1),score(dhpfewbm2),score(dhpfewbm3),score(dhpfewbm4),score(dhpfewbm5)"
   ]
  },
  {
   "cell_type": "code",
   "execution_count": null,
   "id": "bf2133a5",
   "metadata": {},
   "outputs": [],
   "source": [
    "%%time\n",
    "## 对偶犹豫毕达哥拉斯模糊加权 BM\n",
    "dhpfwbm1 = DHPFWBM(alter1,weight,p,q)\n",
    "dhpfwbm2 = DHPFWBM(alter2,weight,p,q)\n",
    "dhpfwbm3 = DHPFWBM(alter3,weight,p,q)\n",
    "dhpfwbm4 = DHPFWBM(alter4,weight,p,q)\n",
    "dhpfwbm5 = DHPFWBM(alter5,weight,p,q)"
   ]
  },
  {
   "cell_type": "code",
   "execution_count": null,
   "id": "d14dad02",
   "metadata": {},
   "outputs": [],
   "source": [
    "%%time\n",
    "score(dhpfwbm1),score(dhpfwbm2),score(dhpfwbm3),score(dhpfwbm4),score(dhpfwbm5)"
   ]
  },
  {
   "cell_type": "code",
   "execution_count": null,
   "id": "f555e1e3",
   "metadata": {},
   "outputs": [],
   "source": [
    "%%time\n",
    "## 对偶犹豫毕达哥拉斯模糊爱因斯坦加权平均\n",
    "dhpfewa1 = DHPFEWA(alter1,weight)\n",
    "dhpfewa2 = DHPFEWA(alter2,weight)\n",
    "dhpfewa3 = DHPFEWA(alter3,weight)\n",
    "dhpfewa4 = DHPFEWA(alter4,weight)\n",
    "dhpfewa5 = DHPFEWA(alter5,weight)"
   ]
  },
  {
   "cell_type": "code",
   "execution_count": null,
   "id": "a92fa551",
   "metadata": {},
   "outputs": [],
   "source": [
    "%%time\n",
    "score(dhpfewa1),score(dhpfewa2),score(dhpfewa3),score(dhpfewa4),score(dhpfewa5)"
   ]
  },
  {
   "cell_type": "code",
   "execution_count": null,
   "id": "19f3b523",
   "metadata": {},
   "outputs": [],
   "source": [
    "%%time\n",
    "## 对偶犹豫毕达哥拉斯模糊加权平均\n",
    "dhpfwa1 = DHPFWA(alter1,weight)\n",
    "dhpfwa2 = DHPFWA(alter2,weight)\n",
    "dhpfwa3 = DHPFWA(alter3,weight)\n",
    "dhpfwa4 = DHPFWA(alter4,weight)\n",
    "dhpfwa5 = DHPFWA(alter5,weight)"
   ]
  },
  {
   "cell_type": "code",
   "execution_count": null,
   "id": "4bef4b73",
   "metadata": {},
   "outputs": [],
   "source": [
    "%%time\n",
    "score(dhpfwa1),score(dhpfwa2),score(dhpfwa3),score(dhpfwa4),score(dhpfwa5)"
   ]
  },
  {
   "cell_type": "code",
   "execution_count": null,
   "id": "a1cfc5f8",
   "metadata": {},
   "outputs": [],
   "source": []
  },
  {
   "cell_type": "code",
   "execution_count": null,
   "id": "52e11860",
   "metadata": {},
   "outputs": [],
   "source": []
  },
  {
   "cell_type": "code",
   "execution_count": null,
   "id": "55125074",
   "metadata": {},
   "outputs": [],
   "source": []
  },
  {
   "cell_type": "code",
   "execution_count": null,
   "id": "78e96dee",
   "metadata": {},
   "outputs": [],
   "source": []
  }
 ],
 "metadata": {
  "kernelspec": {
   "display_name": "Python 3 (ipykernel)",
   "language": "python",
   "name": "python3"
  },
  "language_info": {
   "codemirror_mode": {
    "name": "ipython",
    "version": 3
   },
   "file_extension": ".py",
   "mimetype": "text/x-python",
   "name": "python",
   "nbconvert_exporter": "python",
   "pygments_lexer": "ipython3",
   "version": "3.9.10+"
  }
 },
 "nbformat": 4,
 "nbformat_minor": 5
}
