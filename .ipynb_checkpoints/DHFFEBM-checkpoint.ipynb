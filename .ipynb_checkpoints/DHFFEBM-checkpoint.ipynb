{
 "cells": [
  {
   "cell_type": "code",
   "execution_count": 1,
   "id": "ed5a8702-878e-4120-8c26-e11b21480f7b",
   "metadata": {},
   "outputs": [],
   "source": [
    "from math import pow\n",
    "from Archimedean import *\n",
    "from DHFEs import *"
   ]
  },
  {
   "cell_type": "code",
   "execution_count": 39,
   "id": "ee360e8b-f18c-40fe-a578-6958a2d47fb4",
   "metadata": {},
   "outputs": [],
   "source": [
    "def score(DHFFIBM):\n",
    "    sum = 0\n",
    "    for i in DHFFIBM.MD:\n",
    "        sum = sum+i\n",
    "    average_MD=sum/len(DHFFIBM.MD)\n",
    "    sum = 0\n",
    "    for i in DHFFIBM.NMD:\n",
    "        sum = sum+i\n",
    "    average_NMD=sum/len(DHFFIBM.NMD)\n",
    "    score = average_MD-average_NMD\n",
    "    return score"
   ]
  },
  {
   "cell_type": "code",
   "execution_count": 3,
   "id": "4eb01b4f-0094-4cc1-b77f-388194198aa4",
   "metadata": {},
   "outputs": [],
   "source": [
    "## 保留小数点后 3 位\n",
    "def Re3decimal(d):\n",
    "    x = DHFFE([],[])\n",
    "    for i in d.MD:\n",
    "        x.MD.append(format(i,'.3f'))\n",
    "    for i in d.NMD:\n",
    "        x.NMD.append(format(i,'.3f'))\n",
    "    return x"
   ]
  },
  {
   "cell_type": "code",
   "execution_count": null,
   "id": "5effc34f-1b1f-4221-bb67-41b9b0798780",
   "metadata": {},
   "outputs": [],
   "source": []
  },
  {
   "cell_type": "code",
   "execution_count": null,
   "id": "b96a2d70-1344-44ab-8bea-82949b7e7957",
   "metadata": {},
   "outputs": [],
   "source": [
    "## 对偶犹豫费马模糊爱因斯坦加权 Bonferroni 平均算子"
   ]
  },
  {
   "cell_type": "code",
   "execution_count": 446,
   "id": "d8e7a21f-abf7-43f4-ac59-7a517b61779c",
   "metadata": {},
   "outputs": [],
   "source": [
    "g1 = DHFFE([0.8],[0.1,0.2])\n",
    "g2 = DHFFE([0.9],[0.3])\n",
    "g3 = DHFFE([0.9,0.3],[0.2])"
   ]
  },
  {
   "cell_type": "code",
   "execution_count": 414,
   "id": "5dbabe70-a8e1-4335-a003-52e1712b3f73",
   "metadata": {},
   "outputs": [],
   "source": [
    "g1 = g1.Einstein_Times(0.1)\n",
    "g2 = g2.Einstein_Times(0.1)\n",
    "g3 = g3.Einstein_Times(0.8)"
   ]
  },
  {
   "cell_type": "code",
   "execution_count": 447,
   "id": "1d60eb30-1b52-4e46-97d3-2fb536d48a97",
   "metadata": {},
   "outputs": [],
   "source": [
    "## DHFF Bonferroni Elements\n",
    "def BonferroniElement(d1,d2,p,q):\n",
    "    s1 = DHFFE_Einstein_Multiply(d1.Einstein_Power(p),d2.Einstein_Power(q))\n",
    "    s2 = DHFFE_Einstein_Multiply(d1.Einstein_Power(q),d2.Einstein_Power(p))\n",
    "    return DHFFE_Einstein_Plus(s1,s2)"
   ]
  },
  {
   "cell_type": "code",
   "execution_count": 448,
   "id": "516220b8-0179-4fa0-aba4-a16db1f4a65c",
   "metadata": {},
   "outputs": [],
   "source": [
    "a1 = BonferroniElement(g1,g2,1,2)\n",
    "a2 = BonferroniElement(g1,g3,1,2)\n",
    "a3 = BonferroniElement(g2,g3,1,2)"
   ]
  },
  {
   "cell_type": "code",
   "execution_count": 449,
   "id": "bff4dbbb-419d-400d-9d89-4b7b28ece7f3",
   "metadata": {},
   "outputs": [],
   "source": [
    "s = DHFFE_Einstein_Plus(DHFFE_Einstein_Plus(a1,a2),a3)\n"
   ]
  },
  {
   "cell_type": "code",
   "execution_count": 450,
   "id": "eca83e4e-0350-4f5a-9a46-c8fe460035be",
   "metadata": {},
   "outputs": [],
   "source": [
    "s = s.Einstein_Times(1/6)"
   ]
  },
  {
   "cell_type": "code",
   "execution_count": 451,
   "id": "407915bd-7f24-42f2-9023-bfb4181bd24c",
   "metadata": {},
   "outputs": [],
   "source": [
    "s = s.Einstein_Power(1/3)"
   ]
  },
  {
   "cell_type": "code",
   "execution_count": 452,
   "id": "79da30af-adc7-4363-b5d3-645a4c724cc1",
   "metadata": {},
   "outputs": [
    {
     "data": {
      "text/plain": [
       "0.6097973658126388"
      ]
     },
     "execution_count": 452,
     "metadata": {},
     "output_type": "execute_result"
    }
   ],
   "source": [
    "score(s)"
   ]
  },
  {
   "cell_type": "code",
   "execution_count": 453,
   "id": "4c46442c-83f0-40ee-ba2c-fc169e8c1cdd",
   "metadata": {},
   "outputs": [
    {
     "data": {
      "text/plain": [
       "(0.8720034603712676, 0.23723354235037353)"
      ]
     },
     "execution_count": 453,
     "metadata": {},
     "output_type": "execute_result"
    }
   ],
   "source": [
    "max(s.MD),max(s.NMD)"
   ]
  },
  {
   "cell_type": "code",
   "execution_count": 454,
   "id": "3c780094-aa99-482f-9150-7ecc2a85f893",
   "metadata": {},
   "outputs": [
    {
     "data": {
      "text/plain": [
       "[0.8720034603712676,\n",
       " 0.8526279276273063,\n",
       " 0.8520167569581022,\n",
       " 0.8250892811132889,\n",
       " 0.8650636726363383,\n",
       " 0.8433871163960337,\n",
       " 0.8426913503261051,\n",
       " 0.8110459238343329,\n",
       " 0.8601332839801505,\n",
       " 0.8366292100859597,\n",
       " 0.8358641186337598,\n",
       " 0.8000887917586853,\n",
       " 0.8518669736741591,\n",
       " 0.8248708660114642,\n",
       " 0.8239678288250362,\n",
       " 0.7791319489994543]"
      ]
     },
     "execution_count": 454,
     "metadata": {},
     "output_type": "execute_result"
    }
   ],
   "source": [
    "s.MD"
   ]
  },
  {
   "cell_type": "code",
   "execution_count": 457,
   "id": "f810d514-31ff-4667-98df-feae90d5c6ae",
   "metadata": {},
   "outputs": [
    {
     "data": {
      "text/plain": [
       "[0.2155529618462554,\n",
       " 0.22621029483727467,\n",
       " 0.21970095256244063,\n",
       " 0.23055346902083218,\n",
       " 0.22033088378102847,\n",
       " 0.23121298007752947,\n",
       " 0.22456659542408897,\n",
       " 0.2356471589586231,\n",
       " 0.2170104077003557,\n",
       " 0.227736400285421,\n",
       " 0.22118519298007538,\n",
       " 0.23210737902456816,\n",
       " 0.22181918550123825,\n",
       " 0.2327711029638409,\n",
       " 0.22608215091527953,\n",
       " 0.23723354235037353]"
      ]
     },
     "execution_count": 457,
     "metadata": {},
     "output_type": "execute_result"
    }
   ],
   "source": [
    "s.NMD"
   ]
  },
  {
   "cell_type": "code",
   "execution_count": null,
   "id": "8f480efb-b6cd-4dec-a730-936a637314f5",
   "metadata": {},
   "outputs": [],
   "source": []
  },
  {
   "cell_type": "code",
   "execution_count": null,
   "id": "3ee523aa-15fc-4b6b-b673-26156b065ee3",
   "metadata": {},
   "outputs": [],
   "source": []
  },
  {
   "cell_type": "code",
   "execution_count": 45,
   "id": "eaa061f4-2175-424f-bd53-397ea7ba2cf5",
   "metadata": {},
   "outputs": [],
   "source": [
    "g1 = DHIFE([0.3,0.4],[0.6])\n",
    "g2 = DHIFE([0.4,0.5],[0.3,0.4])\n",
    "g3 = DHIFE([0.2,0.3],[0.7])\n",
    "g4 = DHIFE([0.4,0.5],[0.5])"
   ]
  },
  {
   "cell_type": "code",
   "execution_count": 46,
   "id": "132c2df5-62b8-4ff6-9df9-05b0c9ed8d05",
   "metadata": {},
   "outputs": [],
   "source": [
    "g1 = g1.Algebraic_Times(0.2)\n",
    "g2 = g2.Algebraic_Times(0.15)\n",
    "g3 = g3.Algebraic_Times(0.35)\n",
    "g4 = g4.Algebraic_Times(0.3)"
   ]
  },
  {
   "cell_type": "code",
   "execution_count": 47,
   "id": "5c182aa8-0cb8-4d8f-81a9-9a75502e9ee5",
   "metadata": {},
   "outputs": [],
   "source": [
    "p = DHIFE_Algebraic_Plus(DHIFE_Algebraic_Plus(DHIFE_Algebraic_Plus(g1,g2),g3),g4)"
   ]
  },
  {
   "cell_type": "code",
   "execution_count": 48,
   "id": "dad2d87a-d41e-4ffd-b5ed-bdfb5766fcc9",
   "metadata": {},
   "outputs": [
    {
     "data": {
      "text/plain": [
       "-0.1846495892814662"
      ]
     },
     "execution_count": 48,
     "metadata": {},
     "output_type": "execute_result"
    }
   ],
   "source": [
    "score(p)"
   ]
  },
  {
   "cell_type": "code",
   "execution_count": 335,
   "id": "aa3e0c74-60ad-46db-9763-a456f07c90f0",
   "metadata": {},
   "outputs": [
    {
     "data": {
      "text/plain": [
       "[0.31566434801213644,\n",
       " 0.35208983693133167,\n",
       " 0.34691157791537297,\n",
       " 0.38167385431116735,\n",
       " 0.3341261201449931,\n",
       " 0.3695689347371959,\n",
       " 0.36453037301410784,\n",
       " 0.39835484465901083,\n",
       " 0.33644059630779644,\n",
       " 0.37176021707606643,\n",
       " 0.3667391686259205,\n",
       " 0.4004460715604266,\n",
       " 0.35434187395129546,\n",
       " 0.3887086541236553,\n",
       " 0.38382306179374115,\n",
       " 0.4166206314800473]"
      ]
     },
     "execution_count": 335,
     "metadata": {},
     "output_type": "execute_result"
    }
   ],
   "source": [
    "p.MD"
   ]
  },
  {
   "cell_type": "code",
   "execution_count": 336,
   "id": "c25953ce-abc9-4ea6-84fe-82536bca4390",
   "metadata": {},
   "outputs": [
    {
     "data": {
      "text/plain": [
       "[0.5403482553663063, 0.5641759437771591]"
      ]
     },
     "execution_count": 336,
     "metadata": {},
     "output_type": "execute_result"
    }
   ],
   "source": [
    "p.NMD"
   ]
  },
  {
   "cell_type": "code",
   "execution_count": null,
   "id": "3f89c940-fd7f-4e29-9892-d6d2bef0ef7d",
   "metadata": {},
   "outputs": [],
   "source": []
  }
 ],
 "metadata": {
  "kernelspec": {
   "display_name": "Python 3 (ipykernel)",
   "language": "python",
   "name": "python3"
  },
  "language_info": {
   "codemirror_mode": {
    "name": "ipython",
    "version": 3
   },
   "file_extension": ".py",
   "mimetype": "text/x-python",
   "name": "python",
   "nbconvert_exporter": "python",
   "pygments_lexer": "ipython3",
   "version": "3.8.12"
  }
 },
 "nbformat": 4,
 "nbformat_minor": 5
}
