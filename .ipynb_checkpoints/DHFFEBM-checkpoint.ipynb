{
 "cells": [
  {
   "cell_type": "code",
   "execution_count": 1,
   "id": "ed5a8702-878e-4120-8c26-e11b21480f7b",
   "metadata": {},
   "outputs": [],
   "source": [
    "from math import pow\n",
    "from Archimedean import *\n",
    "from DHFEs import *"
   ]
  },
  {
   "cell_type": "code",
   "execution_count": 2,
   "id": "ee360e8b-f18c-40fe-a578-6958a2d47fb4",
   "metadata": {},
   "outputs": [],
   "source": [
    "def score(DHFFIBM):\n",
    "    sum = 0\n",
    "    for i in DHFFIBM.MD:\n",
    "        sum = sum+i\n",
    "    average_MD=sum/len(DHFFIBM.MD)\n",
    "    sum = 0\n",
    "    for i in DHFFIBM.NMD:\n",
    "        sum = sum+i\n",
    "    average_NMD=sum/len(DHFFIBM.NMD)\n",
    "    score = average_MD-average_NMD\n",
    "    return score"
   ]
  },
  {
   "cell_type": "code",
   "execution_count": 3,
   "id": "4eb01b4f-0094-4cc1-b77f-388194198aa4",
   "metadata": {},
   "outputs": [],
   "source": [
    "## 保留小数点后 3 位\n",
    "def Re3decimal(d):\n",
    "    x = DHFFE([],[])\n",
    "    for i in d.MD:\n",
    "        x.MD.append(format(i,'.3f'))\n",
    "    for i in d.NMD:\n",
    "        x.NMD.append(format(i,'.3f'))\n",
    "    return x"
   ]
  },
  {
   "cell_type": "code",
   "execution_count": null,
   "id": "08a8fb54-138a-4f1a-8b80-3b8127bf77b4",
   "metadata": {},
   "outputs": [],
   "source": []
  },
  {
   "cell_type": "code",
   "execution_count": 4,
   "id": "b96a2d70-1344-44ab-8bea-82949b7e7957",
   "metadata": {},
   "outputs": [],
   "source": [
    "## 对偶犹豫费马模糊爱因斯坦加权 Bonferroni 平均算子"
   ]
  },
  {
   "cell_type": "code",
   "execution_count": 5,
   "id": "d8e7a21f-abf7-43f4-ac59-7a517b61779c",
   "metadata": {},
   "outputs": [],
   "source": [
    "g1 = DHFFE([0.7],[0.1,0.2])\n",
    "g2 = DHFFE([0.6,0.9],[0.5])\n",
    "g3 = DHFFE([0.8],[0.4])"
   ]
  },
  {
   "cell_type": "code",
   "execution_count": 6,
   "id": "ce89db86-2573-4f4f-8df8-111b209f38d2",
   "metadata": {},
   "outputs": [],
   "source": [
    "alter = [g1,g2,g3]\n",
    "weight = [0.3,0.2,0.5]"
   ]
  },
  {
   "cell_type": "code",
   "execution_count": 7,
   "id": "c703e4f3-77fa-4d2a-bb40-82c7b856ae7d",
   "metadata": {},
   "outputs": [],
   "source": [
    "def DHFFEBM(alter,weight,p,q):\n",
    "    ## Dual Hesitant Fermatean Fuzzy Einstein Bonferroni Mean Operator\n",
    "    ## alter means the alternatives\n",
    "    ## weight means the weighted vector of the attribute\n",
    "    \n",
    "    def BonferroniElement(d1,d2,p,q):\n",
    "        ## DHFF Bonferroni Elements\n",
    "        s1 = DHFFE_Einstein_Multiply(d1.Einstein_Power(p),d2.Einstein_Power(q))\n",
    "        s2 = DHFFE_Einstein_Multiply(d1.Einstein_Power(q),d2.Einstein_Power(p))\n",
    "        return DHFFE_Einstein_Plus(s1,s2)\n",
    "    \n",
    "    dlist = []\n",
    "    if weight == 0:\n",
    "        ## 权重为 0，说明没有权重，直接将 alter 即 DHFFE 数组赋值给 dl\n",
    "        dl = alter\n",
    "        for i,d1 in enumerate(dl):\n",
    "            for j,d2 in enumerate(dl[:i]):\n",
    "                dlist.append(BonferroniElement(d1,d2,p,q))\n",
    "    else:\n",
    "        ## 将权重向量乘以备选方案列表\n",
    "        dl = []\n",
    "        try:\n",
    "            ## 判断权重向量与数列向量基数是否相同\n",
    "            assert len(alter) == len(weight)\n",
    "        except e:\n",
    "            print(\"The number of alter is not equal to the number of weight!\",e)\n",
    "        for i in range(len(alter)):\n",
    "            dl.append(alter[i].Einstein_Times(weight[i]))\n",
    "        for i,d1 in enumerate(dl):\n",
    "            for j,d2 in enumerate(dl[:i]):\n",
    "                dlist.append(BonferroniElement(d1,d2,p,q))\n",
    "    aggDHFFE = DHFFE([0],[1])\n",
    "    for agg in dlist:\n",
    "        aggDHFFE = DHFFE_Einstein_Plus(agg,aggDHFFE)\n",
    "    aggDHFFE = (aggDHFFE.Einstein_Times(1/(len(alter)*(len(alter)-1)))).Einstein_Power(1/(p+q))    \n",
    "    return aggDHFFE"
   ]
  },
  {
   "cell_type": "code",
   "execution_count": 8,
   "id": "97595a9e-c191-4b59-adbe-35c9b57b050f",
   "metadata": {},
   "outputs": [],
   "source": [
    "D = DHFFEBM(alter,0,1,2)"
   ]
  },
  {
   "cell_type": "code",
   "execution_count": 9,
   "id": "a7752bbb-1cce-4d46-94ec-0b74bea9f247",
   "metadata": {
    "tags": []
   },
   "outputs": [
    {
     "data": {
      "text/plain": [
       "([0.7144433016056055,\n",
       "  0.7580609002622009,\n",
       "  0.7310452790519814,\n",
       "  0.7673903697844097,\n",
       "  0.7518120678478469,\n",
       "  0.7804380276968175,\n",
       "  0.7619566922664497,\n",
       "  0.7873348003848128,\n",
       "  0.7753445218265331,\n",
       "  0.7969214243258574,\n",
       "  0.782734106885035,\n",
       "  0.8024337523267511,\n",
       "  0.7934030071477395,\n",
       "  0.8106486904978135,\n",
       "  0.7991858220674299,\n",
       "  0.8152200473706376],\n",
       " [0.3828996797762231,\n",
       "  0.3834939933705078,\n",
       "  0.3850893586485396,\n",
       "  0.38568649405710476,\n",
       "  0.38400810955033793,\n",
       "  0.38460385247390927,\n",
       "  0.3862030496790556,\n",
       "  0.38680161751878234,\n",
       "  0.38685570606604547,\n",
       "  0.38745511249626613,\n",
       "  0.38906413139279467,\n",
       "  0.3896663707658048,\n",
       "  0.38797363141326335,\n",
       "  0.3885744727946486,\n",
       "  0.39018733877232314,\n",
       "  0.3907910162741352])"
      ]
     },
     "execution_count": 9,
     "metadata": {},
     "output_type": "execute_result"
    }
   ],
   "source": [
    "D.MD,D.NMD"
   ]
  },
  {
   "cell_type": "code",
   "execution_count": 10,
   "id": "455e1b63-698d-4196-8994-d4deaae11169",
   "metadata": {},
   "outputs": [
    {
     "data": {
      "text/plain": [
       "(['0.714',\n",
       "  '0.758',\n",
       "  '0.731',\n",
       "  '0.767',\n",
       "  '0.752',\n",
       "  '0.780',\n",
       "  '0.762',\n",
       "  '0.787',\n",
       "  '0.775',\n",
       "  '0.797',\n",
       "  '0.783',\n",
       "  '0.802',\n",
       "  '0.793',\n",
       "  '0.811',\n",
       "  '0.799',\n",
       "  '0.815'],\n",
       " ['0.383',\n",
       "  '0.383',\n",
       "  '0.385',\n",
       "  '0.386',\n",
       "  '0.384',\n",
       "  '0.385',\n",
       "  '0.386',\n",
       "  '0.387',\n",
       "  '0.387',\n",
       "  '0.387',\n",
       "  '0.389',\n",
       "  '0.390',\n",
       "  '0.388',\n",
       "  '0.389',\n",
       "  '0.390',\n",
       "  '0.391'])"
      ]
     },
     "execution_count": 10,
     "metadata": {},
     "output_type": "execute_result"
    }
   ],
   "source": [
    "Re3decimal(D).MD,Re3decimal(D).NMD"
   ]
  },
  {
   "cell_type": "code",
   "execution_count": null,
   "id": "5e50516d-5f28-4a34-a3d7-c9f55a0ae7c3",
   "metadata": {},
   "outputs": [],
   "source": []
  },
  {
   "cell_type": "code",
   "execution_count": null,
   "id": "205be414-bd9f-44d7-b5fd-01b0a959f36b",
   "metadata": {},
   "outputs": [],
   "source": []
  },
  {
   "cell_type": "code",
   "execution_count": 24,
   "id": "8585a154-dab9-41da-8981-9c04ef9a6972",
   "metadata": {},
   "outputs": [
    {
     "data": {
      "text/plain": [
       "0.3742221585939097"
      ]
     },
     "execution_count": 24,
     "metadata": {},
     "output_type": "execute_result"
    }
   ],
   "source": [
    "score(D)"
   ]
  },
  {
   "cell_type": "code",
   "execution_count": 16,
   "id": "b73718d7-2c72-422c-b755-49ff08dabe42",
   "metadata": {},
   "outputs": [],
   "source": [
    "F = DHFFEBM(alter,weight,1,1)"
   ]
  },
  {
   "cell_type": "code",
   "execution_count": 17,
   "id": "cadcd9e6-598b-40d8-ba1e-a575a667d96b",
   "metadata": {},
   "outputs": [
    {
     "data": {
      "text/plain": [
       "([0.5028534249236116,\n",
       "  0.5146437119657451,\n",
       "  0.5146437119657451,\n",
       "  0.525093176958177,\n",
       "  0.5326426767979944,\n",
       "  0.54134838976862,\n",
       "  0.54134838976862,\n",
       "  0.5493245961259018,\n",
       "  0.5326426767979944,\n",
       "  0.54134838976862,\n",
       "  0.54134838976862,\n",
       "  0.5493245961259018,\n",
       "  0.5552284549221372,\n",
       "  0.5621734980589439,\n",
       "  0.5621734980589439,\n",
       "  0.5686570811099046],\n",
       " [0.741138726354196,\n",
       "  0.744926045439549,\n",
       "  0.744926045439549,\n",
       "  0.748751351686391,\n",
       "  0.7483746811683779,\n",
       "  0.7522358203636731,\n",
       "  0.7522358203636731,\n",
       "  0.7561385614644216,\n",
       "  0.7483746811683779,\n",
       "  0.7522358203636731,\n",
       "  0.7522358203636731,\n",
       "  0.7561385614644216,\n",
       "  0.7557541332719735,\n",
       "  0.7596962200688094,\n",
       "  0.7596962200688094,\n",
       "  0.7636841125940298])"
      ]
     },
     "execution_count": 17,
     "metadata": {},
     "output_type": "execute_result"
    }
   ],
   "source": [
    "F.MD,F.NMD"
   ]
  },
  {
   "cell_type": "code",
   "execution_count": 18,
   "id": "830f603c-c791-4e31-aebe-81467b65e129",
   "metadata": {},
   "outputs": [
    {
     "data": {
      "text/plain": [
       "-0.21260924742238207"
      ]
     },
     "execution_count": 18,
     "metadata": {},
     "output_type": "execute_result"
    }
   ],
   "source": [
    "score(F)"
   ]
  },
  {
   "cell_type": "code",
   "execution_count": null,
   "id": "ee4568f1-c623-4079-94ad-bdd29caa46ad",
   "metadata": {},
   "outputs": [],
   "source": []
  },
  {
   "cell_type": "code",
   "execution_count": null,
   "id": "d731eb13-cc4e-41d7-b263-060a239d556b",
   "metadata": {},
   "outputs": [],
   "source": []
  },
  {
   "cell_type": "code",
   "execution_count": null,
   "id": "d03d0b16-3fb2-42b7-8421-1733c9f891dc",
   "metadata": {},
   "outputs": [],
   "source": [
    "# g1 = g1.Einstein_Times(0.1)\n",
    "# g2 = g2.Einstein_Times(0.1)\n",
    "# g3 = g3.Einstein_Times(0.8)\n",
    "\n",
    "# def BonferroniElement(d1,d2,p,q):\n",
    "#     s1 = DHFFE_Einstein_Multiply(d1.Einstein_Power(p),d2.Einstein_Power(q))\n",
    "#     s2 = DHFFE_Einstein_Multiply(d1.Einstein_Power(q),d2.Einstein_Power(p))\n",
    "#     return DHFFE_Einstein_Plus(s1,s2)\n",
    "\n",
    "# a1 = BonferroniElement(g1,g2,1,2)\n",
    "# a2 = BonferroniElement(g1,g3,1,2)\n",
    "# a3 = BonferroniElement(g2,g3,1,2)\n",
    "\n",
    "# a = [a1,a2,a3]\n",
    "\n",
    "# sumDHFFEs = DHFFE([0],[1])\n",
    "# for gg in a:\n",
    "#     sumDHFFEs = DHFFE_Einstein_Plus(gg,sumDHFFEs)\n",
    "\n",
    "# sumDHFFEs = (sumDHFFEs.Einstein_Times(1/(len(a)*(len(a)-1)))).Einstein_Power(1/3)\n",
    "\n",
    "# sumDHFFEs.MD,sumDHFFEs.NMD\n",
    "\n",
    "# score(sumDHFFEs)"
   ]
  },
  {
   "cell_type": "code",
   "execution_count": null,
   "id": "3ee523aa-15fc-4b6b-b673-26156b065ee3",
   "metadata": {},
   "outputs": [],
   "source": []
  },
  {
   "cell_type": "code",
   "execution_count": null,
   "id": "4cc3374f-b717-4741-9320-69cea93a0095",
   "metadata": {},
   "outputs": [],
   "source": []
  },
  {
   "cell_type": "code",
   "execution_count": null,
   "id": "6f702cfb-bbad-4ac5-8c30-f87a92f45b67",
   "metadata": {},
   "outputs": [],
   "source": []
  },
  {
   "cell_type": "code",
   "execution_count": 14,
   "id": "eaa061f4-2175-424f-bd53-397ea7ba2cf5",
   "metadata": {},
   "outputs": [],
   "source": [
    "g1 = DHIFE([0.3,0.4],[0.6])\n",
    "g2 = DHIFE([0.4,0.5],[0.3,0.4])\n",
    "g3 = DHIFE([0.2,0.3],[0.7])\n",
    "g4 = DHIFE([0.4,0.5],[0.5])"
   ]
  },
  {
   "cell_type": "code",
   "execution_count": 15,
   "id": "132c2df5-62b8-4ff6-9df9-05b0c9ed8d05",
   "metadata": {},
   "outputs": [],
   "source": [
    "g1 = g1.Algebraic_Times(0.2)\n",
    "g2 = g2.Algebraic_Times(0.15)\n",
    "g3 = g3.Algebraic_Times(0.35)\n",
    "g4 = g4.Algebraic_Times(0.3)"
   ]
  },
  {
   "cell_type": "code",
   "execution_count": 16,
   "id": "5c182aa8-0cb8-4d8f-81a9-9a75502e9ee5",
   "metadata": {},
   "outputs": [],
   "source": [
    "p = DHIFE_Algebraic_Plus(DHIFE_Algebraic_Plus(DHIFE_Algebraic_Plus(g1,g2),g3),g4)"
   ]
  },
  {
   "cell_type": "code",
   "execution_count": 17,
   "id": "aa3e0c74-60ad-46db-9763-a456f07c90f0",
   "metadata": {},
   "outputs": [
    {
     "data": {
      "text/plain": [
       "([0.31566434801213644,\n",
       "  0.35208983693133167,\n",
       "  0.34691157791537297,\n",
       "  0.38167385431116735,\n",
       "  0.3341261201449931,\n",
       "  0.3695689347371959,\n",
       "  0.36453037301410784,\n",
       "  0.39835484465901083,\n",
       "  0.33644059630779644,\n",
       "  0.37176021707606643,\n",
       "  0.3667391686259205,\n",
       "  0.4004460715604266,\n",
       "  0.35434187395129546,\n",
       "  0.3887086541236553,\n",
       "  0.38382306179374115,\n",
       "  0.4166206314800473],\n",
       " [0.5403482553663063, 0.5641759437771591])"
      ]
     },
     "execution_count": 17,
     "metadata": {},
     "output_type": "execute_result"
    }
   ],
   "source": [
    "p.MD,p.NMD"
   ]
  },
  {
   "cell_type": "code",
   "execution_count": 18,
   "id": "dad2d87a-d41e-4ffd-b5ed-bdfb5766fcc9",
   "metadata": {},
   "outputs": [
    {
     "data": {
      "text/plain": [
       "-0.1846495892814662"
      ]
     },
     "execution_count": 18,
     "metadata": {},
     "output_type": "execute_result"
    }
   ],
   "source": [
    "score(p)"
   ]
  },
  {
   "cell_type": "code",
   "execution_count": null,
   "id": "c25953ce-abc9-4ea6-84fe-82536bca4390",
   "metadata": {},
   "outputs": [],
   "source": []
  },
  {
   "cell_type": "code",
   "execution_count": null,
   "id": "3f89c940-fd7f-4e29-9892-d6d2bef0ef7d",
   "metadata": {},
   "outputs": [],
   "source": []
  }
 ],
 "metadata": {
  "kernelspec": {
   "display_name": "Python 3 (ipykernel)",
   "language": "python",
   "name": "python3"
  },
  "language_info": {
   "codemirror_mode": {
    "name": "ipython",
    "version": 3
   },
   "file_extension": ".py",
   "mimetype": "text/x-python",
   "name": "python",
   "nbconvert_exporter": "python",
   "pygments_lexer": "ipython3",
   "version": "3.8.12"
  }
 },
 "nbformat": 4,
 "nbformat_minor": 5
}
