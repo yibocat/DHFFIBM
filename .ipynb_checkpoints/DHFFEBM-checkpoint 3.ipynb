{
 "cells": [
  {
   "cell_type": "code",
   "execution_count": 2,
   "id": "c2038ecd",
   "metadata": {},
   "outputs": [],
   "source": [
    "from math import pow\n",
    "from Archimedean import *\n",
    "from DHFEs import *"
   ]
  },
  {
   "cell_type": "code",
   "execution_count": 3,
   "id": "ec118ead",
   "metadata": {},
   "outputs": [],
   "source": [
    "def score(DHFFIBM):\n",
    "    sum = 0\n",
    "    for i in DHFFIBM.MD:\n",
    "        sum = sum+i\n",
    "    average_MD=sum/len(DHFFIBM.MD)\n",
    "    sum = 0\n",
    "    for i in DHFFIBM.NMD:\n",
    "        sum = sum+i\n",
    "    average_NMD=sum/len(DHFFIBM.NMD)\n",
    "    score = average_MD-average_NMD\n",
    "    return score"
   ]
  },
  {
   "cell_type": "code",
   "execution_count": 4,
   "id": "932f1cb6",
   "metadata": {},
   "outputs": [],
   "source": [
    "## 保留小数点后 3 位\n",
    "def Re3decimal(d):\n",
    "    x = DHFFE([],[])\n",
    "    for i in d.MD:\n",
    "        x.MD.append(format(i,'.3f'))\n",
    "    for i in d.NMD:\n",
    "        x.NMD.append(format(i,'.3f'))\n",
    "    return x"
   ]
  },
  {
   "cell_type": "code",
   "execution_count": null,
   "id": "b36fc13c",
   "metadata": {},
   "outputs": [],
   "source": []
  },
  {
   "cell_type": "code",
   "execution_count": 5,
   "id": "0706a6b3",
   "metadata": {},
   "outputs": [],
   "source": [
    "## 对偶犹豫费马模糊爱因斯坦加权 Bonferroni 平均算子"
   ]
  },
  {
   "cell_type": "code",
   "execution_count": 5,
   "id": "e19cfbea",
   "metadata": {},
   "outputs": [],
   "source": [
    "g1 = DHFFE([0.3,0.4,0.5,0.6],[0.3,0.4,0.5])\n",
    "g2 = DHFFE([0.5,0.6,0.9],[0.1,0.2])\n",
    "g3 = DHFFE([0.6,0.7,0.8],[0.1,0.2,0.3,0.4])\n",
    "g4 = "
   ]
  },
  {
   "cell_type": "code",
   "execution_count": 6,
   "id": "fde336e6",
   "metadata": {},
   "outputs": [],
   "source": [
    "alter = [g1,g2,g3]\n",
    "weight = [0.3,0.2,0.5]"
   ]
  },
  {
   "cell_type": "code",
   "execution_count": 7,
   "id": "c2aa8acf",
   "metadata": {},
   "outputs": [],
   "source": [
    "def DHFFEBM(alter,weight,p,q):\n",
    "    ## Dual Hesitant Fermatean Fuzzy Einstein Bonferroni Mean Operator\n",
    "    ## alter means the alternatives\n",
    "    ## weight means the weighted vector of the attribute\n",
    "    \n",
    "    def BonferroniElement(d1,d2,p,q):\n",
    "        ## DHFF Bonferroni Elements\n",
    "        s1 = DHFFE_Einstein_Multiply(d1.Einstein_Power(p),d2.Einstein_Power(q))\n",
    "        s2 = DHFFE_Einstein_Multiply(d1.Einstein_Power(q),d2.Einstein_Power(p))\n",
    "        return DHFFE_Einstein_Plus(s1,s2)\n",
    "    \n",
    "    dlist = []\n",
    "    if weight == 0:\n",
    "        ## 权重为 0，说明没有权重，直接将 alter 即 DHFFE 数组赋值给 dl\n",
    "        dl = alter\n",
    "        for i,d1 in enumerate(dl):\n",
    "            for j,d2 in enumerate(dl[:i]):\n",
    "                dlist.append(BonferroniElement(d1,d2,p,q))\n",
    "    else:\n",
    "        ## 将权重向量乘以备选方案列表\n",
    "        dl = []\n",
    "        try:\n",
    "            ## 判断权重向量与数列向量基数是否相同\n",
    "            assert len(alter) == len(weight)\n",
    "        except e:\n",
    "            print(\"The number of alter is not equal to the number of weight!\",e)\n",
    "        for i in range(len(alter)):\n",
    "            dl.append(alter[i].Einstein_Times(weight[i]))\n",
    "        for i,d1 in enumerate(dl):\n",
    "            for j,d2 in enumerate(dl[:i]):\n",
    "                dlist.append(BonferroniElement(d1,d2,p,q))\n",
    "    aggDHFFE = DHFFE([0],[1])\n",
    "    for agg in dlist:\n",
    "        aggDHFFE = DHFFE_Einstein_Plus(agg,aggDHFFE)\n",
    "    aggDHFFE = (aggDHFFE.Einstein_Times(1/(len(alter)*(len(alter)-1)))).Einstein_Power(1/(p+q))    \n",
    "    return aggDHFFE"
   ]
  },
  {
   "cell_type": "code",
   "execution_count": 10,
   "id": "dddcea00",
   "metadata": {},
   "outputs": [],
   "source": [
    "D = DHFFEBM(alter,weight,1,2)"
   ]
  },
  {
   "cell_type": "code",
   "execution_count": 11,
   "id": "b98a447f",
   "metadata": {
    "tags": []
   },
   "outputs": [
    {
     "data": {
      "text/plain": [
       "([0.5221117621934045,\n",
       "  0.5321104172823241,\n",
       "  0.5269011023301149,\n",
       "  0.5361797087170974,\n",
       "  0.5526037376338544,\n",
       "  0.5588157550052536,\n",
       "  0.5555267951321805,\n",
       "  0.5614622281541874,\n",
       "  0.5469168936277533,\n",
       "  0.5537050153676241,\n",
       "  0.5501196001446504,\n",
       "  0.5565769249985837,\n",
       "  0.5687563827645299,\n",
       "  0.5735883571453698,\n",
       "  0.5710156638963425,\n",
       "  0.57568126236729],\n",
       " [0.7220325507703655,\n",
       "  0.7227759934445749,\n",
       "  0.7275701405776717,\n",
       "  0.7283372757495381,\n",
       "  0.7295492728765172,\n",
       "  0.7303252943065097,\n",
       "  0.7353375396300478,\n",
       "  0.7361409085103674,\n",
       "  0.7392800872513697,\n",
       "  0.7401033183348029,\n",
       "  0.74543320502962,\n",
       "  0.7462896173409967,\n",
       "  0.7476447492236794,\n",
       "  0.7485137834250465,\n",
       "  0.7541537089116142,\n",
       "  0.7550622148639289])"
      ]
     },
     "execution_count": 11,
     "metadata": {},
     "output_type": "execute_result"
    }
   ],
   "source": [
    "D.MD,D.NMD"
   ]
  },
  {
   "cell_type": "code",
   "execution_count": 12,
   "id": "c7d87bad",
   "metadata": {},
   "outputs": [
    {
     "data": {
      "text/plain": [
       "(['0.522',\n",
       "  '0.532',\n",
       "  '0.527',\n",
       "  '0.536',\n",
       "  '0.553',\n",
       "  '0.559',\n",
       "  '0.556',\n",
       "  '0.561',\n",
       "  '0.547',\n",
       "  '0.554',\n",
       "  '0.550',\n",
       "  '0.557',\n",
       "  '0.569',\n",
       "  '0.574',\n",
       "  '0.571',\n",
       "  '0.576'],\n",
       " ['0.722',\n",
       "  '0.723',\n",
       "  '0.728',\n",
       "  '0.728',\n",
       "  '0.730',\n",
       "  '0.730',\n",
       "  '0.735',\n",
       "  '0.736',\n",
       "  '0.739',\n",
       "  '0.740',\n",
       "  '0.745',\n",
       "  '0.746',\n",
       "  '0.748',\n",
       "  '0.749',\n",
       "  '0.754',\n",
       "  '0.755'])"
      ]
     },
     "execution_count": 12,
     "metadata": {},
     "output_type": "execute_result"
    }
   ],
   "source": [
    "Re3decimal(D).MD,Re3decimal(D).NMD"
   ]
  },
  {
   "cell_type": "code",
   "execution_count": 13,
   "id": "c17720f4",
   "metadata": {},
   "outputs": [
    {
     "data": {
      "text/plain": [
       "-0.18540487834288044"
      ]
     },
     "execution_count": 13,
     "metadata": {},
     "output_type": "execute_result"
    }
   ],
   "source": [
    "score(D)"
   ]
  },
  {
   "cell_type": "code",
   "execution_count": 16,
   "id": "2914dcef",
   "metadata": {},
   "outputs": [],
   "source": [
    "F = DHFFEBM(alter,weight,1,1)"
   ]
  },
  {
   "cell_type": "code",
   "execution_count": 17,
   "id": "220ca5eb",
   "metadata": {},
   "outputs": [
    {
     "data": {
      "text/plain": [
       "([0.5028534249236116,\n",
       "  0.5146437119657451,\n",
       "  0.5146437119657451,\n",
       "  0.525093176958177,\n",
       "  0.5326426767979944,\n",
       "  0.54134838976862,\n",
       "  0.54134838976862,\n",
       "  0.5493245961259018,\n",
       "  0.5326426767979944,\n",
       "  0.54134838976862,\n",
       "  0.54134838976862,\n",
       "  0.5493245961259018,\n",
       "  0.5552284549221372,\n",
       "  0.5621734980589439,\n",
       "  0.5621734980589439,\n",
       "  0.5686570811099046],\n",
       " [0.741138726354196,\n",
       "  0.744926045439549,\n",
       "  0.744926045439549,\n",
       "  0.748751351686391,\n",
       "  0.7483746811683779,\n",
       "  0.7522358203636731,\n",
       "  0.7522358203636731,\n",
       "  0.7561385614644216,\n",
       "  0.7483746811683779,\n",
       "  0.7522358203636731,\n",
       "  0.7522358203636731,\n",
       "  0.7561385614644216,\n",
       "  0.7557541332719735,\n",
       "  0.7596962200688094,\n",
       "  0.7596962200688094,\n",
       "  0.7636841125940298])"
      ]
     },
     "execution_count": 17,
     "metadata": {},
     "output_type": "execute_result"
    }
   ],
   "source": [
    "F.MD,F.NMD"
   ]
  },
  {
   "cell_type": "code",
   "execution_count": 18,
   "id": "5d741948",
   "metadata": {},
   "outputs": [
    {
     "data": {
      "text/plain": [
       "-0.21260924742238207"
      ]
     },
     "execution_count": 18,
     "metadata": {},
     "output_type": "execute_result"
    }
   ],
   "source": [
    "score(F)"
   ]
  },
  {
   "cell_type": "code",
   "execution_count": null,
   "id": "5793eb77",
   "metadata": {},
   "outputs": [],
   "source": []
  },
  {
   "cell_type": "code",
   "execution_count": null,
   "id": "d3ef02b4",
   "metadata": {},
   "outputs": [],
   "source": []
  },
  {
   "cell_type": "code",
   "execution_count": null,
   "id": "26ce6b2e",
   "metadata": {},
   "outputs": [],
   "source": [
    "# g1 = g1.Einstein_Times(0.1)\n",
    "# g2 = g2.Einstein_Times(0.1)\n",
    "# g3 = g3.Einstein_Times(0.8)\n",
    "\n",
    "# def BonferroniElement(d1,d2,p,q):\n",
    "#     s1 = DHFFE_Einstein_Multiply(d1.Einstein_Power(p),d2.Einstein_Power(q))\n",
    "#     s2 = DHFFE_Einstein_Multiply(d1.Einstein_Power(q),d2.Einstein_Power(p))\n",
    "#     return DHFFE_Einstein_Plus(s1,s2)\n",
    "\n",
    "# a1 = BonferroniElement(g1,g2,1,2)\n",
    "# a2 = BonferroniElement(g1,g3,1,2)\n",
    "# a3 = BonferroniElement(g2,g3,1,2)\n",
    "\n",
    "# a = [a1,a2,a3]\n",
    "\n",
    "# sumDHFFEs = DHFFE([0],[1])\n",
    "# for gg in a:\n",
    "#     sumDHFFEs = DHFFE_Einstein_Plus(gg,sumDHFFEs)\n",
    "\n",
    "# sumDHFFEs = (sumDHFFEs.Einstein_Times(1/(len(a)*(len(a)-1)))).Einstein_Power(1/3)\n",
    "\n",
    "# sumDHFFEs.MD,sumDHFFEs.NMD\n",
    "\n",
    "# score(sumDHFFEs)"
   ]
  },
  {
   "cell_type": "code",
   "execution_count": null,
   "id": "971a7043",
   "metadata": {},
   "outputs": [],
   "source": []
  },
  {
   "cell_type": "code",
   "execution_count": null,
   "id": "820a9557",
   "metadata": {},
   "outputs": [],
   "source": []
  },
  {
   "cell_type": "code",
   "execution_count": null,
   "id": "c785a723",
   "metadata": {},
   "outputs": [],
   "source": []
  },
  {
   "cell_type": "code",
   "execution_count": 14,
   "id": "e139a014",
   "metadata": {},
   "outputs": [],
   "source": [
    "g1 = DHIFE([0.3,0.4],[0.6])\n",
    "g2 = DHIFE([0.4,0.5],[0.3,0.4])\n",
    "g3 = DHIFE([0.2,0.3],[0.7])\n",
    "g4 = DHIFE([0.4,0.5],[0.5])"
   ]
  },
  {
   "cell_type": "code",
   "execution_count": 15,
   "id": "7fcd23d6",
   "metadata": {},
   "outputs": [],
   "source": [
    "g1 = g1.Algebraic_Times(0.2)\n",
    "g2 = g2.Algebraic_Times(0.15)\n",
    "g3 = g3.Algebraic_Times(0.35)\n",
    "g4 = g4.Algebraic_Times(0.3)"
   ]
  },
  {
   "cell_type": "code",
   "execution_count": 16,
   "id": "d5ce3e79",
   "metadata": {},
   "outputs": [],
   "source": [
    "p = DHIFE_Algebraic_Plus(DHIFE_Algebraic_Plus(DHIFE_Algebraic_Plus(g1,g2),g3),g4)"
   ]
  },
  {
   "cell_type": "code",
   "execution_count": 17,
   "id": "39e3ddef",
   "metadata": {},
   "outputs": [
    {
     "data": {
      "text/plain": [
       "([0.31566434801213644,\n",
       "  0.35208983693133167,\n",
       "  0.34691157791537297,\n",
       "  0.38167385431116735,\n",
       "  0.3341261201449931,\n",
       "  0.3695689347371959,\n",
       "  0.36453037301410784,\n",
       "  0.39835484465901083,\n",
       "  0.33644059630779644,\n",
       "  0.37176021707606643,\n",
       "  0.3667391686259205,\n",
       "  0.4004460715604266,\n",
       "  0.35434187395129546,\n",
       "  0.3887086541236553,\n",
       "  0.38382306179374115,\n",
       "  0.4166206314800473],\n",
       " [0.5403482553663063, 0.5641759437771591])"
      ]
     },
     "execution_count": 17,
     "metadata": {},
     "output_type": "execute_result"
    }
   ],
   "source": [
    "p.MD,p.NMD"
   ]
  },
  {
   "cell_type": "code",
   "execution_count": 18,
   "id": "6a335739",
   "metadata": {},
   "outputs": [
    {
     "data": {
      "text/plain": [
       "-0.1846495892814662"
      ]
     },
     "execution_count": 18,
     "metadata": {},
     "output_type": "execute_result"
    }
   ],
   "source": [
    "score(p)"
   ]
  },
  {
   "cell_type": "code",
   "execution_count": null,
   "id": "3d666379",
   "metadata": {},
   "outputs": [],
   "source": []
  },
  {
   "cell_type": "code",
   "execution_count": null,
   "id": "dfdf557a",
   "metadata": {},
   "outputs": [],
   "source": []
  }
 ],
 "metadata": {
  "kernelspec": {
   "display_name": "Python 3 (ipykernel)",
   "language": "python",
   "name": "python3"
  },
  "language_info": {
   "codemirror_mode": {
    "name": "ipython",
    "version": 3
   },
   "file_extension": ".py",
   "mimetype": "text/x-python",
   "name": "python",
   "nbconvert_exporter": "python",
   "pygments_lexer": "ipython3",
   "version": "3.9.10+"
  }
 },
 "nbformat": 4,
 "nbformat_minor": 5
}
