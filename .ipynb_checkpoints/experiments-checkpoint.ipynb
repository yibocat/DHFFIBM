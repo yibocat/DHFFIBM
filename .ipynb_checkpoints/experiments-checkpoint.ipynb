{
 "cells": [
  {
   "cell_type": "code",
   "execution_count": 1,
   "id": "be9759f9",
   "metadata": {},
   "outputs": [],
   "source": [
    "from math import pow\n",
    "from Archimedean import *\n",
    "from DHFEs import *\n",
    "from tqdm import tqdm"
   ]
  },
  {
   "cell_type": "code",
   "execution_count": 2,
   "id": "543f3b66",
   "metadata": {},
   "outputs": [],
   "source": [
    "def score(DHFFIBM):\n",
    "    sum = 0\n",
    "    for i in DHFFIBM.MD:\n",
    "        sum = sum+i\n",
    "    average_MD=sum/len(DHFFIBM.MD)\n",
    "    sum = 0\n",
    "    for i in DHFFIBM.NMD:\n",
    "        sum = sum+i\n",
    "    average_NMD=sum/len(DHFFIBM.NMD)\n",
    "    score = average_MD-average_NMD\n",
    "    return score"
   ]
  },
  {
   "cell_type": "code",
   "execution_count": 3,
   "id": "0d0030ff",
   "metadata": {},
   "outputs": [],
   "source": [
    "## 保留小数点后 3 位\n",
    "def Re3decimal(d):\n",
    "    x = DHFFE([],[])\n",
    "    for i in d.MD:\n",
    "        x.MD.append(format(i,'.3f'))\n",
    "    for i in d.NMD:\n",
    "        x.NMD.append(format(i,'.3f'))\n",
    "    return x"
   ]
  },
  {
   "cell_type": "code",
   "execution_count": 4,
   "id": "c68ed88d",
   "metadata": {},
   "outputs": [],
   "source": [
    "## 对偶犹豫费马模糊爱因斯坦加权 Bonferroni Mean 算子(DHFFWBM)\n",
    "\n",
    "def DHFFEWBM(alter,weight,p,q):\n",
    "    ## Dual Hesitant Fermatean Fuzzy Einstein Bonferroni Mean Operator\n",
    "    ## alter means the alternatives\n",
    "    ## weight means the weighted vector of the attribute\n",
    "    \n",
    "    def BonferroniElement(d1,d2,p,q):\n",
    "        ## DHFF Bonferroni Elements\n",
    "        s1 = DHFFE_Einstein_Multiply(d1.Einstein_Power(p),d2.Einstein_Power(q))\n",
    "        s2 = DHFFE_Einstein_Multiply(d1.Einstein_Power(q),d2.Einstein_Power(p))\n",
    "        return DHFFE_Einstein_Plus(s1,s2)\n",
    "    \n",
    "    dlist = []\n",
    "    if weight == 0:\n",
    "        ## 权重为 0，说明没有权重，直接将 alter 即 DHFFE 数组赋值给 dl\n",
    "        dl = alter\n",
    "        for i,d1 in enumerate(dl):\n",
    "            for j,d2 in enumerate(dl[:i]):\n",
    "                dlist.append(BonferroniElement(d1,d2,p,q))\n",
    "    else:\n",
    "        ## 将权重向量乘以备选方案列表\n",
    "        dl = []\n",
    "        try:\n",
    "            ## 判断权重向量与数列向量基数是否相同\n",
    "            assert len(alter) == len(weight)\n",
    "        except e:\n",
    "            print(\"The number of alter is not equal to the number of weight!\",e)\n",
    "        for i in range(len(alter)):\n",
    "            dl.append(alter[i].Einstein_Times(weight[i]))\n",
    "        for i,d1 in enumerate(dl):\n",
    "            for j,d2 in enumerate(dl[:i]):\n",
    "                dlist.append(BonferroniElement(d1,d2,p,q))\n",
    "    aggDHFFE = DHFFE([0],[1])\n",
    "    for agg in dlist:\n",
    "        aggDHFFE = DHFFE_Einstein_Plus(agg,aggDHFFE)\n",
    "    aggDHFFE = (aggDHFFE.Einstein_Times(1/(len(alter)*(len(alter)-1)))).Einstein_Power(1/(p+q))    \n",
    "    return aggDHFFE"
   ]
  },
  {
   "cell_type": "code",
   "execution_count": 5,
   "id": "5c594321-bf68-4a36-9c58-bf7a639461ec",
   "metadata": {},
   "outputs": [],
   "source": [
    "## 对偶犹豫费马模糊加权 Bonferroni Mean (DHFFWBM)\n",
    "\n",
    "def DHFFWBM(alter,weight,p,q):\n",
    "    ## Dual Hesitant Fermatean Fuzzy Bonferroni Mean Operator\n",
    "    ## alter means the alternatives\n",
    "    ## weight means the weighted vector of the attribute\n",
    "    \n",
    "    def BonferroniElement(d1,d2,p,q):\n",
    "        ## DHFF Bonferroni Elements\n",
    "        s1 = DHFFE_Algebraic_Multiply(d1.Algebraic_Power(p),d2.Algebraic_Power(q))\n",
    "        s2 = DHFFE_Algebraic_Multiply(d1.Algebraic_Power(q),d2.Algebraic_Power(p))\n",
    "        return DHFFE_Algebraic_Plus(s1,s2)\n",
    "    \n",
    "    dlist = []\n",
    "    if weight == 0:\n",
    "        ## 权重为 0，说明没有权重，直接将 alter 即 DHFFE 数组赋值给 dl\n",
    "        dl = alter\n",
    "        for i,d1 in enumerate(dl):\n",
    "            for j,d2 in enumerate(dl[:i]):\n",
    "                dlist.append(BonferroniElement(d1,d2,p,q))\n",
    "    else:\n",
    "        ## 将权重向量乘以备选方案列表\n",
    "        dl = []\n",
    "        try:\n",
    "            ## 判断权重向量与数列向量基数是否相同\n",
    "            assert len(alter) == len(weight)\n",
    "        except e:\n",
    "            print(\"The number of alter is not equal to the number of weight!\",e)\n",
    "        for i in range(len(alter)):\n",
    "            dl.append(alter[i].Algebraic_Times(weight[i]))\n",
    "        for i,d1 in enumerate(dl):\n",
    "            for j,d2 in enumerate(dl[:i]):\n",
    "                dlist.append(BonferroniElement(d1,d2,p,q))\n",
    "    aggDHFFE = DHFFE([0],[1])\n",
    "    for agg in dlist:\n",
    "        aggDHFFE = DHFFE_Algebraic_Plus(agg,aggDHFFE)\n",
    "    aggDHFFE = (aggDHFFE.Algebraic_Times(1/(len(alter)*(len(alter)-1)))).Algebraic_Power(1/(p+q))    \n",
    "    return aggDHFFE"
   ]
  },
  {
   "cell_type": "code",
   "execution_count": 6,
   "id": "59844f6e",
   "metadata": {},
   "outputs": [],
   "source": [
    "## 对偶犹豫费马模糊爱因斯坦加权平均 (DHFFEWA)\n",
    "\n",
    "def DHFFEWA(alter,weight):\n",
    "    dlist = []\n",
    "    try:\n",
    "        assert len(alter) == len(weight)\n",
    "    except e:\n",
    "        print(\"The number of alter is not equal to the number of weight!\",e)\n",
    "    for i in range(len(alter)):\n",
    "        dlist.append(alter[i].Einstein_Times(weight[i]))\n",
    "    aggDHFFE = DHFFE([0],[1])\n",
    "    for agg in dlist:\n",
    "        aggDHFFE = DHFFE_Einstein_Plus(agg,aggDHFFE)\n",
    "    return aggDHFFE       "
   ]
  },
  {
   "cell_type": "code",
   "execution_count": 7,
   "id": "f0857062-203f-4f6d-ab6b-16248cbdadc8",
   "metadata": {},
   "outputs": [],
   "source": [
    "## 对偶犹豫费马模糊爱因斯坦加权几何 (DHFFEWG)\n",
    "\n",
    "def DHFFEWG(alter,weight):\n",
    "    dlist = []\n",
    "    try:\n",
    "        assert len(alter) == len(weight)\n",
    "    except e:\n",
    "        print(\"The number of alter is not equal to the number of weight!\",e)\n",
    "    for i in range(len(alter)):\n",
    "        dlist.append(alter[i].Einstein_Power(weight[i]))\n",
    "    aggDHFFE = DHFFE([1],[0])\n",
    "    for agg in dlist:\n",
    "        aggDHFFE = DHFFE_Einstein_Multiply(agg,aggDHFFE)\n",
    "    return aggDHFFE       "
   ]
  },
  {
   "cell_type": "code",
   "execution_count": 8,
   "id": "0a6a66e8",
   "metadata": {},
   "outputs": [],
   "source": [
    "## 对偶犹豫费马模糊加权平均(DHFFWA)\n",
    "\n",
    "def DHFFWA(alter,weight):\n",
    "    dlist = []\n",
    "    try:\n",
    "        assert len(alter) == len(weight)\n",
    "    except e:\n",
    "        print(\"The number of alter is not equal to the number of weight!\",e)\n",
    "    for i in range(len(alter)):\n",
    "        dlist.append(alter[i].Algebraic_Times(weight[i]))\n",
    "    aggDHFFE = DHFFE([0],[1])\n",
    "    for agg in dlist:\n",
    "        aggDHFFE = DHFFE_Algebraic_Plus(agg,aggDHFFE)\n",
    "    return aggDHFFE   "
   ]
  },
  {
   "cell_type": "code",
   "execution_count": 9,
   "id": "b10ee80f-5bd6-4235-9589-61aa975f8619",
   "metadata": {},
   "outputs": [],
   "source": [
    "## 对偶犹豫费马模糊加权几何 (DHFFWG)\n",
    "\n",
    "def DHFFWG(alter,weight):\n",
    "    dlist = []\n",
    "    try:\n",
    "        assert len(alter) == len(weight)\n",
    "    except e:\n",
    "        print(\"The number of alter is not equal to the number of weight!\",e)\n",
    "    for i in range(len(alter)):\n",
    "        dlist.append(alter[i].Algebraic_Power(weight[i]))\n",
    "    aggDHFFE = DHFFE([1],[0])\n",
    "    for agg in dlist:\n",
    "        aggDHFFE = DHFFE_Algebraic_Multiply(agg,aggDHFFE)\n",
    "    return aggDHFFE   "
   ]
  },
  {
   "cell_type": "code",
   "execution_count": 10,
   "id": "388276f4-b364-40a6-addd-f5b660fc5b09",
   "metadata": {},
   "outputs": [],
   "source": [
    "## 对偶犹豫毕达哥拉斯模糊爱因斯坦加权 Bonferroni Mean 算子(DHPFEWBM)\n",
    "\n",
    "def DHPFEWBM(alter,weight,p,q):\n",
    "    ## Dual Hesitant Pythagorean Fuzzy Einstein Bonferroni Mean Operator\n",
    "    ## alter means the alternatives\n",
    "    ## weight means the weighted vector of the attribute\n",
    "    \n",
    "    def BonferroniElement(d1,d2,p,q):\n",
    "        ## DHFF Bonferroni Elements\n",
    "        s1 = DHPFE_Einstein_Multiply(d1.Einstein_Power(p),d2.Einstein_Power(q))\n",
    "        s2 = DHPFE_Einstein_Multiply(d1.Einstein_Power(q),d2.Einstein_Power(p))\n",
    "        return DHPFE_Einstein_Plus(s1,s2)\n",
    "    \n",
    "    dlist = []\n",
    "    if weight == 0:\n",
    "        ## 权重为 0，说明没有权重，直接将 alter 即 DHFFE 数组赋值给 dl\n",
    "        dl = alter\n",
    "        for i,d1 in enumerate(dl):\n",
    "            for j,d2 in enumerate(dl[:i]):\n",
    "                dlist.append(BonferroniElement(d1,d2,p,q))\n",
    "    else:\n",
    "        ## 将权重向量乘以备选方案列表\n",
    "        dl = []\n",
    "        try:\n",
    "            ## 判断权重向量与数列向量基数是否相同\n",
    "            assert len(alter) == len(weight)\n",
    "        except e:\n",
    "            print(\"The number of alter is not equal to the number of weight!\",e)\n",
    "        for i in range(len(alter)):\n",
    "            dl.append(alter[i].Einstein_Times(weight[i]))\n",
    "        for i,d1 in enumerate(dl):\n",
    "            for j,d2 in enumerate(dl[:i]):\n",
    "                dlist.append(BonferroniElement(d1,d2,p,q))\n",
    "    aggDHPFE = DHPFE([0],[1])\n",
    "    for agg in dlist:\n",
    "        aggDHPFE = DHPFE_Einstein_Plus(agg,aggDHPFE)\n",
    "    aggDHPFE = (aggDHPFE.Einstein_Times(1/(len(alter)*(len(alter)-1)))).Einstein_Power(1/(p+q))    \n",
    "    return aggDHPFE"
   ]
  },
  {
   "cell_type": "code",
   "execution_count": 11,
   "id": "cd2bb97e-f3ac-4a50-bdeb-b9f8709d5cc9",
   "metadata": {},
   "outputs": [],
   "source": [
    "## 对偶犹豫毕达哥拉斯模糊加权 Bonferroni Mean 算子(DHFFWBM)\n",
    "\n",
    "def DHPFWBM(alter,weight,p,q):\n",
    "    ## Dual Hesitant Pythagorean Fuzzy Einstein Bonferroni Mean Operator\n",
    "    ## alter means the alternatives\n",
    "    ## weight means the weighted vector of the attribute\n",
    "    \n",
    "    def BonferroniElement(d1,d2,p,q):\n",
    "        ## DHFF Bonferroni Elements\n",
    "        s1 = DHPFE_Algebraic_Multiply(d1.Algebraic_Power(p),d2.Algebraic_Power(q))\n",
    "        s2 = DHPFE_Algebraic_Multiply(d1.Algebraic_Power(q),d2.Algebraic_Power(p))\n",
    "        return DHPFE_Algebraic_Plus(s1,s2)\n",
    "    \n",
    "    dlist = []\n",
    "    if weight == 0:\n",
    "        ## 权重为 0，说明没有权重，直接将 alter 即 DHFFE 数组赋值给 dl\n",
    "        dl = alter\n",
    "        for i,d1 in enumerate(dl):\n",
    "            for j,d2 in enumerate(dl[:i]):\n",
    "                dlist.append(BonferroniElement(d1,d2,p,q))\n",
    "    else:\n",
    "        ## 将权重向量乘以备选方案列表\n",
    "        dl = []\n",
    "        try:\n",
    "            ## 判断权重向量与数列向量基数是否相同\n",
    "            assert len(alter) == len(weight)\n",
    "        except e:\n",
    "            print(\"The number of alter is not equal to the number of weight!\",e)\n",
    "        for i in range(len(alter)):\n",
    "            dl.append(alter[i].Algebraic_Times(weight[i]))\n",
    "        for i,d1 in enumerate(dl):\n",
    "            for j,d2 in enumerate(dl[:i]):\n",
    "                dlist.append(BonferroniElement(d1,d2,p,q))\n",
    "    aggDHPFE = DHPFE([0],[1])\n",
    "    for agg in dlist:\n",
    "        aggDHPFE = DHPFE_Algebraic_Plus(agg,aggDHPFE)\n",
    "    aggDHPFE = (aggDHPFE.Algebraic_Times(1/(len(alter)*(len(alter)-1)))).Algebraic_Power(1/(p+q))    \n",
    "    return aggDHPFE"
   ]
  },
  {
   "cell_type": "code",
   "execution_count": 12,
   "id": "12343c24-a0d5-45cf-9ef4-24105983d0a0",
   "metadata": {},
   "outputs": [],
   "source": [
    "## 对偶犹豫毕达哥拉斯模糊爱因斯坦加权平均 (DHPFEWA)\n",
    "\n",
    "def DHPFEWA(alter,weight):\n",
    "    dlist = []\n",
    "    try:\n",
    "        assert len(alter) == len(weight)\n",
    "    except e:\n",
    "        print(\"The number of alter is not equal to the number of weight!\",e)\n",
    "    for i in range(len(alter)):\n",
    "        dlist.append(alter[i].Einstein_Times(weight[i]))\n",
    "    aggDHPFE = DHPFE([0],[1])\n",
    "    for agg in dlist:\n",
    "        aggDHPFE = DHPFE_Einstein_Plus(agg,aggDHPFE)\n",
    "    return aggDHPFE       "
   ]
  },
  {
   "cell_type": "code",
   "execution_count": 13,
   "id": "2d00dd9b-153c-4d20-be69-667ab3301686",
   "metadata": {},
   "outputs": [],
   "source": [
    "## 对偶犹豫毕达哥拉斯模糊加权平均 (DHPFWA)\n",
    "\n",
    "def DHPFWA(alter,weight):\n",
    "    dlist = []\n",
    "    try:\n",
    "        assert len(alter) == len(weight)\n",
    "    except e:\n",
    "        print(\"The number of alter is not equal to the number of weight!\",e)\n",
    "    for i in range(len(alter)):\n",
    "        dlist.append(alter[i].Algebraic_Times(weight[i]))\n",
    "    aggDHPFE = DHPFE([0],[1])\n",
    "    for agg in dlist:\n",
    "        aggDHPFE = DHPFE_Algebraic_Plus(agg,aggDHPFE)\n",
    "    return aggDHPFE       "
   ]
  },
  {
   "cell_type": "code",
   "execution_count": null,
   "id": "a2fc6b80",
   "metadata": {},
   "outputs": [],
   "source": []
  },
  {
   "cell_type": "code",
   "execution_count": 14,
   "id": "2ae3d899",
   "metadata": {},
   "outputs": [],
   "source": [
    "## 对偶犹豫费马模糊爱因斯坦加权 Bonferroni Mean (DHFFEWBM)"
   ]
  },
  {
   "cell_type": "code",
   "execution_count": 15,
   "id": "aceaa11c",
   "metadata": {},
   "outputs": [],
   "source": [
    "a11 = DHFFE([0.5],[0.4,0.5])\n",
    "a12 = DHFFE([0.5,0.6],[0.2])\n",
    "a13 = DHFFE([0.7],[0.1,0.4])\n",
    "a14 = DHFFE([0.5,0.8],[0.5])\n",
    "a15 = DHFFE([0.8],[0.6])\n",
    "\n",
    "a21 = DHFFE([0.6,0.8],[0.1])\n",
    "a22 = DHFFE([0.5,0.7],[0.2,0.3])\n",
    "a23 = DHFFE([0.4],[0.2,0.5])\n",
    "a24 = DHFFE([0.8],[0.2,0.4])\n",
    "a25 = DHFFE([0.7],[0.3])\n",
    "\n",
    "a31 = DHFFE([0.5,0.7],[0.3])\n",
    "a32 = DHFFE([0.8],[0.1,0.2])\n",
    "a33 = DHFFE([0.7,0.8],[0.5])\n",
    "a34 = DHFFE([0.6],[0.2])\n",
    "a35 = DHFFE([0.6],[0.2,0.3])\n",
    "\n",
    "a41 = DHFFE([0.5],[0.4])\n",
    "a42 = DHFFE([0.6,0.8],[0.1])\n",
    "a43 = DHFFE([0.6,0.2],[0.4])\n",
    "a44 = DHFFE([0.9],[0.2,0.3])\n",
    "a45 = DHFFE([0.5,0.7],[0.5,0.3])\n",
    "\n",
    "a51 = DHFFE([0.9],[0.2,0.3])\n",
    "a52 = DHFFE([0.6],[0.5])\n",
    "a53 = DHFFE([0.7,0.8],[0.5])\n",
    "a54 = DHFFE([0.8],[0.1])\n",
    "a55 = DHFFE([0.7,0.8],[0.2,0.4])"
   ]
  },
  {
   "cell_type": "code",
   "execution_count": 16,
   "id": "cbe7ff5d",
   "metadata": {},
   "outputs": [],
   "source": [
    "alter1 = [a11,a12,a13,a14,a15]\n",
    "alter2 = [a21,a22,a23,a24,a25]\n",
    "alter3 = [a31,a32,a33,a34,a35]\n",
    "alter4 = [a41,a42,a43,a44,a45]\n",
    "alter5 = [a51,a52,a53,a54,a55]\n",
    "weight = [0.2,0.15,0.2,0.3,0.15]"
   ]
  },
  {
   "cell_type": "code",
   "execution_count": null,
   "id": "5243e8e8-b8b1-406b-ae03-c23900304418",
   "metadata": {},
   "outputs": [],
   "source": [
    "p,q=1,1"
   ]
  },
  {
   "cell_type": "code",
   "execution_count": null,
   "id": "9f1fc773-b45d-4f74-b08b-5d8f3c8c744f",
   "metadata": {},
   "outputs": [],
   "source": [
    "## The effect of p,q on DHFFEWBM "
   ]
  },
  {
   "cell_type": "code",
   "execution_count": null,
   "id": "eff0a1e7-1966-46b5-a2fe-e173c692b6e7",
   "metadata": {},
   "outputs": [],
   "source": [
    "p,q = 0,1"
   ]
  },
  {
   "cell_type": "code",
   "execution_count": null,
   "id": "96c383a6-11dc-4d2f-8bde-c62ba6a73fc3",
   "metadata": {},
   "outputs": [],
   "source": [
    "p,q = 1,1"
   ]
  },
  {
   "cell_type": "code",
   "execution_count": null,
   "id": "bb25ec61-3d24-475f-93de-b6e56f7f0227",
   "metadata": {},
   "outputs": [],
   "source": [
    "p,q = 2,1"
   ]
  },
  {
   "cell_type": "code",
   "execution_count": null,
   "id": "006d41b1-2ab6-421e-9e96-759448883d94",
   "metadata": {},
   "outputs": [],
   "source": [
    "p,q = 2,2"
   ]
  },
  {
   "cell_type": "code",
   "execution_count": null,
   "id": "67eb9263-66b9-443b-b266-5a20fc051d2d",
   "metadata": {},
   "outputs": [],
   "source": [
    "p,q = 3,1"
   ]
  },
  {
   "cell_type": "code",
   "execution_count": null,
   "id": "d136d5b6-835d-48b5-91dd-8b27943be995",
   "metadata": {},
   "outputs": [],
   "source": [
    "p,q = 3,2"
   ]
  },
  {
   "cell_type": "code",
   "execution_count": null,
   "id": "7bc3f58b-6fcc-4bd0-96bf-6db4e72b9e98",
   "metadata": {},
   "outputs": [],
   "source": [
    "p,q = 3,3"
   ]
  },
  {
   "cell_type": "code",
   "execution_count": null,
   "id": "8bd66889-0189-4898-b4cc-76c1f479c43c",
   "metadata": {},
   "outputs": [],
   "source": [
    "%%time\n",
    "D1 = DHFFEBM(alter1,weight,p,q)\n",
    "D2 = DHFFEBM(alter2,weight,p,q)\n",
    "D3 = DHFFEBM(alter3,weight,p,q)\n",
    "D4 = DHFFEBM(alter4,weight,p,q)\n",
    "D5 = DHFFEBM(alter5,weight,p,q)"
   ]
  },
  {
   "cell_type": "code",
   "execution_count": null,
   "id": "3c9ebdc7-4d34-45dd-a339-dcb87a56d1ab",
   "metadata": {},
   "outputs": [],
   "source": []
  },
  {
   "cell_type": "code",
   "execution_count": null,
   "id": "1bc8a5ac-0d57-4440-a819-f7ef3828406b",
   "metadata": {},
   "outputs": [],
   "source": []
  },
  {
   "cell_type": "code",
   "execution_count": 17,
   "id": "acf0ca7b-4b15-4df3-8b94-009f5a9d4d47",
   "metadata": {},
   "outputs": [],
   "source": [
    "p,q = 1,1"
   ]
  },
  {
   "cell_type": "code",
   "execution_count": 18,
   "id": "266f6634",
   "metadata": {},
   "outputs": [
    {
     "name": "stdout",
     "output_type": "stream",
     "text": [
      "CPU times: user 1min 21s, sys: 1.68 s, total: 1min 23s\n",
      "Wall time: 1min 23s\n"
     ]
    }
   ],
   "source": [
    "%%time\n",
    "dhffewbm1 = DHFFEWBM(alter1,0,p,q)\n",
    "dhffewbm2 = DHFFEWBM(alter2,0,p,q)\n",
    "dhffewbm3 = DHFFEWBM(alter3,0,p,q)\n",
    "dhffewbm4 = DHFFEWBM(alter4,0,p,q)\n",
    "dhffewbm5 = DHFFEWBM(alter5,0,p,q)"
   ]
  },
  {
   "cell_type": "code",
   "execution_count": 19,
   "id": "a5a30ff0",
   "metadata": {},
   "outputs": [
    {
     "name": "stdout",
     "output_type": "stream",
     "text": [
      "CPU times: user 1.24 s, sys: 64.5 ms, total: 1.3 s\n",
      "Wall time: 1.3 s\n"
     ]
    },
    {
     "data": {
      "text/plain": [
       "(0.23854588827155898,\n",
       " 0.4000569660454459,\n",
       " 0.39260490764990763,\n",
       " 0.3472651153589974,\n",
       " 0.41929359092561913)"
      ]
     },
     "execution_count": 19,
     "metadata": {},
     "output_type": "execute_result"
    }
   ],
   "source": [
    "%%time\n",
    "score(dhffewbm1),score(dhffewbm2),score(dhffewbm3),score(dhffewbm4),score(dhffewbm5),"
   ]
  },
  {
   "cell_type": "code",
   "execution_count": null,
   "id": "b9fe129a-1a5d-40e0-813c-4c08c53467f0",
   "metadata": {},
   "outputs": [],
   "source": []
  },
  {
   "cell_type": "code",
   "execution_count": 20,
   "id": "e0d266b3-a729-4685-9dfe-1df744cf39dd",
   "metadata": {},
   "outputs": [],
   "source": [
    "## 加权"
   ]
  },
  {
   "cell_type": "code",
   "execution_count": 21,
   "id": "55f74d34",
   "metadata": {},
   "outputs": [
    {
     "name": "stdout",
     "output_type": "stream",
     "text": [
      "CPU times: user 1min 21s, sys: 1.81 s, total: 1min 23s\n",
      "Wall time: 1min 23s\n"
     ]
    }
   ],
   "source": [
    "%%time\n",
    "## 对偶犹豫费马模糊爱因斯坦加权 BM\n",
    "dhffewbm1 = DHFFEWBM(alter1,weight,p,q)\n",
    "dhffewbm2 = DHFFEWBM(alter2,weight,p,q)\n",
    "dhffewbm3 = DHFFEWBM(alter3,weight,p,q)\n",
    "dhffewbm4 = DHFFEWBM(alter4,weight,p,q)\n",
    "dhffewbm5 = DHFFEWBM(alter5,weight,p,q)"
   ]
  },
  {
   "cell_type": "code",
   "execution_count": 22,
   "id": "962ba00c",
   "metadata": {},
   "outputs": [
    {
     "name": "stdout",
     "output_type": "stream",
     "text": [
      "CPU times: user 1.23 s, sys: 61.4 ms, total: 1.29 s\n",
      "Wall time: 1.29 s\n"
     ]
    },
    {
     "data": {
      "text/plain": [
       "(-0.47532883027909034,\n",
       " -0.4124027184698596,\n",
       " -0.42713063363122145,\n",
       " -0.42475308991425836,\n",
       " -0.3607477739794849)"
      ]
     },
     "execution_count": 22,
     "metadata": {},
     "output_type": "execute_result"
    }
   ],
   "source": [
    "%%time\n",
    "score(dhffewbm1),score(dhffewbm2),score(dhffewbm3),score(dhffewbm4),score(dhffewbm5)"
   ]
  },
  {
   "cell_type": "code",
   "execution_count": 23,
   "id": "e9ec5c13-d3e2-477a-a4c4-b327ab7d1393",
   "metadata": {},
   "outputs": [
    {
     "name": "stdout",
     "output_type": "stream",
     "text": [
      "CPU times: user 1min 19s, sys: 1.67 s, total: 1min 21s\n",
      "Wall time: 1min 21s\n"
     ]
    }
   ],
   "source": [
    "%%time\n",
    "## 对偶犹豫费马模糊加权 BM\n",
    "dhffwbm1 = DHFFWBM(alter1,weight,p,q)\n",
    "dhffwbm2 = DHFFWBM(alter2,weight,p,q)\n",
    "dhffwbm3 = DHFFWBM(alter3,weight,p,q)\n",
    "dhffwbm4 = DHFFWBM(alter4,weight,p,q)\n",
    "dhffwbm5 = DHFFWBM(alter5,weight,p,q)"
   ]
  },
  {
   "cell_type": "code",
   "execution_count": 24,
   "id": "a4a527be-ce89-4c79-a3c3-7a1e2833e489",
   "metadata": {},
   "outputs": [
    {
     "name": "stdout",
     "output_type": "stream",
     "text": [
      "CPU times: user 1.26 s, sys: 63.3 ms, total: 1.32 s\n",
      "Wall time: 1.32 s\n"
     ]
    },
    {
     "data": {
      "text/plain": [
       "(-0.4208093037711416,\n",
       " -0.3422171436692027,\n",
       " -0.35798673574327516,\n",
       " -0.36114931617955776,\n",
       " -0.29645468622843346)"
      ]
     },
     "execution_count": 24,
     "metadata": {},
     "output_type": "execute_result"
    }
   ],
   "source": [
    "%%time\n",
    "score(dhffwbm1),score(dhffwbm2),score(dhffwbm3),score(dhffwbm4),score(dhffwbm5)"
   ]
  },
  {
   "cell_type": "code",
   "execution_count": 25,
   "id": "bc98492a-5a60-4e7f-9d18-bf80e56c333f",
   "metadata": {},
   "outputs": [
    {
     "name": "stdout",
     "output_type": "stream",
     "text": [
      "CPU times: user 295 µs, sys: 2 µs, total: 297 µs\n",
      "Wall time: 301 µs\n"
     ]
    }
   ],
   "source": [
    "%%time\n",
    "## 对偶犹豫费马模糊爱因斯坦加权平均\n",
    "dhffewa1 = DHFFEWA(alter1,weight)\n",
    "dhffewa2 = DHFFEWA(alter2,weight)\n",
    "dhffewa3 = DHFFEWA(alter3,weight)\n",
    "dhffewa4 = DHFFEWA(alter4,weight)\n",
    "dhffewa5 = DHFFEWA(alter5,weight)"
   ]
  },
  {
   "cell_type": "code",
   "execution_count": 26,
   "id": "94ce19dc-29eb-4bda-8b87-82811f3335bc",
   "metadata": {},
   "outputs": [
    {
     "name": "stdout",
     "output_type": "stream",
     "text": [
      "CPU times: user 15 µs, sys: 1 µs, total: 16 µs\n",
      "Wall time: 17.9 µs\n"
     ]
    },
    {
     "data": {
      "text/plain": [
       "(0.29555952547401254,\n",
       " 0.45980078561972637,\n",
       " 0.4220968833438225,\n",
       " 0.4538118063502413,\n",
       " 0.5457413086123545)"
      ]
     },
     "execution_count": 26,
     "metadata": {},
     "output_type": "execute_result"
    }
   ],
   "source": [
    "%%time\n",
    "score(dhffewa1),score(dhffewa2),score(dhffewa3),score(dhffewa4),score(dhffewa5)"
   ]
  },
  {
   "cell_type": "code",
   "execution_count": 27,
   "id": "67fdcc3c-e76a-4bc9-8cfa-8a8d9e64223d",
   "metadata": {},
   "outputs": [
    {
     "name": "stdout",
     "output_type": "stream",
     "text": [
      "CPU times: user 315 µs, sys: 15 µs, total: 330 µs\n",
      "Wall time: 349 µs\n"
     ]
    }
   ],
   "source": [
    "%%time\n",
    "## 对偶犹豫费马模糊爱因斯坦加权几何\n",
    "dhffewg1 = DHFFEWG(alter1,weight)\n",
    "dhffewg2 = DHFFEWG(alter2,weight)\n",
    "dhffewg3 = DHFFEWG(alter3,weight)\n",
    "dhffewg4 = DHFFEWG(alter4,weight)\n",
    "dhffewg5 = DHFFEWG(alter5,weight)"
   ]
  },
  {
   "cell_type": "code",
   "execution_count": 28,
   "id": "1826e46f-1aa6-4714-801e-951eaf210e44",
   "metadata": {},
   "outputs": [
    {
     "name": "stdout",
     "output_type": "stream",
     "text": [
      "CPU times: user 16 µs, sys: 0 ns, total: 16 µs\n",
      "Wall time: 19.1 µs\n"
     ]
    },
    {
     "data": {
      "text/plain": [
       "(0.17217019998350475,\n",
       " 0.3379026863115797,\n",
       " 0.32600753026802304,\n",
       " 0.26904136742895723,\n",
       " 0.39593240136826546)"
      ]
     },
     "execution_count": 28,
     "metadata": {},
     "output_type": "execute_result"
    }
   ],
   "source": [
    "%%time\n",
    "score(dhffewg1),score(dhffewg2),score(dhffewg3),score(dhffewg4),score(dhffewg5)"
   ]
  },
  {
   "cell_type": "code",
   "execution_count": 29,
   "id": "9d96841e-264b-4e55-b857-927a8ca08b6f",
   "metadata": {},
   "outputs": [
    {
     "name": "stdout",
     "output_type": "stream",
     "text": [
      "CPU times: user 307 µs, sys: 1e+03 ns, total: 308 µs\n",
      "Wall time: 311 µs\n"
     ]
    }
   ],
   "source": [
    "%%time\n",
    "## 对偶犹豫费马模糊加权平均\n",
    "dhffwa1 = DHFFWA(alter1,weight)\n",
    "dhffwa2 = DHFFWA(alter2,weight)\n",
    "dhffwa3 = DHFFWA(alter3,weight)\n",
    "dhffwa4 = DHFFWA(alter4,weight)\n",
    "dhffwa5 = DHFFWA(alter5,weight)"
   ]
  },
  {
   "cell_type": "code",
   "execution_count": 30,
   "id": "289d08e2-2910-4bd4-844f-8ba3227ff5f2",
   "metadata": {},
   "outputs": [
    {
     "name": "stdout",
     "output_type": "stream",
     "text": [
      "CPU times: user 17 µs, sys: 0 ns, total: 17 µs\n",
      "Wall time: 19.8 µs\n"
     ]
    },
    {
     "data": {
      "text/plain": [
       "(0.3052710610657653,\n",
       " 0.4683462655406342,\n",
       " 0.4278435345092099,\n",
       " 0.47255848844386483,\n",
       " 0.5521902242594702)"
      ]
     },
     "execution_count": 30,
     "metadata": {},
     "output_type": "execute_result"
    }
   ],
   "source": [
    "%%time\n",
    "score(dhffwa1),score(dhffwa2),score(dhffwa3),score(dhffwa4),score(dhffwa5)"
   ]
  },
  {
   "cell_type": "code",
   "execution_count": 31,
   "id": "de0a284c-e10d-4200-aad1-5b0cd31517f9",
   "metadata": {},
   "outputs": [
    {
     "name": "stdout",
     "output_type": "stream",
     "text": [
      "CPU times: user 296 µs, sys: 1 µs, total: 297 µs\n",
      "Wall time: 301 µs\n"
     ]
    }
   ],
   "source": [
    "%%time\n",
    "## 对偶犹豫费马模糊加权几何\n",
    "dhffwg1 = DHFFWG(alter1,weight)\n",
    "dhffwg2 = DHFFWG(alter2,weight)\n",
    "dhffwg3 = DHFFWG(alter3,weight)\n",
    "dhffwg4 = DHFFWG(alter4,weight)\n",
    "dhffwg5 = DHFFWG(alter5,weight)"
   ]
  },
  {
   "cell_type": "code",
   "execution_count": 32,
   "id": "e2d2cb0b-2d1b-45ad-a683-d67d4ff14c49",
   "metadata": {},
   "outputs": [
    {
     "name": "stdout",
     "output_type": "stream",
     "text": [
      "CPU times: user 15 µs, sys: 1 µs, total: 16 µs\n",
      "Wall time: 19.1 µs\n"
     ]
    },
    {
     "data": {
      "text/plain": [
       "(0.16343094384948298,\n",
       " 0.3276656874293394,\n",
       " 0.3195464805564542,\n",
       " 0.2518929261049948,\n",
       " 0.38742320638518546)"
      ]
     },
     "execution_count": 32,
     "metadata": {},
     "output_type": "execute_result"
    }
   ],
   "source": [
    "%%time\n",
    "score(dhffwg1),score(dhffwg2),score(dhffwg3),score(dhffwg4),score(dhffwg5)"
   ]
  },
  {
   "cell_type": "code",
   "execution_count": 33,
   "id": "68ebb0e2-a214-4a71-a1f7-9900911961be",
   "metadata": {},
   "outputs": [
    {
     "name": "stdout",
     "output_type": "stream",
     "text": [
      "CPU times: user 1min 21s, sys: 1.66 s, total: 1min 23s\n",
      "Wall time: 1min 23s\n"
     ]
    }
   ],
   "source": [
    "%%time\n",
    "## 对偶犹豫毕达哥拉斯模糊爱因斯坦加权 BM\n",
    "dhpfewbm1 = DHPFEWBM(alter1,weight,p,q)\n",
    "dhpfewbm2 = DHPFEWBM(alter2,weight,p,q)\n",
    "dhpfewbm3 = DHPFEWBM(alter3,weight,p,q)\n",
    "dhpfewbm4 = DHPFEWBM(alter4,weight,p,q)\n",
    "dhpfewbm5 = DHPFEWBM(alter5,weight,p,q)"
   ]
  },
  {
   "cell_type": "code",
   "execution_count": 34,
   "id": "4107a96f-076e-4f71-985f-6db8539c7f12",
   "metadata": {},
   "outputs": [
    {
     "name": "stdout",
     "output_type": "stream",
     "text": [
      "CPU times: user 1.26 s, sys: 64.4 ms, total: 1.32 s\n",
      "Wall time: 1.32 s\n"
     ]
    },
    {
     "data": {
      "text/plain": [
       "(-0.4809285337554509,\n",
       " -0.41967787364467135,\n",
       " -0.4280338822429763,\n",
       " -0.43705365482874814,\n",
       " -0.36120249345860667)"
      ]
     },
     "execution_count": 34,
     "metadata": {},
     "output_type": "execute_result"
    }
   ],
   "source": [
    "%%time\n",
    "score(dhpfewbm1),score(dhpfewbm2),score(dhpfewbm3),score(dhpfewbm4),score(dhpfewbm5)"
   ]
  },
  {
   "cell_type": "code",
   "execution_count": 35,
   "id": "0f5fecf8-0cb2-4ee0-9642-fb6e96980336",
   "metadata": {},
   "outputs": [
    {
     "name": "stdout",
     "output_type": "stream",
     "text": [
      "CPU times: user 1min 21s, sys: 1.78 s, total: 1min 22s\n",
      "Wall time: 1min 22s\n"
     ]
    }
   ],
   "source": [
    "%%time\n",
    "## 对偶犹豫毕达哥拉斯模糊加权 BM\n",
    "dhpfwbm1 = DHPFWBM(alter1,weight,p,q)\n",
    "dhpfwbm2 = DHPFWBM(alter2,weight,p,q)\n",
    "dhpfwbm3 = DHPFWBM(alter3,weight,p,q)\n",
    "dhpfwbm4 = DHPFWBM(alter4,weight,p,q)\n",
    "dhpfwbm5 = DHPFWBM(alter5,weight,p,q)"
   ]
  },
  {
   "cell_type": "code",
   "execution_count": 36,
   "id": "417b4062-387d-4300-8791-340b8a34d899",
   "metadata": {},
   "outputs": [
    {
     "name": "stdout",
     "output_type": "stream",
     "text": [
      "CPU times: user 1.33 s, sys: 84.2 ms, total: 1.42 s\n",
      "Wall time: 1.42 s\n"
     ]
    },
    {
     "data": {
      "text/plain": [
       "(-0.4275097073289492,\n",
       " -0.351618995806442,\n",
       " -0.3593488391964041,\n",
       " -0.3768966066831282,\n",
       " -0.2974984197631487)"
      ]
     },
     "execution_count": 36,
     "metadata": {},
     "output_type": "execute_result"
    }
   ],
   "source": [
    "%%time\n",
    "score(dhpfwbm1),score(dhpfwbm2),score(dhpfwbm3),score(dhpfwbm4),score(dhpfwbm5)"
   ]
  },
  {
   "cell_type": "code",
   "execution_count": 37,
   "id": "47825f25-9652-4f0b-bde2-43a12e0cdc76",
   "metadata": {},
   "outputs": [
    {
     "name": "stdout",
     "output_type": "stream",
     "text": [
      "CPU times: user 300 µs, sys: 4 µs, total: 304 µs\n",
      "Wall time: 322 µs\n"
     ]
    }
   ],
   "source": [
    "%%time\n",
    "## 对偶犹豫毕达哥拉斯模糊爱因斯坦加权平均\n",
    "dhpfewa1 = DHPFEWA(alter1,weight)\n",
    "dhpfewa2 = DHPFEWA(alter2,weight)\n",
    "dhpfewa3 = DHPFEWA(alter3,weight)\n",
    "dhpfewa4 = DHPFEWA(alter4,weight)\n",
    "dhpfewa5 = DHPFEWA(alter5,weight)"
   ]
  },
  {
   "cell_type": "code",
   "execution_count": 38,
   "id": "9814dd94-e496-4406-a41f-bc280d8a928a",
   "metadata": {},
   "outputs": [
    {
     "name": "stdout",
     "output_type": "stream",
     "text": [
      "CPU times: user 33 µs, sys: 8 µs, total: 41 µs\n",
      "Wall time: 60.1 µs\n"
     ]
    },
    {
     "data": {
      "text/plain": [
       "(0.41524775122255536,\n",
       " 0.5779250017998839,\n",
       " 0.5547557014537388,\n",
       " 0.5471563617771844,\n",
       " 0.6509811369871151)"
      ]
     },
     "execution_count": 38,
     "metadata": {},
     "output_type": "execute_result"
    }
   ],
   "source": [
    "%%time\n",
    "score(dhpfewa1),score(dhpfewa2),score(dhpfewa3),score(dhpfewa4),score(dhpfewa5)"
   ]
  },
  {
   "cell_type": "code",
   "execution_count": 39,
   "id": "d3adf268-70ee-490b-9465-9222a1c8660e",
   "metadata": {},
   "outputs": [
    {
     "name": "stdout",
     "output_type": "stream",
     "text": [
      "CPU times: user 246 µs, sys: 0 ns, total: 246 µs\n",
      "Wall time: 250 µs\n"
     ]
    }
   ],
   "source": [
    "%%time\n",
    "## 对偶犹豫毕达哥拉斯模糊加权平均\n",
    "dhpfwa1 = DHPFWA(alter1,weight)\n",
    "dhpfwa2 = DHPFWA(alter2,weight)\n",
    "dhpfwa3 = DHPFWA(alter3,weight)\n",
    "dhpfwa4 = DHPFWA(alter4,weight)\n",
    "dhpfwa5 = DHPFWA(alter5,weight)"
   ]
  },
  {
   "cell_type": "code",
   "execution_count": 40,
   "id": "e95a9523-1db3-40de-a332-b52cc7e49b57",
   "metadata": {},
   "outputs": [
    {
     "name": "stdout",
     "output_type": "stream",
     "text": [
      "CPU times: user 13 µs, sys: 1 µs, total: 14 µs\n",
      "Wall time: 16 µs\n"
     ]
    },
    {
     "data": {
      "text/plain": [
       "(0.40009694054093214,\n",
       " 0.5541143492375945,\n",
       " 0.5274596479052849,\n",
       " 0.5379217151789208,\n",
       " 0.6291670212078588)"
      ]
     },
     "execution_count": 40,
     "metadata": {},
     "output_type": "execute_result"
    }
   ],
   "source": [
    "%%time\n",
    "score(dhpfwa1),score(dhpfwa2),score(dhpfwa3),score(dhpfwa4),score(dhpfwa5)"
   ]
  },
  {
   "cell_type": "code",
   "execution_count": null,
   "id": "f967989d-6ed1-46ab-8c60-97816b3667ad",
   "metadata": {},
   "outputs": [],
   "source": []
  },
  {
   "cell_type": "code",
   "execution_count": null,
   "id": "55eeaa5d-5b7f-4174-bed0-63b898cb07ac",
   "metadata": {},
   "outputs": [],
   "source": []
  },
  {
   "cell_type": "code",
   "execution_count": null,
   "id": "052b8db7-5b89-4132-a284-ef47a55e04cd",
   "metadata": {},
   "outputs": [],
   "source": []
  },
  {
   "cell_type": "code",
   "execution_count": null,
   "id": "0d2533e5-133c-4ebd-8975-9da2c3b9fd01",
   "metadata": {},
   "outputs": [],
   "source": []
  }
 ],
 "metadata": {
  "kernelspec": {
   "display_name": "Python 3 (ipykernel)",
   "language": "python",
   "name": "python3"
  },
  "language_info": {
   "codemirror_mode": {
    "name": "ipython",
    "version": 3
   },
   "file_extension": ".py",
   "mimetype": "text/x-python",
   "name": "python",
   "nbconvert_exporter": "python",
   "pygments_lexer": "ipython3",
   "version": "3.8.12"
  }
 },
 "nbformat": 4,
 "nbformat_minor": 5
}
