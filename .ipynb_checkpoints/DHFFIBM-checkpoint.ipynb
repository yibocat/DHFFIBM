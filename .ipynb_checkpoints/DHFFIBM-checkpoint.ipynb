{
 "cells": [
  {
   "cell_type": "code",
   "execution_count": 8,
   "id": "18355f47",
   "metadata": {},
   "outputs": [],
   "source": [
    "from DHFFEOperators import *"
   ]
  },
  {
   "cell_type": "code",
   "execution_count": 9,
   "id": "b4387f36",
   "metadata": {},
   "outputs": [],
   "source": [
    "d1 = {'MD':{0.5},'NMD':{0.2,0.3}}\n",
    "d2 = {'MD':{0.6,0.8},'NMD':{0.4}}\n",
    "d3 = {'MD':{0.7},'NMD':{0.1,0.2}}"
   ]
  },
  {
   "cell_type": "code",
   "execution_count": 10,
   "id": "e6624c57",
   "metadata": {},
   "outputs": [],
   "source": [
    "d=[d1,d2,d3]"
   ]
  },
  {
   "cell_type": "code",
   "execution_count": 11,
   "id": "62180373",
   "metadata": {},
   "outputs": [
    {
     "data": {
      "text/plain": [
       "[{'MD': {0.5}, 'NMD': {0.2, 0.3}},\n",
       " {'MD': {0.6, 0.8}, 'NMD': {0.4}},\n",
       " {'MD': {0.7}, 'NMD': {0.1, 0.2}}]"
      ]
     },
     "execution_count": 11,
     "metadata": {},
     "output_type": "execute_result"
    }
   ],
   "source": [
    "d"
   ]
  },
  {
   "cell_type": "code",
   "execution_count": 12,
   "id": "a2e6202f",
   "metadata": {},
   "outputs": [
    {
     "data": {
      "text/plain": [
       "[(0, {'MD': {0.5}, 'NMD': {0.2, 0.3}}),\n",
       " (1, {'MD': {0.6, 0.8}, 'NMD': {0.4}}),\n",
       " (2, {'MD': {0.7}, 'NMD': {0.1, 0.2}})]"
      ]
     },
     "execution_count": 12,
     "metadata": {},
     "output_type": "execute_result"
    }
   ],
   "source": [
    "list(enumerate(d))"
   ]
  },
  {
   "cell_type": "code",
   "execution_count": null,
   "id": "0ebd552a",
   "metadata": {},
   "outputs": [],
   "source": []
  },
  {
   "cell_type": "code",
   "execution_count": 13,
   "id": "0fbb45d3",
   "metadata": {},
   "outputs": [
    {
     "data": {
      "text/plain": [
       "{'MD': {0.6695578875807532,\n",
       "  0.6725955604635767,\n",
       "  0.8199048075100643,\n",
       "  0.8247003503137155},\n",
       " 'NMD': {0.41502830406461094, 0.4469288824460282}}"
      ]
     },
     "execution_count": 13,
     "metadata": {},
     "output_type": "execute_result"
    }
   ],
   "source": [
    "DHFF_Multiply(d1,d2)"
   ]
  },
  {
   "cell_type": "code",
   "execution_count": 14,
   "id": "9ea6c09b",
   "metadata": {},
   "outputs": [
    {
     "data": {
      "text/plain": [
       "{'MD': {0.6796884385859236, 0.8305865114670475},\n",
       " 'NMD': {0.3901599168858653,\n",
       "  0.39527780489349584,\n",
       "  0.4070580602837276,\n",
       "  0.4225394148773246}}"
      ]
     },
     "execution_count": 14,
     "metadata": {},
     "output_type": "execute_result"
    }
   ],
   "source": [
    "DHFF_Plus(d1,d2)"
   ]
  },
  {
   "cell_type": "code",
   "execution_count": null,
   "id": "6cc55d68",
   "metadata": {},
   "outputs": [],
   "source": []
  },
  {
   "cell_type": "code",
   "execution_count": null,
   "id": "17118dc7",
   "metadata": {},
   "outputs": [],
   "source": []
  },
  {
   "cell_type": "code",
   "execution_count": null,
   "id": "8c79f6de",
   "metadata": {},
   "outputs": [],
   "source": []
  },
  {
   "cell_type": "code",
   "execution_count": null,
   "id": "ca0e439b",
   "metadata": {},
   "outputs": [],
   "source": []
  },
  {
   "cell_type": "code",
   "execution_count": 15,
   "id": "bd533836",
   "metadata": {},
   "outputs": [],
   "source": [
    "def Bonf_ele(val1,val2,p,q):\n",
    "    vip=DHFF_Power(val1,p)\n",
    "    vjq=DHFF_Power(val2,q)\n",
    "    viq=DHFF_Power(val1,q)\n",
    "    vjp=DHFF_Power(val2,p)\n",
    "    return DHFF_Plus(DHFF_Multiply(vip,vjq),DHFF_Multiply(viq,vjp))"
   ]
  },
  {
   "cell_type": "code",
   "execution_count": null,
   "id": "259401ca",
   "metadata": {},
   "outputs": [],
   "source": []
  },
  {
   "cell_type": "code",
   "execution_count": null,
   "id": "6a571186",
   "metadata": {},
   "outputs": [],
   "source": []
  },
  {
   "cell_type": "code",
   "execution_count": null,
   "id": "caf9af03",
   "metadata": {},
   "outputs": [],
   "source": []
  },
  {
   "cell_type": "code",
   "execution_count": 19,
   "id": "9035a201",
   "metadata": {},
   "outputs": [],
   "source": [
    "s = {'MD':set(),'NMD':set()}\n",
    "\n",
    "for i,value_i in enumerate(d):\n",
    "    for j,value_j in enumerate(d[:i]):\n",
    "        # ((value_i)^p * (value_j)^q)+((value_i)^q * (value_j)^p)\n",
    "        s = Bonf_ele(value_i,value_j,1,2)"
   ]
  },
  {
   "cell_type": "code",
   "execution_count": 21,
   "id": "af1de3b3",
   "metadata": {},
   "outputs": [
    {
     "data": {
      "text/plain": [
       "{0.9365172640227801,\n",
       " 0.936880810214167,\n",
       " 0.9368808102141671,\n",
       " 0.9370516668292368,\n",
       " 0.9371309745331289,\n",
       " 0.9374119394705182,\n",
       " 0.9374907617012888,\n",
       " 0.9374907617012889,\n",
       " 0.9376646782243515,\n",
       " 0.9380212006405491,\n",
       " 0.9581582759523606,\n",
       " 0.9583923193997119,\n",
       " 0.9585036438934035,\n",
       " 0.9587356700129486,\n",
       " 0.9593675974710973,\n",
       " 0.95959458373704,\n",
       " 0.9597120957292645,\n",
       " 0.9599370749900519,\n",
       " 0.9674082684031273,\n",
       " 0.9676736627053981,\n",
       " 0.9677130617692201,\n",
       " 0.9679782889879945,\n",
       " 0.9680713047368933,\n",
       " 0.9683311195211367,\n",
       " 0.9683311195211368,\n",
       " 0.9683696905421019,\n",
       " 0.9686293453008289,\n",
       " 0.968629345300829,\n",
       " 0.9782799654443787,\n",
       " 0.9784555114834189,\n",
       " 0.9787169353912255,\n",
       " 0.9787169353912256,\n",
       " 0.9788888724797656,\n",
       " 0.9788888724797657,\n",
       " 0.978894925967299,\n",
       " 0.9790702515721006,\n",
       " 0.9793192589681526,\n",
       " 0.9794909846799011,\n",
       " 0.9794909846799013}"
      ]
     },
     "execution_count": 21,
     "metadata": {},
     "output_type": "execute_result"
    }
   ],
   "source": [
    "s['MD']"
   ]
  },
  {
   "cell_type": "code",
   "execution_count": 25,
   "id": "11eb1183",
   "metadata": {},
   "outputs": [],
   "source": [
    "sum = 0\n",
    "for i in s['NMD']:\n",
    "    sum += i"
   ]
  },
  {
   "cell_type": "code",
   "execution_count": 27,
   "id": "9286015d",
   "metadata": {},
   "outputs": [
    {
     "data": {
      "text/plain": [
       "0.382181494485973"
      ]
     },
     "execution_count": 27,
     "metadata": {},
     "output_type": "execute_result"
    }
   ],
   "source": [
    "sum/177"
   ]
  },
  {
   "cell_type": "code",
   "execution_count": null,
   "id": "7976cd2e",
   "metadata": {},
   "outputs": [],
   "source": []
  }
 ],
 "metadata": {
  "kernelspec": {
   "display_name": "Python 3 (ipykernel)",
   "language": "python",
   "name": "python3"
  },
  "language_info": {
   "codemirror_mode": {
    "name": "ipython",
    "version": 3
   },
   "file_extension": ".py",
   "mimetype": "text/x-python",
   "name": "python",
   "nbconvert_exporter": "python",
   "pygments_lexer": "ipython3",
   "version": "3.8.12"
  }
 },
 "nbformat": 4,
 "nbformat_minor": 5
}
