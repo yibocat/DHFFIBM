{
 "cells": [
  {
   "cell_type": "code",
   "execution_count": 2,
   "id": "e38b63d5-e2ae-48df-9f54-e0ca54b1678e",
   "metadata": {},
   "outputs": [],
   "source": [
    "import numpy as np\n",
    "from math import *"
   ]
  },
  {
   "cell_type": "code",
   "execution_count": null,
   "id": "a2195d71-a7a9-4e38-802e-bb8339fce31f",
   "metadata": {},
   "outputs": [],
   "source": []
  },
  {
   "cell_type": "code",
   "execution_count": 3,
   "id": "85ad9068-6e96-44a9-a3ec-e6c1cbd8be91",
   "metadata": {},
   "outputs": [],
   "source": [
    "a1 = np.array([-0.475,-0.362,-0.463,-0.376,-0.421])\n",
    "a2 = np.array([-0.560,-0.451,-0.548,-0.468,-0.507])\n",
    "a3 = np.array([-0.421,-0.294,-0.407,-0.304,-0.348])\n",
    "a4 = np.array([-0.499,-0.371,-0.485,-0.388,-0.426])"
   ]
  },
  {
   "cell_type": "code",
   "execution_count": 6,
   "id": "b3245b43-c32f-4617-98d2-b44f5f4186ca",
   "metadata": {},
   "outputs": [
    {
     "data": {
      "text/plain": [
       "(0.04510698393818855,\n",
       " 0.04277101822496164,\n",
       " 0.051828177664278344,\n",
       " 0.05094074989632563)"
      ]
     },
     "execution_count": 6,
     "metadata": {},
     "output_type": "execute_result"
    }
   ],
   "source": [
    "np.sqrt(np.var(a1)),np.sqrt(np.var(a2)),np.sqrt(np.var(a3)),np.sqrt(np.var(a4))"
   ]
  },
  {
   "cell_type": "code",
   "execution_count": null,
   "id": "3f032277-0986-4d2e-8bf2-49ef5e547626",
   "metadata": {},
   "outputs": [],
   "source": []
  },
  {
   "cell_type": "code",
   "execution_count": 7,
   "id": "39fd1a27-f1b6-404a-8986-5af3f2e8c543",
   "metadata": {},
   "outputs": [],
   "source": [
    "b1 = np.array([0.296,0.545,0.333,0.515,0.436])\n",
    "b2 = np.array([0.305,0.550,0.339,0.527,0.445])\n",
    "b3 = np.array([0.286,0.542,0.326,0.507,0.428])\n",
    "b4 = np.array([0.298,0.547,0.333,0.519,0.437])"
   ]
  },
  {
   "cell_type": "code",
   "execution_count": 8,
   "id": "dc13f4a8-6578-41fd-bcfa-be497ca0838d",
   "metadata": {},
   "outputs": [
    {
     "data": {
      "text/plain": [
       "(0.09769953940526026,\n",
       " 0.09786603087895207,\n",
       " 0.09928222398798288,\n",
       " 0.09842845117139659)"
      ]
     },
     "execution_count": 8,
     "metadata": {},
     "output_type": "execute_result"
    }
   ],
   "source": [
    "np.sqrt(np.var(b1)),np.sqrt(np.var(b2)),np.sqrt(np.var(b3)),np.sqrt(np.var(b4))"
   ]
  },
  {
   "cell_type": "code",
   "execution_count": null,
   "id": "b82a2e78-8660-4014-b45c-38e206138339",
   "metadata": {},
   "outputs": [],
   "source": []
  },
  {
   "cell_type": "code",
   "execution_count": 53,
   "id": "96ea205a-0c5d-474a-af4f-03692e05766d",
   "metadata": {},
   "outputs": [
    {
     "data": {
      "image/png": "[encoded data removed]",
      "text/plain": [
       "<Figure size 432x288 with 1 Axes>"
      ]
     },
     "metadata": {
      "needs_background": "light"
     },
     "output_type": "display_data"
    }
   ],
   "source": [
    "import matplotlib.pyplot as plt\n",
    "import numpy as np\n",
    "\n",
    "\n",
    "labels = ['Proposed operator', 'DHPFEWBM', 'DHFFWBM', 'DHPFWBM']\n",
    "score1 = [1-0.475,1-0.560,1-0.421,1-0.499]\n",
    "score2 = [1-0.362,1-0.451,1-0.294,1-0.371]\n",
    "score3 = [1-0.463,1-0.548,1-0.407,1-0.485]\n",
    "score4 = [1-0.376,1-0.468,1-0.304,1-0.388]\n",
    "score5 = [1-0.421,1-0.507,1-0.348,1-0.426]\n",
    "\n",
    "\n",
    "x = np.arange(len(labels))  # the label locations\n",
    "width = 0.3  # the width of the bars\n",
    "\n",
    "fig, ax = plt.subplots()\n",
    "rects1 = ax.bar(x + width/2, score1, width/2, label='Score(A1)')\n",
    "rects2 = ax.bar(x + 2*width/2, score2, width/2, label='Score(A2)')\n",
    "rects3 = ax.bar(x + 3*width/2, score3, width/2, label='Score(A3)')\n",
    "rects4 = ax.bar(x + 4*width/2, score4, width/2, label='Score(A4)')\n",
    "rects5 = ax.bar(x + 5*width/2, score5, width/2, label='Score(A5)')\n",
    "\n",
    "# Add some text for labels, title and custom x-axis tick labels, etc.\n",
    "ax.set_ylabel('Scores')\n",
    "ax.set_title('Scores by group and gender')\n",
    "ax.set_xticks(x, labels)\n",
    "ax.legend()\n",
    "\n",
    "ax.bar_label(rects1, padding=3)\n",
    "ax.bar_label(rects2, padding=3)\n",
    "ax.bar_label(rects3, padding=3)\n",
    "ax.bar_label(rects4, padding=3)\n",
    "ax.bar_label(rects5, padding=3)\n",
    "\n",
    "fig.tight_layout()\n",
    "\n",
    "plt.show()"
   ]
  },
  {
   "cell_type": "code",
   "execution_count": null,
   "id": "77e4ed78-d326-4c23-b20a-933a3e56663c",
   "metadata": {},
   "outputs": [],
   "source": []
  },
  {
   "cell_type": "code",
   "execution_count": null,
   "id": "23f9a5da-cbc0-4755-bb60-022e9c9e38a1",
   "metadata": {},
   "outputs": [],
   "source": []
  },
  {
   "cell_type": "code",
   "execution_count": null,
   "id": "fbede898-6ac0-4c0b-a832-8490bf920cf7",
   "metadata": {},
   "outputs": [],
   "source": []
  },
  {
   "cell_type": "code",
   "execution_count": null,
   "id": "6b32c159-1a40-4878-8eef-3e30596a1eca",
   "metadata": {},
   "outputs": [],
   "source": []
  },
  {
   "cell_type": "code",
   "execution_count": null,
   "id": "72aa5f6e-700d-4e13-986c-346078880166",
   "metadata": {},
   "outputs": [],
   "source": []
  },
  {
   "cell_type": "code",
   "execution_count": null,
   "id": "1a9839fd-7f14-4ea9-884a-124c8376967a",
   "metadata": {},
   "outputs": [],
   "source": []
  }
 ],
 "metadata": {
  "kernelspec": {
   "display_name": "Python 3 (ipykernel)",
   "language": "python",
   "name": "python3"
  },
  "language_info": {
   "codemirror_mode": {
    "name": "ipython",
    "version": 3
   },
   "file_extension": ".py",
   "mimetype": "text/x-python",
   "name": "python",
   "nbconvert_exporter": "python",
   "pygments_lexer": "ipython3",
   "version": "3.8.12"
  }
 },
 "nbformat": 4,
 "nbformat_minor": 5
}
