{
 "cells": [
  {
   "cell_type": "code",
   "execution_count": 1,
   "id": "be9759f9",
   "metadata": {},
   "outputs": [],
   "source": [
    "from math import pow\n",
    "from Archimedean import *\n",
    "from DHFEs import *\n",
    "from tqdm import tqdm"
   ]
  },
  {
   "cell_type": "code",
   "execution_count": 2,
   "id": "543f3b66",
   "metadata": {},
   "outputs": [],
   "source": [
    "def score(DHFFIBM):\n",
    "    sum = 0\n",
    "    for i in DHFFIBM.MD:\n",
    "        sum = sum+i\n",
    "    average_MD=sum/len(DHFFIBM.MD)\n",
    "    sum = 0\n",
    "    for i in DHFFIBM.NMD:\n",
    "        sum = sum+i\n",
    "    average_NMD=sum/len(DHFFIBM.NMD)\n",
    "    score = average_MD-average_NMD\n",
    "    return score"
   ]
  },
  {
   "cell_type": "code",
   "execution_count": 3,
   "id": "0d0030ff",
   "metadata": {},
   "outputs": [],
   "source": [
    "## 保留小数点后 3 位\n",
    "def Re3decimal(d):\n",
    "    x = DHFFE([],[])\n",
    "    for i in d.MD:\n",
    "        x.MD.append(format(i,'.3f'))\n",
    "    for i in d.NMD:\n",
    "        x.NMD.append(format(i,'.3f'))\n",
    "    return x"
   ]
  },
  {
   "cell_type": "code",
   "execution_count": 4,
   "id": "c68ed88d",
   "metadata": {},
   "outputs": [],
   "source": [
    "## 对偶犹豫费马模糊爱因斯坦加权 Bonferroni Mean 算子(DHFFWBM)\n",
    "\n",
    "def DHFFEWBM(alter,weight,p,q):\n",
    "    ## Dual Hesitant Fermatean Fuzzy Einstein Bonferroni Mean Operator\n",
    "    ## alter means the alternatives\n",
    "    ## weight means the weighted vector of the attribute\n",
    "    \n",
    "    def BonferroniElement(d1,d2,p,q):\n",
    "        ## DHFF Bonferroni Elements\n",
    "        s1 = DHFFE_Einstein_Multiply(d1.Einstein_Power(p),d2.Einstein_Power(q))\n",
    "        s2 = DHFFE_Einstein_Multiply(d1.Einstein_Power(q),d2.Einstein_Power(p))\n",
    "        return DHFFE_Einstein_Plus(s1,s2)\n",
    "    \n",
    "    dlist = []\n",
    "    if weight == 0:\n",
    "        ## 权重为 0，说明没有权重，直接将 alter 即 DHFFE 数组赋值给 dl\n",
    "        dl = alter\n",
    "        for i,d1 in enumerate(dl):\n",
    "            for j,d2 in enumerate(dl[:i]):\n",
    "                dlist.append(BonferroniElement(d1,d2,p,q))\n",
    "    else:\n",
    "        ## 将权重向量乘以备选方案列表\n",
    "        dl = []\n",
    "        try:\n",
    "            ## 判断权重向量与数列向量基数是否相同\n",
    "            assert len(alter) == len(weight)\n",
    "        except e:\n",
    "            print(\"The number of alter is not equal to the number of weight!\",e)\n",
    "        for i in range(len(alter)):\n",
    "            dl.append(alter[i].Einstein_Times(weight[i]))\n",
    "        for i,d1 in enumerate(dl):\n",
    "            for j,d2 in enumerate(dl[:i]):\n",
    "                dlist.append(BonferroniElement(d1,d2,p,q))\n",
    "    aggDHFFE = DHFFE([0],[1])\n",
    "    for agg in dlist:\n",
    "        aggDHFFE = DHFFE_Einstein_Plus(agg,aggDHFFE)\n",
    "    aggDHFFE = (aggDHFFE.Einstein_Times(1/(len(alter)*(len(alter)-1)))).Einstein_Power(1/(p+q))    \n",
    "    return aggDHFFE"
   ]
  },
  {
   "cell_type": "code",
   "execution_count": 5,
   "id": "5c594321-bf68-4a36-9c58-bf7a639461ec",
   "metadata": {},
   "outputs": [],
   "source": [
    "## 对偶犹豫费马模糊加权 Bonferroni Mean (DHFFWBM)\n",
    "\n",
    "def DHFFWBM(alter,weight,p,q):\n",
    "    ## Dual Hesitant Fermatean Fuzzy Bonferroni Mean Operator\n",
    "    ## alter means the alternatives\n",
    "    ## weight means the weighted vector of the attribute\n",
    "    \n",
    "    def BonferroniElement(d1,d2,p,q):\n",
    "        ## DHFF Bonferroni Elements\n",
    "        s1 = DHFFE_Algebraic_Multiply(d1.Algebraic_Power(p),d2.Algebraic_Power(q))\n",
    "        s2 = DHFFE_Algebraic_Multiply(d1.Algebraic_Power(q),d2.Algebraic_Power(p))\n",
    "        return DHFFE_Algebraic_Plus(s1,s2)\n",
    "    \n",
    "    dlist = []\n",
    "    if weight == 0:\n",
    "        ## 权重为 0，说明没有权重，直接将 alter 即 DHFFE 数组赋值给 dl\n",
    "        dl = alter\n",
    "        for i,d1 in enumerate(dl):\n",
    "            for j,d2 in enumerate(dl[:i]):\n",
    "                dlist.append(BonferroniElement(d1,d2,p,q))\n",
    "    else:\n",
    "        ## 将权重向量乘以备选方案列表\n",
    "        dl = []\n",
    "        try:\n",
    "            ## 判断权重向量与数列向量基数是否相同\n",
    "            assert len(alter) == len(weight)\n",
    "        except e:\n",
    "            print(\"The number of alter is not equal to the number of weight!\",e)\n",
    "        for i in range(len(alter)):\n",
    "            dl.append(alter[i].Algebraic_Times(weight[i]))\n",
    "        for i,d1 in enumerate(dl):\n",
    "            for j,d2 in enumerate(dl[:i]):\n",
    "                dlist.append(BonferroniElement(d1,d2,p,q))\n",
    "    aggDHFFE = DHFFE([0],[1])\n",
    "    for agg in dlist:\n",
    "        aggDHFFE = DHFFE_Algebraic_Plus(agg,aggDHFFE)\n",
    "    aggDHFFE = (aggDHFFE.Algebraic_Times(1/(len(alter)*(len(alter)-1)))).Algebraic_Power(1/(p+q))    \n",
    "    return aggDHFFE"
   ]
  },
  {
   "cell_type": "code",
   "execution_count": 6,
   "id": "59844f6e",
   "metadata": {},
   "outputs": [],
   "source": [
    "## 对偶犹豫费马模糊爱因斯坦加权平均 (DHFFEWA)\n",
    "\n",
    "def DHFFEWA(alter,weight):\n",
    "    dlist = []\n",
    "    try:\n",
    "        assert len(alter) == len(weight)\n",
    "    except e:\n",
    "        print(\"The number of alter is not equal to the number of weight!\",e)\n",
    "    for i in range(len(alter)):\n",
    "        dlist.append(alter[i].Einstein_Times(weight[i]))\n",
    "    aggDHFFE = DHFFE([0],[1])\n",
    "    for agg in dlist:\n",
    "        aggDHFFE = DHFFE_Einstein_Plus(agg,aggDHFFE)\n",
    "    return aggDHFFE       "
   ]
  },
  {
   "cell_type": "code",
   "execution_count": 7,
   "id": "f0857062-203f-4f6d-ab6b-16248cbdadc8",
   "metadata": {},
   "outputs": [],
   "source": [
    "## 对偶犹豫费马模糊爱因斯坦加权几何 (DHFFEWG)\n",
    "\n",
    "def DHFFEWG(alter,weight):\n",
    "    dlist = []\n",
    "    try:\n",
    "        assert len(alter) == len(weight)\n",
    "    except e:\n",
    "        print(\"The number of alter is not equal to the number of weight!\",e)\n",
    "    for i in range(len(alter)):\n",
    "        dlist.append(alter[i].Einstein_Power(weight[i]))\n",
    "    aggDHFFE = DHFFE([1],[0])\n",
    "    for agg in dlist:\n",
    "        aggDHFFE = DHFFE_Einstein_Multiply(agg,aggDHFFE)\n",
    "    return aggDHFFE       "
   ]
  },
  {
   "cell_type": "code",
   "execution_count": 8,
   "id": "0a6a66e8",
   "metadata": {},
   "outputs": [],
   "source": [
    "## 对偶犹豫费马模糊加权平均(DHFFWA)\n",
    "\n",
    "def DHFFWA(alter,weight):\n",
    "    dlist = []\n",
    "    try:\n",
    "        assert len(alter) == len(weight)\n",
    "    except e:\n",
    "        print(\"The number of alter is not equal to the number of weight!\",e)\n",
    "    for i in range(len(alter)):\n",
    "        dlist.append(alter[i].Algebraic_Times(weight[i]))\n",
    "    aggDHFFE = DHFFE([0],[1])\n",
    "    for agg in dlist:\n",
    "        aggDHFFE = DHFFE_Algebraic_Plus(agg,aggDHFFE)\n",
    "    return aggDHFFE   "
   ]
  },
  {
   "cell_type": "code",
   "execution_count": 9,
   "id": "b10ee80f-5bd6-4235-9589-61aa975f8619",
   "metadata": {},
   "outputs": [],
   "source": [
    "## 对偶犹豫费马模糊加权几何 (DHFFWG)\n",
    "\n",
    "def DHFFWG(alter,weight):\n",
    "    dlist = []\n",
    "    try:\n",
    "        assert len(alter) == len(weight)\n",
    "    except e:\n",
    "        print(\"The number of alter is not equal to the number of weight!\",e)\n",
    "    for i in range(len(alter)):\n",
    "        dlist.append(alter[i].Algebraic_Power(weight[i]))\n",
    "    aggDHFFE = DHFFE([1],[0])\n",
    "    for agg in dlist:\n",
    "        aggDHFFE = DHFFE_Algebraic_Multiply(agg,aggDHFFE)\n",
    "    return aggDHFFE   "
   ]
  },
  {
   "cell_type": "code",
   "execution_count": 10,
   "id": "388276f4-b364-40a6-addd-f5b660fc5b09",
   "metadata": {},
   "outputs": [],
   "source": [
    "## 对偶犹豫毕达哥拉斯模糊爱因斯坦加权 Bonferroni Mean 算子(DHPFEWBM)\n",
    "\n",
    "def DHPFEWBM(alter,weight,p,q):\n",
    "    ## Dual Hesitant Pythagorean Fuzzy Einstein Bonferroni Mean Operator\n",
    "    ## alter means the alternatives\n",
    "    ## weight means the weighted vector of the attribute\n",
    "    \n",
    "    def BonferroniElement(d1,d2,p,q):\n",
    "        ## DHFF Bonferroni Elements\n",
    "        s1 = DHPFE_Einstein_Multiply(d1.Einstein_Power(p),d2.Einstein_Power(q))\n",
    "        s2 = DHPFE_Einstein_Multiply(d1.Einstein_Power(q),d2.Einstein_Power(p))\n",
    "        return DHPFE_Einstein_Plus(s1,s2)\n",
    "    \n",
    "    dlist = []\n",
    "    if weight == 0:\n",
    "        ## 权重为 0，说明没有权重，直接将 alter 即 DHFFE 数组赋值给 dl\n",
    "        dl = alter\n",
    "        for i,d1 in enumerate(dl):\n",
    "            for j,d2 in enumerate(dl[:i]):\n",
    "                dlist.append(BonferroniElement(d1,d2,p,q))\n",
    "    else:\n",
    "        ## 将权重向量乘以备选方案列表\n",
    "        dl = []\n",
    "        try:\n",
    "            ## 判断权重向量与数列向量基数是否相同\n",
    "            assert len(alter) == len(weight)\n",
    "        except e:\n",
    "            print(\"The number of alter is not equal to the number of weight!\",e)\n",
    "        for i in range(len(alter)):\n",
    "            dl.append(alter[i].Einstein_Times(weight[i]))\n",
    "        for i,d1 in enumerate(dl):\n",
    "            for j,d2 in enumerate(dl[:i]):\n",
    "                dlist.append(BonferroniElement(d1,d2,p,q))\n",
    "    aggDHPFE = DHPFE([0],[1])\n",
    "    for agg in dlist:\n",
    "        aggDHPFE = DHPFE_Einstein_Plus(agg,aggDHPFE)\n",
    "    aggDHPFE = (aggDHPFE.Einstein_Times(1/(len(alter)*(len(alter)-1)))).Einstein_Power(1/(p+q))    \n",
    "    return aggDHPFE"
   ]
  },
  {
   "cell_type": "code",
   "execution_count": 11,
   "id": "cd2bb97e-f3ac-4a50-bdeb-b9f8709d5cc9",
   "metadata": {},
   "outputs": [],
   "source": [
    "## 对偶犹豫毕达哥拉斯模糊加权 Bonferroni Mean 算子(DHFFWBM)\n",
    "\n",
    "def DHPFWBM(alter,weight,p,q):\n",
    "    ## Dual Hesitant Pythagorean Fuzzy Einstein Bonferroni Mean Operator\n",
    "    ## alter means the alternatives\n",
    "    ## weight means the weighted vector of the attribute\n",
    "    \n",
    "    def BonferroniElement(d1,d2,p,q):\n",
    "        ## DHFF Bonferroni Elements\n",
    "        s1 = DHPFE_Algebraic_Multiply(d1.Algebraic_Power(p),d2.Algebraic_Power(q))\n",
    "        s2 = DHPFE_Algebraic_Multiply(d1.Algebraic_Power(q),d2.Algebraic_Power(p))\n",
    "        return DHPFE_Algebraic_Plus(s1,s2)\n",
    "    \n",
    "    dlist = []\n",
    "    if weight == 0:\n",
    "        ## 权重为 0，说明没有权重，直接将 alter 即 DHFFE 数组赋值给 dl\n",
    "        dl = alter\n",
    "        for i,d1 in enumerate(dl):\n",
    "            for j,d2 in enumerate(dl[:i]):\n",
    "                dlist.append(BonferroniElement(d1,d2,p,q))\n",
    "    else:\n",
    "        ## 将权重向量乘以备选方案列表\n",
    "        dl = []\n",
    "        try:\n",
    "            ## 判断权重向量与数列向量基数是否相同\n",
    "            assert len(alter) == len(weight)\n",
    "        except e:\n",
    "            print(\"The number of alter is not equal to the number of weight!\",e)\n",
    "        for i in range(len(alter)):\n",
    "            dl.append(alter[i].Algebraic_Times(weight[i]))\n",
    "        for i,d1 in enumerate(dl):\n",
    "            for j,d2 in enumerate(dl[:i]):\n",
    "                dlist.append(BonferroniElement(d1,d2,p,q))\n",
    "    aggDHPFE = DHPFE([0],[1])\n",
    "    for agg in dlist:\n",
    "        aggDHPFE = DHPFE_Algebraic_Plus(agg,aggDHPFE)\n",
    "    aggDHPFE = (aggDHPFE.Algebraic_Times(1/(len(alter)*(len(alter)-1)))).Algebraic_Power(1/(p+q))    \n",
    "    return aggDHPFE"
   ]
  },
  {
   "cell_type": "code",
   "execution_count": 12,
   "id": "12343c24-a0d5-45cf-9ef4-24105983d0a0",
   "metadata": {},
   "outputs": [],
   "source": [
    "## 对偶犹豫毕达哥拉斯模糊爱因斯坦加权平均 (DHPFEWA)\n",
    "\n",
    "def DHPFEWA(alter,weight):\n",
    "    dlist = []\n",
    "    try:\n",
    "        assert len(alter) == len(weight)\n",
    "    except e:\n",
    "        print(\"The number of alter is not equal to the number of weight!\",e)\n",
    "    for i in range(len(alter)):\n",
    "        dlist.append(alter[i].Einstein_Times(weight[i]))\n",
    "    aggDHPFE = DHPFE([0],[1])\n",
    "    for agg in dlist:\n",
    "        aggDHPFE = DHPFE_Einstein_Plus(agg,aggDHPFE)\n",
    "    return aggDHPFE       "
   ]
  },
  {
   "cell_type": "code",
   "execution_count": 13,
   "id": "2d00dd9b-153c-4d20-be69-667ab3301686",
   "metadata": {},
   "outputs": [],
   "source": [
    "## 对偶犹豫毕达哥拉斯模糊加权平均 (DHPFWA)\n",
    "\n",
    "def DHPFWA(alter,weight):\n",
    "    dlist = []\n",
    "    try:\n",
    "        assert len(alter) == len(weight)\n",
    "    except e:\n",
    "        print(\"The number of alter is not equal to the number of weight!\",e)\n",
    "    for i in range(len(alter)):\n",
    "        dlist.append(alter[i].Algebraic_Times(weight[i]))\n",
    "    aggDHPFE = DHPFE([0],[1])\n",
    "    for agg in dlist:\n",
    "        aggDHPFE = DHPFE_Algebraic_Plus(agg,aggDHPFE)\n",
    "    return aggDHPFE       "
   ]
  },
  {
   "cell_type": "code",
   "execution_count": null,
   "id": "a2fc6b80",
   "metadata": {},
   "outputs": [],
   "source": []
  },
  {
   "cell_type": "code",
   "execution_count": 14,
   "id": "2ae3d899",
   "metadata": {},
   "outputs": [],
   "source": [
    "## 对偶犹豫费马模糊爱因斯坦加权 Bonferroni Mean (DHFFEWBM)"
   ]
  },
  {
   "cell_type": "code",
   "execution_count": 48,
   "id": "aceaa11c",
   "metadata": {},
   "outputs": [],
   "source": [
    "a11 = DHFFE([0.5],[0.4,0.5])\n",
    "a12 = DHFFE([0.5,0.6],[0.2])\n",
    "a13 = DHFFE([0.7],[0.1,0.4])\n",
    "a14 = DHFFE([0.5,0.8],[0.5])\n",
    "a15 = DHFFE([0.8],[0.6])\n",
    "\n",
    "a21 = DHFFE([0.9,0.8],[0.3])\n",
    "a22 = DHFFE([0.6],[0.3])\n",
    "a23 = DHFFE([0.7,0.8],[0.5])\n",
    "a24 = DHFFE([0.8],[0.1])\n",
    "a25 = DHFFE([0.7,0.8],[0.2,0.3])\n",
    "\n",
    "a31 = DHFFE([0.6,0.7],[0.3])\n",
    "a32 = DHFFE([0.5,0.7],[0.4])\n",
    "a33 = DHFFE([0.4,0.6],[0.2,0.5])\n",
    "a34 = DHFFE([0.8],[0.3,0.4])\n",
    "a35 = DHFFE([0.7],[0.5])\n",
    "\n",
    "a41 = DHFFE([0.5],[0.4])\n",
    "a42 = DHFFE([0.6,0.8],[0.1])\n",
    "a43 = DHFFE([0.8],[0.2,0.4])\n",
    "a44 = DHFFE([0.9],[0.2,0.3])\n",
    "a45 = DHFFE([0.5,0.7],[0.5,0.3])\n",
    "\n",
    "a51 = DHFFE([0.5,0.8],[0.2])\n",
    "a52 = DHFFE([0.8],[0.1,0.2])\n",
    "a53 = DHFFE([0.7,0.8],[0.5])\n",
    "a54 = DHFFE([0.5],[0.2])\n",
    "a55 = DHFFE([0.6],[0.2,0.3])"
   ]
  },
  {
   "cell_type": "code",
   "execution_count": 49,
   "id": "cbe7ff5d",
   "metadata": {},
   "outputs": [],
   "source": [
    "alter1 = [a11,a12,a13,a14,a15]\n",
    "alter2 = [a21,a22,a23,a24,a25]\n",
    "alter3 = [a31,a32,a33,a34,a35]\n",
    "alter4 = [a41,a42,a43,a44,a45]\n",
    "alter5 = [a51,a52,a53,a54,a55]\n",
    "weight = [0.2,0.15,0.2,0.3,0.15]"
   ]
  },
  {
   "cell_type": "code",
   "execution_count": 50,
   "id": "5243e8e8-b8b1-406b-ae03-c23900304418",
   "metadata": {},
   "outputs": [],
   "source": [
    "p,q=1,1"
   ]
  },
  {
   "cell_type": "code",
   "execution_count": 51,
   "id": "9f1fc773-b45d-4f74-b08b-5d8f3c8c744f",
   "metadata": {},
   "outputs": [],
   "source": [
    "## The effect of p,q on DHFFEWBM "
   ]
  },
  {
   "cell_type": "code",
   "execution_count": 54,
   "id": "eff0a1e7-1966-46b5-a2fe-e173c692b6e7",
   "metadata": {},
   "outputs": [],
   "source": [
    "p,q = 0,1"
   ]
  },
  {
   "cell_type": "code",
   "execution_count": 55,
   "id": "8bd66889-0189-4898-b4cc-76c1f479c43c",
   "metadata": {},
   "outputs": [
    {
     "name": "stdout",
     "output_type": "stream",
     "text": [
      "CPU times: user 2min 9s, sys: 4.66 s, total: 2min 13s\n",
      "Wall time: 2min 14s\n"
     ]
    }
   ],
   "source": [
    "%%time\n",
    "D1 = DHFFEWBM(alter1,weight,p,q)\n",
    "D2 = DHFFEWBM(alter2,weight,p,q)\n",
    "D3 = DHFFEWBM(alter3,weight,p,q)\n",
    "D4 = DHFFEWBM(alter4,weight,p,q)\n",
    "D5 = DHFFEWBM(alter5,weight,p,q)"
   ]
  },
  {
   "cell_type": "code",
   "execution_count": 56,
   "id": "3c9ebdc7-4d34-45dd-a339-dcb87a56d1ab",
   "metadata": {},
   "outputs": [
    {
     "name": "stdout",
     "output_type": "stream",
     "text": [
      "CPU times: user 1.92 s, sys: 1.21 s, total: 3.13 s\n",
      "Wall time: 3.18 s\n"
     ]
    },
    {
     "data": {
      "text/plain": [
       "(-0.4701036681209539,\n",
       " -0.34332268444481867,\n",
       " -0.4522782352102711,\n",
       " -0.3576642832388182,\n",
       " -0.4142380862656123)"
      ]
     },
     "execution_count": 56,
     "metadata": {},
     "output_type": "execute_result"
    }
   ],
   "source": [
    "%%time\n",
    "score(D1),score(D2),score(D3),score(D4),score(D5)"
   ]
  },
  {
   "cell_type": "code",
   "execution_count": 57,
   "id": "96c383a6-11dc-4d2f-8bde-c62ba6a73fc3",
   "metadata": {},
   "outputs": [],
   "source": [
    "p,q = 1,1"
   ]
  },
  {
   "cell_type": "code",
   "execution_count": 58,
   "id": "9c3981dd-2601-4fbd-bd13-f902d89ef24a",
   "metadata": {},
   "outputs": [
    {
     "name": "stdout",
     "output_type": "stream",
     "text": [
      "CPU times: user 2min 11s, sys: 5.38 s, total: 2min 17s\n",
      "Wall time: 2min 18s\n"
     ]
    }
   ],
   "source": [
    "%%time\n",
    "D1 = DHFFEWBM(alter1,weight,p,q)\n",
    "D2 = DHFFEWBM(alter2,weight,p,q)\n",
    "D3 = DHFFEWBM(alter3,weight,p,q)\n",
    "D4 = DHFFEWBM(alter4,weight,p,q)\n",
    "D5 = DHFFEWBM(alter5,weight,p,q)"
   ]
  },
  {
   "cell_type": "code",
   "execution_count": 59,
   "id": "de33ebcc-ede4-4d34-bf3f-feddbad41599",
   "metadata": {},
   "outputs": [
    {
     "name": "stdout",
     "output_type": "stream",
     "text": [
      "CPU times: user 1.78 s, sys: 287 ms, total: 2.07 s\n",
      "Wall time: 2.07 s\n"
     ]
    },
    {
     "data": {
      "text/plain": [
       "(-0.47532883027909034,\n",
       " -0.36214391240237054,\n",
       " -0.4628803837747997,\n",
       " -0.3755049856061955,\n",
       " -0.42081020700156296)"
      ]
     },
     "execution_count": 59,
     "metadata": {},
     "output_type": "execute_result"
    }
   ],
   "source": [
    "%%time\n",
    "score(D1),score(D2),score(D3),score(D4),score(D5)"
   ]
  },
  {
   "cell_type": "code",
   "execution_count": 60,
   "id": "bb25ec61-3d24-475f-93de-b6e56f7f0227",
   "metadata": {},
   "outputs": [],
   "source": [
    "p,q = 2,1"
   ]
  },
  {
   "cell_type": "code",
   "execution_count": 61,
   "id": "413f7ec8-94d9-493f-94ab-20c839d98548",
   "metadata": {},
   "outputs": [
    {
     "name": "stdout",
     "output_type": "stream",
     "text": [
      "CPU times: user 2min 9s, sys: 4.08 s, total: 2min 13s\n",
      "Wall time: 2min 14s\n"
     ]
    }
   ],
   "source": [
    "%%time\n",
    "D1 = DHFFEWBM(alter1,weight,p,q)\n",
    "D2 = DHFFEWBM(alter2,weight,p,q)\n",
    "D3 = DHFFEWBM(alter3,weight,p,q)\n",
    "D4 = DHFFEWBM(alter4,weight,p,q)\n",
    "D5 = DHFFEWBM(alter5,weight,p,q)"
   ]
  },
  {
   "cell_type": "code",
   "execution_count": 62,
   "id": "c5e20daf-229a-495b-b1f8-66bf6d6942f2",
   "metadata": {},
   "outputs": [
    {
     "name": "stdout",
     "output_type": "stream",
     "text": [
      "CPU times: user 1.8 s, sys: 367 ms, total: 2.16 s\n",
      "Wall time: 2.16 s\n"
     ]
    },
    {
     "data": {
      "text/plain": [
       "(-0.450212808104478,\n",
       " -0.33296666097686745,\n",
       " -0.4373327100092828,\n",
       " -0.33802916742832034,\n",
       " -0.40195772837705795)"
      ]
     },
     "execution_count": 62,
     "metadata": {},
     "output_type": "execute_result"
    }
   ],
   "source": [
    "%%time\n",
    "score(D1),score(D2),score(D3),score(D4),score(D5)"
   ]
  },
  {
   "cell_type": "code",
   "execution_count": 63,
   "id": "006d41b1-2ab6-421e-9e96-759448883d94",
   "metadata": {},
   "outputs": [],
   "source": [
    "p,q = 2,2"
   ]
  },
  {
   "cell_type": "code",
   "execution_count": 64,
   "id": "2d5c29aa-84cb-40d4-8bd4-4e8ae4c3a6e1",
   "metadata": {},
   "outputs": [
    {
     "name": "stdout",
     "output_type": "stream",
     "text": [
      "CPU times: user 2min 8s, sys: 4.21 s, total: 2min 12s\n",
      "Wall time: 2min 13s\n"
     ]
    }
   ],
   "source": [
    "%%time\n",
    "D1 = DHFFEWBM(alter1,weight,p,q)\n",
    "D2 = DHFFEWBM(alter2,weight,p,q)\n",
    "D3 = DHFFEWBM(alter3,weight,p,q)\n",
    "D4 = DHFFEWBM(alter4,weight,p,q)\n",
    "D5 = DHFFEWBM(alter5,weight,p,q)"
   ]
  },
  {
   "cell_type": "code",
   "execution_count": 65,
   "id": "f384753d-c00a-4ebc-adcd-acab8117f46f",
   "metadata": {},
   "outputs": [
    {
     "name": "stdout",
     "output_type": "stream",
     "text": [
      "CPU times: user 1.97 s, sys: 1.35 s, total: 3.32 s\n",
      "Wall time: 3.34 s\n"
     ]
    },
    {
     "data": {
      "text/plain": [
       "(-0.44121415489541976,\n",
       " -0.32790824918266975,\n",
       " -0.4340151668416069,\n",
       " -0.3314016440152757,\n",
       " -0.39492942988568525)"
      ]
     },
     "execution_count": 65,
     "metadata": {},
     "output_type": "execute_result"
    }
   ],
   "source": [
    "%%time\n",
    "score(D1),score(D2),score(D3),score(D4),score(D5)"
   ]
  },
  {
   "cell_type": "code",
   "execution_count": 66,
   "id": "67eb9263-66b9-443b-b266-5a20fc051d2d",
   "metadata": {},
   "outputs": [],
   "source": [
    "p,q = 3,1"
   ]
  },
  {
   "cell_type": "code",
   "execution_count": 67,
   "id": "653e6cca-f272-46c8-bdff-810977f2bc9c",
   "metadata": {},
   "outputs": [
    {
     "name": "stdout",
     "output_type": "stream",
     "text": [
      "CPU times: user 2min 8s, sys: 4.51 s, total: 2min 13s\n",
      "Wall time: 2min 13s\n"
     ]
    }
   ],
   "source": [
    "%%time\n",
    "D1 = DHFFEWBM(alter1,weight,p,q)\n",
    "D2 = DHFFEWBM(alter2,weight,p,q)\n",
    "D3 = DHFFEWBM(alter3,weight,p,q)\n",
    "D4 = DHFFEWBM(alter4,weight,p,q)\n",
    "D5 = DHFFEWBM(alter5,weight,p,q)"
   ]
  },
  {
   "cell_type": "code",
   "execution_count": 68,
   "id": "ce9b7ecb-5575-4518-8a0b-3883e5273949",
   "metadata": {},
   "outputs": [
    {
     "name": "stdout",
     "output_type": "stream",
     "text": [
      "CPU times: user 1.84 s, sys: 106 ms, total: 1.95 s\n",
      "Wall time: 1.95 s\n"
     ]
    },
    {
     "data": {
      "text/plain": [
       "(-0.4215602528040151,\n",
       " -0.2954346585152129,\n",
       " -0.40747814298829305,\n",
       " -0.2985576178676972,\n",
       " -0.3805170929712096)"
      ]
     },
     "execution_count": 68,
     "metadata": {},
     "output_type": "execute_result"
    }
   ],
   "source": [
    "%%time\n",
    "score(D1),score(D2),score(D3),score(D4),score(D5)"
   ]
  },
  {
   "cell_type": "code",
   "execution_count": 69,
   "id": "d136d5b6-835d-48b5-91dd-8b27943be995",
   "metadata": {},
   "outputs": [],
   "source": [
    "p,q = 3,2"
   ]
  },
  {
   "cell_type": "code",
   "execution_count": 70,
   "id": "c56c56ba-2512-4b44-b35e-208746964159",
   "metadata": {},
   "outputs": [
    {
     "name": "stdout",
     "output_type": "stream",
     "text": [
      "CPU times: user 2min 7s, sys: 3.53 s, total: 2min 10s\n",
      "Wall time: 2min 11s\n"
     ]
    }
   ],
   "source": [
    "%%time\n",
    "D1 = DHFFEWBM(alter1,weight,p,q)\n",
    "D2 = DHFFEWBM(alter2,weight,p,q)\n",
    "D3 = DHFFEWBM(alter3,weight,p,q)\n",
    "D4 = DHFFEWBM(alter4,weight,p,q)\n",
    "D5 = DHFFEWBM(alter5,weight,p,q)"
   ]
  },
  {
   "cell_type": "code",
   "execution_count": 71,
   "id": "64c2293d-bcb8-41bf-8db3-b601e2dceb7d",
   "metadata": {},
   "outputs": [
    {
     "name": "stdout",
     "output_type": "stream",
     "text": [
      "CPU times: user 1.72 s, sys: 70.6 ms, total: 1.79 s\n",
      "Wall time: 1.79 s\n"
     ]
    },
    {
     "data": {
      "text/plain": [
       "(-0.4236056711635696,\n",
       " -0.30749811068715244,\n",
       " -0.4176384945258966,\n",
       " -0.3092194920959752,\n",
       " -0.38132596477912556)"
      ]
     },
     "execution_count": 71,
     "metadata": {},
     "output_type": "execute_result"
    }
   ],
   "source": [
    "%%time\n",
    "score(D1),score(D2),score(D3),score(D4),score(D5)"
   ]
  },
  {
   "cell_type": "code",
   "execution_count": 72,
   "id": "7bc3f58b-6fcc-4bd0-96bf-6db4e72b9e98",
   "metadata": {},
   "outputs": [],
   "source": [
    "p,q = 3,3"
   ]
  },
  {
   "cell_type": "code",
   "execution_count": 73,
   "id": "a58c74b3-b85e-4e9a-8fdb-ecda94aa0c84",
   "metadata": {},
   "outputs": [
    {
     "name": "stdout",
     "output_type": "stream",
     "text": [
      "CPU times: user 2min 7s, sys: 3.72 s, total: 2min 11s\n",
      "Wall time: 2min 11s\n"
     ]
    }
   ],
   "source": [
    "%%time\n",
    "D1 = DHFFEWBM(alter1,weight,p,q)\n",
    "D2 = DHFFEWBM(alter2,weight,p,q)\n",
    "D3 = DHFFEWBM(alter3,weight,p,q)\n",
    "D4 = DHFFEWBM(alter4,weight,p,q)\n",
    "D5 = DHFFEWBM(alter5,weight,p,q)"
   ]
  },
  {
   "cell_type": "code",
   "execution_count": 74,
   "id": "7f974096-6b8b-4f17-91b6-b30b75b8334a",
   "metadata": {},
   "outputs": [
    {
     "name": "stdout",
     "output_type": "stream",
     "text": [
      "CPU times: user 1.73 s, sys: 111 ms, total: 1.84 s\n",
      "Wall time: 1.84 s\n"
     ]
    },
    {
     "data": {
      "text/plain": [
       "(-0.41524833228302044,\n",
       " -0.3029945412334233,\n",
       " -0.4138355446423247,\n",
       " -0.30229857399251403,\n",
       " -0.374127729001803)"
      ]
     },
     "execution_count": 74,
     "metadata": {},
     "output_type": "execute_result"
    }
   ],
   "source": [
    "%%time\n",
    "score(D1),score(D2),score(D3),score(D4),score(D5)"
   ]
  },
  {
   "cell_type": "code",
   "execution_count": 75,
   "id": "f889b0a8-a7ba-4c0a-a0a3-0d76211ed5b7",
   "metadata": {},
   "outputs": [],
   "source": [
    "p,q = 4,6"
   ]
  },
  {
   "cell_type": "code",
   "execution_count": 76,
   "id": "ba5c9d9a-f15d-4d15-a7f1-bcef80346ed4",
   "metadata": {},
   "outputs": [
    {
     "name": "stdout",
     "output_type": "stream",
     "text": [
      "CPU times: user 2min 10s, sys: 4.79 s, total: 2min 15s\n",
      "Wall time: 2min 16s\n"
     ]
    }
   ],
   "source": [
    "%%time\n",
    "D1 = DHFFEWBM(alter1,weight,p,q)\n",
    "D2 = DHFFEWBM(alter2,weight,p,q)\n",
    "D3 = DHFFEWBM(alter3,weight,p,q)\n",
    "D4 = DHFFEWBM(alter4,weight,p,q)\n",
    "D5 = DHFFEWBM(alter5,weight,p,q)"
   ]
  },
  {
   "cell_type": "code",
   "execution_count": 77,
   "id": "58c22d2d-c949-4070-a399-03e0bcec861e",
   "metadata": {},
   "outputs": [
    {
     "name": "stdout",
     "output_type": "stream",
     "text": [
      "CPU times: user 1.84 s, sys: 581 ms, total: 2.42 s\n",
      "Wall time: 2.43 s\n"
     ]
    },
    {
     "data": {
      "text/plain": [
       "(-0.37699704508503806,\n",
       " -0.2603543603495263,\n",
       " -0.38049602236068586,\n",
       " -0.2592935417628812,\n",
       " -0.3432231247247057)"
      ]
     },
     "execution_count": 77,
     "metadata": {},
     "output_type": "execute_result"
    }
   ],
   "source": [
    "%%time\n",
    "score(D1),score(D2),score(D3),score(D4),score(D5)"
   ]
  },
  {
   "cell_type": "code",
   "execution_count": 84,
   "id": "277ab99b-8e2f-4f80-bad7-a366d5315ca9",
   "metadata": {},
   "outputs": [],
   "source": [
    "p,q = 4,5"
   ]
  },
  {
   "cell_type": "code",
   "execution_count": 85,
   "id": "bffa105b-cac9-4ecf-9609-e45aa5e3d125",
   "metadata": {},
   "outputs": [
    {
     "name": "stdout",
     "output_type": "stream",
     "text": [
      "CPU times: user 2min 9s, sys: 5.26 s, total: 2min 14s\n",
      "Wall time: 2min 16s\n"
     ]
    }
   ],
   "source": [
    "%%time\n",
    "D1 = DHFFEWBM(alter1,weight,p,q)\n",
    "D2 = DHFFEWBM(alter2,weight,p,q)\n",
    "D3 = DHFFEWBM(alter3,weight,p,q)\n",
    "D4 = DHFFEWBM(alter4,weight,p,q)\n",
    "D5 = DHFFEWBM(alter5,weight,p,q)"
   ]
  },
  {
   "cell_type": "code",
   "execution_count": 86,
   "id": "2e748cfb-d684-417b-8c27-d690d46b02da",
   "metadata": {},
   "outputs": [
    {
     "name": "stdout",
     "output_type": "stream",
     "text": [
      "CPU times: user 1.84 s, sys: 626 ms, total: 2.47 s\n",
      "Wall time: 2.48 s\n"
     ]
    },
    {
     "data": {
      "text/plain": [
       "(-0.38731848837339306,\n",
       " -0.2745412417078824,\n",
       " -0.3910168208447802,\n",
       " -0.27199900053173753,\n",
       " -0.35093671468121795)"
      ]
     },
     "execution_count": 86,
     "metadata": {},
     "output_type": "execute_result"
    }
   ],
   "source": [
    "%%time\n",
    "score(D1),score(D2),score(D3),score(D4),score(D5)"
   ]
  },
  {
   "cell_type": "code",
   "execution_count": 87,
   "id": "3310f54b-baab-41de-8e0d-0333aaeef3fb",
   "metadata": {},
   "outputs": [],
   "source": [
    "p,q = 5,5"
   ]
  },
  {
   "cell_type": "code",
   "execution_count": 88,
   "id": "a6c03025-1518-4ce8-857c-dc09e03c9d31",
   "metadata": {},
   "outputs": [
    {
     "name": "stdout",
     "output_type": "stream",
     "text": [
      "CPU times: user 2min 7s, sys: 4.8 s, total: 2min 11s\n",
      "Wall time: 2min 12s\n"
     ]
    }
   ],
   "source": [
    "%%time\n",
    "D1 = DHFFEWBM(alter1,weight,p,q)\n",
    "D2 = DHFFEWBM(alter2,weight,p,q)\n",
    "D3 = DHFFEWBM(alter3,weight,p,q)\n",
    "D4 = DHFFEWBM(alter4,weight,p,q)\n",
    "D5 = DHFFEWBM(alter5,weight,p,q)"
   ]
  },
  {
   "cell_type": "code",
   "execution_count": 89,
   "id": "4fc355ab-8139-43a8-b3ba-a983b26af51f",
   "metadata": {},
   "outputs": [
    {
     "name": "stdout",
     "output_type": "stream",
     "text": [
      "CPU times: user 1.88 s, sys: 386 ms, total: 2.27 s\n",
      "Wall time: 2.28 s\n"
     ]
    },
    {
     "data": {
      "text/plain": [
       "(-0.38255087510294467,\n",
       " -0.2720465823660554,\n",
       " -0.3884553479084841,\n",
       " -0.26807406000563194,\n",
       " -0.3462065659779232)"
      ]
     },
     "execution_count": 89,
     "metadata": {},
     "output_type": "execute_result"
    }
   ],
   "source": [
    "%%time\n",
    "score(D1),score(D2),score(D3),score(D4),score(D5)"
   ]
  },
  {
   "cell_type": "code",
   "execution_count": 90,
   "id": "1bc8a5ac-0d57-4440-a819-f7ef3828406b",
   "metadata": {},
   "outputs": [],
   "source": [
    "p,q = 1,4"
   ]
  },
  {
   "cell_type": "code",
   "execution_count": 91,
   "id": "45d76210-82f6-47f5-972d-c35ecac9909c",
   "metadata": {},
   "outputs": [
    {
     "name": "stdout",
     "output_type": "stream",
     "text": [
      "CPU times: user 2min 7s, sys: 5.59 s, total: 2min 13s\n",
      "Wall time: 2min 14s\n"
     ]
    }
   ],
   "source": [
    "%%time\n",
    "D1 = DHFFEWBM(alter1,weight,p,q)\n",
    "D2 = DHFFEWBM(alter2,weight,p,q)\n",
    "D3 = DHFFEWBM(alter3,weight,p,q)\n",
    "D4 = DHFFEWBM(alter4,weight,p,q)\n",
    "D5 = DHFFEWBM(alter5,weight,p,q)"
   ]
  },
  {
   "cell_type": "code",
   "execution_count": 92,
   "id": "8d909249-554c-45bc-984a-597dc6e4f8b5",
   "metadata": {},
   "outputs": [
    {
     "name": "stdout",
     "output_type": "stream",
     "text": [
      "CPU times: user 1.9 s, sys: 1.42 s, total: 3.32 s\n",
      "Wall time: 3.32 s\n"
     ]
    },
    {
     "data": {
      "text/plain": [
       "(-0.39466154078630516,\n",
       " -0.2600248655617126,\n",
       " -0.38155239702741156,\n",
       " -0.26604254686246065,\n",
       " -0.3610890707215057)"
      ]
     },
     "execution_count": 92,
     "metadata": {},
     "output_type": "execute_result"
    }
   ],
   "source": [
    "%%time\n",
    "score(D1),score(D2),score(D3),score(D4),score(D5)"
   ]
  },
  {
   "cell_type": "code",
   "execution_count": 93,
   "id": "add34655-e828-49aa-b0d8-22934083799e",
   "metadata": {},
   "outputs": [],
   "source": [
    "p,q = 1,5"
   ]
  },
  {
   "cell_type": "code",
   "execution_count": 94,
   "id": "e1325b9f-ea82-45d7-86f2-a981142d665f",
   "metadata": {},
   "outputs": [
    {
     "name": "stdout",
     "output_type": "stream",
     "text": [
      "CPU times: user 2min 6s, sys: 4.76 s, total: 2min 11s\n",
      "Wall time: 2min 12s\n"
     ]
    }
   ],
   "source": [
    "%%time\n",
    "D1 = DHFFEWBM(alter1,weight,p,q)\n",
    "D2 = DHFFEWBM(alter2,weight,p,q)\n",
    "D3 = DHFFEWBM(alter3,weight,p,q)\n",
    "D4 = DHFFEWBM(alter4,weight,p,q)\n",
    "D5 = DHFFEWBM(alter5,weight,p,q)"
   ]
  },
  {
   "cell_type": "code",
   "execution_count": 95,
   "id": "57f15808-e8a0-4e87-a294-4a100d1ab80f",
   "metadata": {},
   "outputs": [
    {
     "name": "stdout",
     "output_type": "stream",
     "text": [
      "CPU times: user 1.8 s, sys: 358 ms, total: 2.15 s\n",
      "Wall time: 2.16 s\n"
     ]
    },
    {
     "data": {
      "text/plain": [
       "(-0.37082538081624994,\n",
       " -0.23027762492518045,\n",
       " -0.3607880123157137,\n",
       " -0.24026829323061905,\n",
       " -0.3444489081806445)"
      ]
     },
     "execution_count": 95,
     "metadata": {},
     "output_type": "execute_result"
    }
   ],
   "source": [
    "%%time\n",
    "score(D1),score(D2),score(D3),score(D4),score(D5)"
   ]
  },
  {
   "cell_type": "code",
   "execution_count": null,
   "id": "fb323faa-c5c0-4f34-9a62-92c51ecb3e6c",
   "metadata": {},
   "outputs": [],
   "source": []
  },
  {
   "cell_type": "code",
   "execution_count": null,
   "id": "7b0da093-629d-4c72-85c2-1604bfafa900",
   "metadata": {},
   "outputs": [],
   "source": []
  },
  {
   "cell_type": "code",
   "execution_count": null,
   "id": "8cb04072-93ea-45b2-9949-b99306ebcb1c",
   "metadata": {},
   "outputs": [],
   "source": []
  },
  {
   "cell_type": "code",
   "execution_count": null,
   "id": "3a7826b8-4624-4f08-b16d-fa4c27183c4e",
   "metadata": {},
   "outputs": [],
   "source": [
    "## 无权重"
   ]
  },
  {
   "cell_type": "code",
   "execution_count": 17,
   "id": "acf0ca7b-4b15-4df3-8b94-009f5a9d4d47",
   "metadata": {},
   "outputs": [],
   "source": [
    "p,q = 1,1"
   ]
  },
  {
   "cell_type": "code",
   "execution_count": 18,
   "id": "266f6634",
   "metadata": {},
   "outputs": [
    {
     "name": "stdout",
     "output_type": "stream",
     "text": [
      "CPU times: user 2min 6s, sys: 2.98 s, total: 2min 9s\n",
      "Wall time: 2min 9s\n"
     ]
    }
   ],
   "source": [
    "%%time\n",
    "dhffewbm1 = DHFFEWBM(alter1,0,p,q)\n",
    "dhffewbm2 = DHFFEWBM(alter2,0,p,q)\n",
    "dhffewbm3 = DHFFEWBM(alter3,0,p,q)\n",
    "dhffewbm4 = DHFFEWBM(alter4,0,p,q)\n",
    "dhffewbm5 = DHFFEWBM(alter5,0,p,q)"
   ]
  },
  {
   "cell_type": "code",
   "execution_count": 19,
   "id": "a5a30ff0",
   "metadata": {},
   "outputs": [
    {
     "name": "stdout",
     "output_type": "stream",
     "text": [
      "CPU times: user 1.69 s, sys: 89.4 ms, total: 1.78 s\n",
      "Wall time: 1.77 s\n"
     ]
    },
    {
     "data": {
      "text/plain": [
       "(0.23854588827155898,\n",
       " 0.45363630987118786,\n",
       " 0.2826905135228913,\n",
       " 0.42714066810436546,\n",
       " 0.41629906285856466)"
      ]
     },
     "execution_count": 19,
     "metadata": {},
     "output_type": "execute_result"
    }
   ],
   "source": [
    "%%time\n",
    "score(dhffewbm1),score(dhffewbm2),score(dhffewbm3),score(dhffewbm4),score(dhffewbm5),"
   ]
  },
  {
   "cell_type": "code",
   "execution_count": null,
   "id": "b9fe129a-1a5d-40e0-813c-4c08c53467f0",
   "metadata": {},
   "outputs": [],
   "source": []
  },
  {
   "cell_type": "code",
   "execution_count": 20,
   "id": "e0d266b3-a729-4685-9dfe-1df744cf39dd",
   "metadata": {},
   "outputs": [],
   "source": [
    "## 加权"
   ]
  },
  {
   "cell_type": "code",
   "execution_count": 21,
   "id": "55f74d34",
   "metadata": {},
   "outputs": [
    {
     "name": "stdout",
     "output_type": "stream",
     "text": [
      "CPU times: user 2min 6s, sys: 3 s, total: 2min 9s\n",
      "Wall time: 2min 9s\n"
     ]
    }
   ],
   "source": [
    "%%time\n",
    "## 对偶犹豫费马模糊爱因斯坦加权 BM\n",
    "dhffewbm1 = DHFFEWBM(alter1,weight,p,q)\n",
    "dhffewbm2 = DHFFEWBM(alter2,weight,p,q)\n",
    "dhffewbm3 = DHFFEWBM(alter3,weight,p,q)\n",
    "dhffewbm4 = DHFFEWBM(alter4,weight,p,q)\n",
    "dhffewbm5 = DHFFEWBM(alter5,weight,p,q)"
   ]
  },
  {
   "cell_type": "code",
   "execution_count": 22,
   "id": "962ba00c",
   "metadata": {},
   "outputs": [
    {
     "name": "stdout",
     "output_type": "stream",
     "text": [
      "CPU times: user 1.72 s, sys: 83.2 ms, total: 1.81 s\n",
      "Wall time: 1.81 s\n"
     ]
    },
    {
     "data": {
      "text/plain": [
       "(-0.47532883027909034,\n",
       " -0.36214391240237054,\n",
       " -0.4628803837747997,\n",
       " -0.3755049856061955,\n",
       " -0.42081020700156296)"
      ]
     },
     "execution_count": 22,
     "metadata": {},
     "output_type": "execute_result"
    }
   ],
   "source": [
    "%%time\n",
    "score(dhffewbm1),score(dhffewbm2),score(dhffewbm3),score(dhffewbm4),score(dhffewbm5)"
   ]
  },
  {
   "cell_type": "code",
   "execution_count": null,
   "id": "94b230b3-8d78-46b9-8bb1-6f8d25874028",
   "metadata": {},
   "outputs": [],
   "source": []
  },
  {
   "cell_type": "code",
   "execution_count": null,
   "id": "2ced05e6-c681-4b07-a8b5-cdbdd4e6dc03",
   "metadata": {},
   "outputs": [],
   "source": []
  },
  {
   "cell_type": "code",
   "execution_count": null,
   "id": "7164e8af-4269-4234-9709-18bef0841a97",
   "metadata": {},
   "outputs": [],
   "source": []
  },
  {
   "cell_type": "code",
   "execution_count": 23,
   "id": "e9ec5c13-d3e2-477a-a4c4-b327ab7d1393",
   "metadata": {},
   "outputs": [
    {
     "name": "stdout",
     "output_type": "stream",
     "text": [
      "CPU times: user 2min 6s, sys: 2.83 s, total: 2min 9s\n",
      "Wall time: 2min 9s\n"
     ]
    }
   ],
   "source": [
    "%%time\n",
    "## 对偶犹豫费马模糊加权 BM\n",
    "dhffwbm1 = DHFFWBM(alter1,weight,p,q)\n",
    "dhffwbm2 = DHFFWBM(alter2,weight,p,q)\n",
    "dhffwbm3 = DHFFWBM(alter3,weight,p,q)\n",
    "dhffwbm4 = DHFFWBM(alter4,weight,p,q)\n",
    "dhffwbm5 = DHFFWBM(alter5,weight,p,q)"
   ]
  },
  {
   "cell_type": "code",
   "execution_count": 24,
   "id": "a4a527be-ce89-4c79-a3c3-7a1e2833e489",
   "metadata": {},
   "outputs": [
    {
     "name": "stdout",
     "output_type": "stream",
     "text": [
      "CPU times: user 1.73 s, sys: 92.5 ms, total: 1.82 s\n",
      "Wall time: 1.82 s\n"
     ]
    },
    {
     "data": {
      "text/plain": [
       "(-0.4208093037711416,\n",
       " -0.29362767528264544,\n",
       " -0.4068761684862422,\n",
       " -0.3037451006283961,\n",
       " -0.3480939075549452)"
      ]
     },
     "execution_count": 24,
     "metadata": {},
     "output_type": "execute_result"
    }
   ],
   "source": [
    "%%time\n",
    "score(dhffwbm1),score(dhffwbm2),score(dhffwbm3),score(dhffwbm4),score(dhffwbm5)"
   ]
  },
  {
   "cell_type": "code",
   "execution_count": 25,
   "id": "bc98492a-5a60-4e7f-9d18-bf80e56c333f",
   "metadata": {},
   "outputs": [
    {
     "name": "stdout",
     "output_type": "stream",
     "text": [
      "CPU times: user 269 µs, sys: 3 µs, total: 272 µs\n",
      "Wall time: 272 µs\n"
     ]
    }
   ],
   "source": [
    "%%time\n",
    "## 对偶犹豫费马模糊爱因斯坦加权平均\n",
    "dhffewa1 = DHFFEWA(alter1,weight)\n",
    "dhffewa2 = DHFFEWA(alter2,weight)\n",
    "dhffewa3 = DHFFEWA(alter3,weight)\n",
    "dhffewa4 = DHFFEWA(alter4,weight)\n",
    "dhffewa5 = DHFFEWA(alter5,weight)"
   ]
  },
  {
   "cell_type": "code",
   "execution_count": 26,
   "id": "94ce19dc-29eb-4bda-8b87-82811f3335bc",
   "metadata": {},
   "outputs": [
    {
     "name": "stdout",
     "output_type": "stream",
     "text": [
      "CPU times: user 12 µs, sys: 0 ns, total: 12 µs\n",
      "Wall time: 14.8 µs\n"
     ]
    },
    {
     "data": {
      "text/plain": [
       "(0.29555952547401254,\n",
       " 0.5450837025132532,\n",
       " 0.3327008497237839,\n",
       " 0.5150594746304695,\n",
       " 0.43598371827772553)"
      ]
     },
     "execution_count": 26,
     "metadata": {},
     "output_type": "execute_result"
    }
   ],
   "source": [
    "%%time\n",
    "score(dhffewa1),score(dhffewa2),score(dhffewa3),score(dhffewa4),score(dhffewa5)"
   ]
  },
  {
   "cell_type": "code",
   "execution_count": 27,
   "id": "67fdcc3c-e76a-4bc9-8cfa-8a8d9e64223d",
   "metadata": {},
   "outputs": [
    {
     "name": "stdout",
     "output_type": "stream",
     "text": [
      "CPU times: user 267 µs, sys: 1 µs, total: 268 µs\n",
      "Wall time: 271 µs\n"
     ]
    }
   ],
   "source": [
    "%%time\n",
    "## 对偶犹豫费马模糊爱因斯坦加权几何\n",
    "dhffewg1 = DHFFEWG(alter1,weight)\n",
    "dhffewg2 = DHFFEWG(alter2,weight)\n",
    "dhffewg3 = DHFFEWG(alter3,weight)\n",
    "dhffewg4 = DHFFEWG(alter4,weight)\n",
    "dhffewg5 = DHFFEWG(alter5,weight)"
   ]
  },
  {
   "cell_type": "code",
   "execution_count": 28,
   "id": "1826e46f-1aa6-4714-801e-951eaf210e44",
   "metadata": {},
   "outputs": [
    {
     "name": "stdout",
     "output_type": "stream",
     "text": [
      "CPU times: user 12 µs, sys: 1e+03 ns, total: 13 µs\n",
      "Wall time: 14.1 µs\n"
     ]
    },
    {
     "data": {
      "text/plain": [
       "(0.17217019998350475,\n",
       " 0.42682863821554407,\n",
       " 0.2665799139863351,\n",
       " 0.38822850175528456,\n",
       " 0.3143936201631823)"
      ]
     },
     "execution_count": 28,
     "metadata": {},
     "output_type": "execute_result"
    }
   ],
   "source": [
    "%%time\n",
    "score(dhffewg1),score(dhffewg2),score(dhffewg3),score(dhffewg4),score(dhffewg5)"
   ]
  },
  {
   "cell_type": "code",
   "execution_count": 29,
   "id": "9d96841e-264b-4e55-b857-927a8ca08b6f",
   "metadata": {},
   "outputs": [
    {
     "name": "stdout",
     "output_type": "stream",
     "text": [
      "CPU times: user 242 µs, sys: 0 ns, total: 242 µs\n",
      "Wall time: 245 µs\n"
     ]
    }
   ],
   "source": [
    "%%time\n",
    "## 对偶犹豫费马模糊加权平均\n",
    "dhffwa1 = DHFFWA(alter1,weight)\n",
    "dhffwa2 = DHFFWA(alter2,weight)\n",
    "dhffwa3 = DHFFWA(alter3,weight)\n",
    "dhffwa4 = DHFFWA(alter4,weight)\n",
    "dhffwa5 = DHFFWA(alter5,weight)"
   ]
  },
  {
   "cell_type": "code",
   "execution_count": 30,
   "id": "289d08e2-2910-4bd4-844f-8ba3227ff5f2",
   "metadata": {},
   "outputs": [
    {
     "name": "stdout",
     "output_type": "stream",
     "text": [
      "CPU times: user 11 µs, sys: 0 ns, total: 11 µs\n",
      "Wall time: 13.8 µs\n"
     ]
    },
    {
     "data": {
      "text/plain": [
       "(0.3052710610657653,\n",
       " 0.5496251916896102,\n",
       " 0.33942504691891306,\n",
       " 0.5268471399200007,\n",
       " 0.4445975584434225)"
      ]
     },
     "execution_count": 30,
     "metadata": {},
     "output_type": "execute_result"
    }
   ],
   "source": [
    "%%time\n",
    "score(dhffwa1),score(dhffwa2),score(dhffwa3),score(dhffwa4),score(dhffwa5)"
   ]
  },
  {
   "cell_type": "code",
   "execution_count": 31,
   "id": "de0a284c-e10d-4200-aad1-5b0cd31517f9",
   "metadata": {},
   "outputs": [
    {
     "name": "stdout",
     "output_type": "stream",
     "text": [
      "CPU times: user 300 µs, sys: 1 µs, total: 301 µs\n",
      "Wall time: 306 µs\n"
     ]
    }
   ],
   "source": [
    "%%time\n",
    "## 对偶犹豫费马模糊加权几何\n",
    "dhffwg1 = DHFFWG(alter1,weight)\n",
    "dhffwg2 = DHFFWG(alter2,weight)\n",
    "dhffwg3 = DHFFWG(alter3,weight)\n",
    "dhffwg4 = DHFFWG(alter4,weight)\n",
    "dhffwg5 = DHFFWG(alter5,weight)"
   ]
  },
  {
   "cell_type": "code",
   "execution_count": 32,
   "id": "e2d2cb0b-2d1b-45ad-a683-d67d4ff14c49",
   "metadata": {},
   "outputs": [
    {
     "name": "stdout",
     "output_type": "stream",
     "text": [
      "CPU times: user 10 µs, sys: 0 ns, total: 10 µs\n",
      "Wall time: 11.9 µs\n"
     ]
    },
    {
     "data": {
      "text/plain": [
       "(0.16343094384948298,\n",
       " 0.4199818696679063,\n",
       " 0.2594189055497391,\n",
       " 0.37435981153286724,\n",
       " 0.3049886697087516)"
      ]
     },
     "execution_count": 32,
     "metadata": {},
     "output_type": "execute_result"
    }
   ],
   "source": [
    "%%time\n",
    "score(dhffwg1),score(dhffwg2),score(dhffwg3),score(dhffwg4),score(dhffwg5)"
   ]
  },
  {
   "cell_type": "code",
   "execution_count": null,
   "id": "60c9a6cc-2e54-44f6-ae34-7245ce62d780",
   "metadata": {},
   "outputs": [],
   "source": []
  },
  {
   "cell_type": "code",
   "execution_count": 33,
   "id": "1ed30927-9cfa-4c2b-a4d4-ef100b80c705",
   "metadata": {},
   "outputs": [],
   "source": [
    "b11 = DHPFE([0.5],[0.4,0.5])\n",
    "b12 = DHPFE([0.5,0.6],[0.2])\n",
    "b13 = DHPFE([0.7],[0.1,0.4])\n",
    "b14 = DHPFE([0.5,0.8],[0.5])\n",
    "b15 = DHPFE([0.8],[0.6])\n",
    "\n",
    "b21 = DHPFE([0.9,0.8],[0.3])\n",
    "b22 = DHPFE([0.6],[0.3])\n",
    "b23 = DHPFE([0.7,0.8],[0.5])\n",
    "b24 = DHPFE([0.8],[0.1])\n",
    "b25 = DHPFE([0.7,0.8],[0.2,0.3])\n",
    "\n",
    "b31 = DHPFE([0.6,0.7],[0.3])\n",
    "b32 = DHPFE([0.5,0.7],[0.4])\n",
    "b33 = DHPFE([0.4,0.6],[0.2,0.5])\n",
    "b34 = DHPFE([0.8],[0.3,0.4])\n",
    "b35 = DHPFE([0.7],[0.5])\n",
    "\n",
    "b41 = DHPFE([0.5],[0.4])\n",
    "b42 = DHPFE([0.6,0.8],[0.1])\n",
    "b43 = DHPFE([0.8],[0.2,0.4])\n",
    "b44 = DHPFE([0.9],[0.2,0.3])\n",
    "b45 = DHPFE([0.5,0.7],[0.5,0.3])\n",
    "\n",
    "b51 = DHPFE([0.5,0.8],[0.2])\n",
    "b52 = DHPFE([0.8],[0.1,0.2])\n",
    "b53 = DHPFE([0.7,0.8],[0.5])\n",
    "b54 = DHPFE([0.5],[0.2])\n",
    "b55 = DHPFE([0.6],[0.2,0.3])"
   ]
  },
  {
   "cell_type": "code",
   "execution_count": 34,
   "id": "8c836d3a-9552-4b84-b9bd-7ad7451e0be3",
   "metadata": {},
   "outputs": [],
   "source": [
    "alter1 = [b11,b12,b13,b14,b15]\n",
    "alter2 = [b21,b22,b23,b24,b25]\n",
    "alter3 = [b31,b32,b33,b34,b35]\n",
    "alter4 = [b41,b42,b43,b44,b45]\n",
    "alter5 = [b51,b52,b53,b54,b55]\n",
    "weight = [0.2,0.15,0.2,0.3,0.15]"
   ]
  },
  {
   "cell_type": "code",
   "execution_count": 35,
   "id": "68ebb0e2-a214-4a71-a1f7-9900911961be",
   "metadata": {},
   "outputs": [
    {
     "name": "stdout",
     "output_type": "stream",
     "text": [
      "CPU times: user 2min 7s, sys: 3.23 s, total: 2min 10s\n",
      "Wall time: 2min 10s\n"
     ]
    }
   ],
   "source": [
    "%%time\n",
    "## 对偶犹豫毕达哥拉斯模糊爱因斯坦加权 BM\n",
    "dhpfewbm1 = DHPFEWBM(alter1,weight,p,q)\n",
    "dhpfewbm2 = DHPFEWBM(alter2,weight,p,q)\n",
    "dhpfewbm3 = DHPFEWBM(alter3,weight,p,q)\n",
    "dhpfewbm4 = DHPFEWBM(alter4,weight,p,q)\n",
    "dhpfewbm5 = DHPFEWBM(alter5,weight,p,q)"
   ]
  },
  {
   "cell_type": "code",
   "execution_count": 36,
   "id": "4107a96f-076e-4f71-985f-6db8539c7f12",
   "metadata": {},
   "outputs": [
    {
     "name": "stdout",
     "output_type": "stream",
     "text": [
      "CPU times: user 1.8 s, sys: 799 ms, total: 2.6 s\n",
      "Wall time: 2.6 s\n"
     ]
    },
    {
     "data": {
      "text/plain": [
       "(-0.5601122353491639,\n",
       " -0.4508169088862678,\n",
       " -0.5475093056483056,\n",
       " -0.4679091420845122,\n",
       " -0.5073556800952648)"
      ]
     },
     "execution_count": 36,
     "metadata": {},
     "output_type": "execute_result"
    }
   ],
   "source": [
    "%%time\n",
    "score(dhpfewbm1),score(dhpfewbm2),score(dhpfewbm3),score(dhpfewbm4),score(dhpfewbm5)"
   ]
  },
  {
   "cell_type": "code",
   "execution_count": 37,
   "id": "0f5fecf8-0cb2-4ee0-9642-fb6e96980336",
   "metadata": {},
   "outputs": [
    {
     "name": "stdout",
     "output_type": "stream",
     "text": [
      "CPU times: user 2min 7s, sys: 3.35 s, total: 2min 11s\n",
      "Wall time: 2min 11s\n"
     ]
    }
   ],
   "source": [
    "%%time\n",
    "## 对偶犹豫毕达哥拉斯模糊加权 BM\n",
    "dhpfwbm1 = DHPFWBM(alter1,weight,p,q)\n",
    "dhpfwbm2 = DHPFWBM(alter2,weight,p,q)\n",
    "dhpfwbm3 = DHPFWBM(alter3,weight,p,q)\n",
    "dhpfwbm4 = DHPFWBM(alter4,weight,p,q)\n",
    "dhpfwbm5 = DHPFWBM(alter5,weight,p,q)"
   ]
  },
  {
   "cell_type": "code",
   "execution_count": 38,
   "id": "417b4062-387d-4300-8791-340b8a34d899",
   "metadata": {},
   "outputs": [
    {
     "name": "stdout",
     "output_type": "stream",
     "text": [
      "CPU times: user 1.8 s, sys: 795 ms, total: 2.6 s\n",
      "Wall time: 2.6 s\n"
     ]
    },
    {
     "data": {
      "text/plain": [
       "(-0.4987561383826206,\n",
       " -0.37117803340720673,\n",
       " -0.4849886940507187,\n",
       " -0.3876706315692435,\n",
       " -0.42557685582426685)"
      ]
     },
     "execution_count": 38,
     "metadata": {},
     "output_type": "execute_result"
    }
   ],
   "source": [
    "%%time\n",
    "score(dhpfwbm1),score(dhpfwbm2),score(dhpfwbm3),score(dhpfwbm4),score(dhpfwbm5)"
   ]
  },
  {
   "cell_type": "code",
   "execution_count": 39,
   "id": "47825f25-9652-4f0b-bde2-43a12e0cdc76",
   "metadata": {},
   "outputs": [
    {
     "name": "stdout",
     "output_type": "stream",
     "text": [
      "CPU times: user 261 µs, sys: 7 µs, total: 268 µs\n",
      "Wall time: 271 µs\n"
     ]
    }
   ],
   "source": [
    "%%time\n",
    "## 对偶犹豫毕达哥拉斯模糊爱因斯坦加权平均\n",
    "dhpfewa1 = DHPFEWA(alter1,weight)\n",
    "dhpfewa2 = DHPFEWA(alter2,weight)\n",
    "dhpfewa3 = DHPFEWA(alter3,weight)\n",
    "dhpfewa4 = DHPFEWA(alter4,weight)\n",
    "dhpfewa5 = DHPFEWA(alter5,weight)"
   ]
  },
  {
   "cell_type": "code",
   "execution_count": 40,
   "id": "9814dd94-e496-4406-a41f-bc280d8a928a",
   "metadata": {},
   "outputs": [
    {
     "name": "stdout",
     "output_type": "stream",
     "text": [
      "CPU times: user 12 µs, sys: 1 µs, total: 13 µs\n",
      "Wall time: 14.8 µs\n"
     ]
    },
    {
     "data": {
      "text/plain": [
       "(0.28625595701002193,\n",
       " 0.5418223809567975,\n",
       " 0.3260820300316217,\n",
       " 0.5071271066998957,\n",
       " 0.4276895575061235)"
      ]
     },
     "execution_count": 40,
     "metadata": {},
     "output_type": "execute_result"
    }
   ],
   "source": [
    "%%time\n",
    "score(dhpfewa1),score(dhpfewa2),score(dhpfewa3),score(dhpfewa4),score(dhpfewa5)"
   ]
  },
  {
   "cell_type": "code",
   "execution_count": 41,
   "id": "d3adf268-70ee-490b-9465-9222a1c8660e",
   "metadata": {},
   "outputs": [
    {
     "name": "stdout",
     "output_type": "stream",
     "text": [
      "CPU times: user 389 µs, sys: 41 µs, total: 430 µs\n",
      "Wall time: 462 µs\n"
     ]
    }
   ],
   "source": [
    "%%time\n",
    "## 对偶犹豫毕达哥拉斯模糊加权平均\n",
    "dhpfwa1 = DHPFWA(alter1,weight)\n",
    "dhpfwa2 = DHPFWA(alter2,weight)\n",
    "dhpfwa3 = DHPFWA(alter3,weight)\n",
    "dhpfwa4 = DHPFWA(alter4,weight)\n",
    "dhpfwa5 = DHPFWA(alter5,weight)"
   ]
  },
  {
   "cell_type": "code",
   "execution_count": 42,
   "id": "e95a9523-1db3-40de-a332-b52cc7e49b57",
   "metadata": {},
   "outputs": [
    {
     "name": "stdout",
     "output_type": "stream",
     "text": [
      "CPU times: user 11 µs, sys: 0 ns, total: 11 µs\n",
      "Wall time: 13.1 µs\n"
     ]
    },
    {
     "data": {
      "text/plain": [
       "(0.29808297695872854,\n",
       " 0.5472769346463713,\n",
       " 0.3334325501363782,\n",
       " 0.5190358402269464,\n",
       " 0.4368467612265594)"
      ]
     },
     "execution_count": 42,
     "metadata": {},
     "output_type": "execute_result"
    }
   ],
   "source": [
    "%%time\n",
    "score(dhpfwa1),score(dhpfwa2),score(dhpfwa3),score(dhpfwa4),score(dhpfwa5)"
   ]
  },
  {
   "cell_type": "code",
   "execution_count": null,
   "id": "f967989d-6ed1-46ab-8c60-97816b3667ad",
   "metadata": {},
   "outputs": [],
   "source": []
  },
  {
   "cell_type": "code",
   "execution_count": null,
   "id": "55eeaa5d-5b7f-4174-bed0-63b898cb07ac",
   "metadata": {},
   "outputs": [],
   "source": []
  },
  {
   "cell_type": "code",
   "execution_count": null,
   "id": "052b8db7-5b89-4132-a284-ef47a55e04cd",
   "metadata": {},
   "outputs": [],
   "source": []
  },
  {
   "cell_type": "code",
   "execution_count": null,
   "id": "0d2533e5-133c-4ebd-8975-9da2c3b9fd01",
   "metadata": {},
   "outputs": [],
   "source": []
  }
 ],
 "metadata": {
  "kernelspec": {
   "display_name": "Python 3 (ipykernel)",
   "language": "python",
   "name": "python3"
  },
  "language_info": {
   "codemirror_mode": {
    "name": "ipython",
    "version": 3
   },
   "file_extension": ".py",
   "mimetype": "text/x-python",
   "name": "python",
   "nbconvert_exporter": "python",
   "pygments_lexer": "ipython3",
   "version": "3.8.12"
  }
 },
 "nbformat": 4,
 "nbformat_minor": 5
}
