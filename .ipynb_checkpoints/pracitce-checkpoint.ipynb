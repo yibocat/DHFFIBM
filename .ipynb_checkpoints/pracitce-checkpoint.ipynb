{
 "cells": [
  {
   "cell_type": "code",
   "execution_count": 1,
   "id": "18adffac-91e4-4b6c-b3fe-7ed91ab0526e",
   "metadata": {},
   "outputs": [],
   "source": [
    "from InteractionFNs import *\n",
    "from FNs import *\n",
    "import math\n",
    "from math import pow\n",
    "from Archimedean import *"
   ]
  },
  {
   "cell_type": "code",
   "execution_count": null,
   "id": "9ab305d5-8b2e-4879-8fc6-69493ac80ce5",
   "metadata": {},
   "outputs": [],
   "source": []
  },
  {
   "cell_type": "code",
   "execution_count": null,
   "id": "d85813ec-bee1-403f-9860-0192cfa8ac02",
   "metadata": {},
   "outputs": [],
   "source": []
  },
  {
   "cell_type": "code",
   "execution_count": null,
   "id": "191e5495-a57b-43d7-b46b-cb1f193f76c7",
   "metadata": {},
   "outputs": [],
   "source": []
  },
  {
   "cell_type": "code",
   "execution_count": null,
   "id": "5ab7be2d-4b1c-439e-b883-fc21cc6fafed",
   "metadata": {},
   "outputs": [],
   "source": []
  },
  {
   "cell_type": "code",
   "execution_count": null,
   "id": "578e69f3-4c6e-4621-a570-4133229a8954",
   "metadata": {},
   "outputs": [],
   "source": []
  }
 ],
 "metadata": {
  "kernelspec": {
   "display_name": "Python 3 (ipykernel)",
   "language": "python",
   "name": "python3"
  },
  "language_info": {
   "codemirror_mode": {
    "name": "ipython",
    "version": 3
   },
   "file_extension": ".py",
   "mimetype": "text/x-python",
   "name": "python",
   "nbconvert_exporter": "python",
   "pygments_lexer": "ipython3",
   "version": "3.8.12"
  }
 },
 "nbformat": 4,
 "nbformat_minor": 5
}
